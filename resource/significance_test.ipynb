{
 "cells": [
  {
   "cell_type": "code",
   "execution_count": 14,
   "metadata": {},
   "outputs": [],
   "source": [
    "import pandas as pd\n",
    "from scipy import stats\n",
    "import numpy as np"
   ]
  },
  {
   "cell_type": "code",
   "execution_count": 2,
   "metadata": {},
   "outputs": [],
   "source": [
    "test = pd.read_csv('performance_variation_topic_label.csv')"
   ]
  },
  {
   "cell_type": "code",
   "execution_count": 24,
   "metadata": {},
   "outputs": [
    {
     "data": {
      "text/html": [
       "<div>\n",
       "<style scoped>\n",
       "    .dataframe tbody tr th:only-of-type {\n",
       "        vertical-align: middle;\n",
       "    }\n",
       "\n",
       "    .dataframe tbody tr th {\n",
       "        vertical-align: top;\n",
       "    }\n",
       "\n",
       "    .dataframe thead th {\n",
       "        text-align: right;\n",
       "    }\n",
       "</style>\n",
       "<table border=\"1\" class=\"dataframe\">\n",
       "  <thead>\n",
       "    <tr style=\"text-align: right;\">\n",
       "      <th></th>\n",
       "      <th>name</th>\n",
       "      <th>perf</th>\n",
       "      <th>topic</th>\n",
       "      <th>label</th>\n",
       "      <th>domain_var</th>\n",
       "    </tr>\n",
       "  </thead>\n",
       "  <tbody>\n",
       "    <tr>\n",
       "      <th>0</th>\n",
       "      <td>ALM-Sandy</td>\n",
       "      <td>0.446</td>\n",
       "      <td>0.250</td>\n",
       "      <td>0.014</td>\n",
       "      <td>0.264</td>\n",
       "    </tr>\n",
       "    <tr>\n",
       "      <th>1</th>\n",
       "      <td>ALM-Election</td>\n",
       "      <td>0.405</td>\n",
       "      <td>0.053</td>\n",
       "      <td>0.180</td>\n",
       "      <td>0.233</td>\n",
       "    </tr>\n",
       "    <tr>\n",
       "      <th>2</th>\n",
       "      <td>ALM-BLM</td>\n",
       "      <td>0.110</td>\n",
       "      <td>0.019</td>\n",
       "      <td>0.021</td>\n",
       "      <td>0.040</td>\n",
       "    </tr>\n",
       "    <tr>\n",
       "      <th>3</th>\n",
       "      <td>ALM-Baltimore</td>\n",
       "      <td>0.413</td>\n",
       "      <td>0.300</td>\n",
       "      <td>0.200</td>\n",
       "      <td>0.500</td>\n",
       "    </tr>\n",
       "    <tr>\n",
       "      <th>4</th>\n",
       "      <td>Baltimore-Sandy</td>\n",
       "      <td>0.450</td>\n",
       "      <td>0.260</td>\n",
       "      <td>0.180</td>\n",
       "      <td>0.440</td>\n",
       "    </tr>\n",
       "    <tr>\n",
       "      <th>5</th>\n",
       "      <td>Baltimore-Election</td>\n",
       "      <td>0.090</td>\n",
       "      <td>0.120</td>\n",
       "      <td>0.004</td>\n",
       "      <td>0.124</td>\n",
       "    </tr>\n",
       "    <tr>\n",
       "      <th>6</th>\n",
       "      <td>Baltimore-BLM</td>\n",
       "      <td>0.330</td>\n",
       "      <td>0.290</td>\n",
       "      <td>0.160</td>\n",
       "      <td>0.450</td>\n",
       "    </tr>\n",
       "    <tr>\n",
       "      <th>7</th>\n",
       "      <td>Baltimore-ALM</td>\n",
       "      <td>0.380</td>\n",
       "      <td>0.300</td>\n",
       "      <td>0.200</td>\n",
       "      <td>0.500</td>\n",
       "    </tr>\n",
       "    <tr>\n",
       "      <th>8</th>\n",
       "      <td>BLM-Sandy</td>\n",
       "      <td>0.580</td>\n",
       "      <td>0.310</td>\n",
       "      <td>0.016</td>\n",
       "      <td>0.326</td>\n",
       "    </tr>\n",
       "    <tr>\n",
       "      <th>9</th>\n",
       "      <td>BLM-Election</td>\n",
       "      <td>0.390</td>\n",
       "      <td>0.065</td>\n",
       "      <td>0.150</td>\n",
       "      <td>0.215</td>\n",
       "    </tr>\n",
       "    <tr>\n",
       "      <th>10</th>\n",
       "      <td>BLM-Baltimore</td>\n",
       "      <td>0.360</td>\n",
       "      <td>0.290</td>\n",
       "      <td>0.160</td>\n",
       "      <td>0.450</td>\n",
       "    </tr>\n",
       "    <tr>\n",
       "      <th>11</th>\n",
       "      <td>BLM-ALM</td>\n",
       "      <td>0.230</td>\n",
       "      <td>0.019</td>\n",
       "      <td>0.021</td>\n",
       "      <td>0.040</td>\n",
       "    </tr>\n",
       "    <tr>\n",
       "      <th>12</th>\n",
       "      <td>Election-Sandy</td>\n",
       "      <td>0.410</td>\n",
       "      <td>0.190</td>\n",
       "      <td>0.160</td>\n",
       "      <td>0.350</td>\n",
       "    </tr>\n",
       "    <tr>\n",
       "      <th>13</th>\n",
       "      <td>Election-Baltimore</td>\n",
       "      <td>0.040</td>\n",
       "      <td>0.120</td>\n",
       "      <td>0.004</td>\n",
       "      <td>0.124</td>\n",
       "    </tr>\n",
       "    <tr>\n",
       "      <th>14</th>\n",
       "      <td>Election-BLM</td>\n",
       "      <td>0.250</td>\n",
       "      <td>0.065</td>\n",
       "      <td>0.150</td>\n",
       "      <td>0.215</td>\n",
       "    </tr>\n",
       "    <tr>\n",
       "      <th>15</th>\n",
       "      <td>Election-ALM</td>\n",
       "      <td>0.280</td>\n",
       "      <td>0.053</td>\n",
       "      <td>0.180</td>\n",
       "      <td>0.233</td>\n",
       "    </tr>\n",
       "    <tr>\n",
       "      <th>16</th>\n",
       "      <td>Sandy-Baltimore</td>\n",
       "      <td>0.387</td>\n",
       "      <td>0.260</td>\n",
       "      <td>0.180</td>\n",
       "      <td>0.440</td>\n",
       "    </tr>\n",
       "    <tr>\n",
       "      <th>17</th>\n",
       "      <td>Sandy-Election</td>\n",
       "      <td>0.341</td>\n",
       "      <td>0.190</td>\n",
       "      <td>0.160</td>\n",
       "      <td>0.350</td>\n",
       "    </tr>\n",
       "    <tr>\n",
       "      <th>18</th>\n",
       "      <td>Sandy-BLM</td>\n",
       "      <td>0.332</td>\n",
       "      <td>0.310</td>\n",
       "      <td>0.016</td>\n",
       "      <td>0.326</td>\n",
       "    </tr>\n",
       "    <tr>\n",
       "      <th>19</th>\n",
       "      <td>Sandy-ALM</td>\n",
       "      <td>0.250</td>\n",
       "      <td>0.250</td>\n",
       "      <td>0.014</td>\n",
       "      <td>0.264</td>\n",
       "    </tr>\n",
       "  </tbody>\n",
       "</table>\n",
       "</div>"
      ],
      "text/plain": [
       "                  name   perf  topic  label  domain_var\n",
       "0            ALM-Sandy  0.446  0.250  0.014       0.264\n",
       "1         ALM-Election  0.405  0.053  0.180       0.233\n",
       "2              ALM-BLM  0.110  0.019  0.021       0.040\n",
       "3        ALM-Baltimore  0.413  0.300  0.200       0.500\n",
       "4      Baltimore-Sandy  0.450  0.260  0.180       0.440\n",
       "5   Baltimore-Election  0.090  0.120  0.004       0.124\n",
       "6        Baltimore-BLM  0.330  0.290  0.160       0.450\n",
       "7        Baltimore-ALM  0.380  0.300  0.200       0.500\n",
       "8            BLM-Sandy  0.580  0.310  0.016       0.326\n",
       "9         BLM-Election  0.390  0.065  0.150       0.215\n",
       "10       BLM-Baltimore  0.360  0.290  0.160       0.450\n",
       "11             BLM-ALM  0.230  0.019  0.021       0.040\n",
       "12      Election-Sandy  0.410  0.190  0.160       0.350\n",
       "13  Election-Baltimore  0.040  0.120  0.004       0.124\n",
       "14        Election-BLM  0.250  0.065  0.150       0.215\n",
       "15        Election-ALM  0.280  0.053  0.180       0.233\n",
       "16     Sandy-Baltimore  0.387  0.260  0.180       0.440\n",
       "17      Sandy-Election  0.341  0.190  0.160       0.350\n",
       "18           Sandy-BLM  0.332  0.310  0.016       0.326\n",
       "19           Sandy-ALM  0.250  0.250  0.014       0.264"
      ]
     },
     "execution_count": 24,
     "metadata": {},
     "output_type": "execute_result"
    }
   ],
   "source": [
    "test"
   ]
  },
  {
   "cell_type": "code",
   "execution_count": 6,
   "metadata": {},
   "outputs": [
    {
     "data": {
      "text/plain": [
       "Index(['name', 'perf', 'topic', 'label', 'domain_var'], dtype='object')"
      ]
     },
     "execution_count": 6,
     "metadata": {},
     "output_type": "execute_result"
    }
   ],
   "source": [
    "test.columns"
   ]
  },
  {
   "cell_type": "code",
   "execution_count": 5,
   "metadata": {},
   "outputs": [
    {
     "data": {
      "text/plain": [
       "NormaltestResult(statistic=9.482181437084442, pvalue=0.008729119978194758)"
      ]
     },
     "execution_count": 5,
     "metadata": {},
     "output_type": "execute_result"
    }
   ],
   "source": [
    "stats.normaltest(test['topic'])"
   ]
  },
  {
   "cell_type": "code",
   "execution_count": 7,
   "metadata": {},
   "outputs": [
    {
     "data": {
      "text/plain": [
       "NormaltestResult(statistic=20.627370025923614, pvalue=3.317596092063206e-05)"
      ]
     },
     "execution_count": 7,
     "metadata": {},
     "output_type": "execute_result"
    }
   ],
   "source": [
    "stats.normaltest(test['label'])"
   ]
  },
  {
   "cell_type": "code",
   "execution_count": 8,
   "metadata": {},
   "outputs": [
    {
     "data": {
      "text/plain": [
       "NormaltestResult(statistic=1.2574053628958772, pvalue=0.5332831906103295)"
      ]
     },
     "execution_count": 8,
     "metadata": {},
     "output_type": "execute_result"
    }
   ],
   "source": [
    "stats.normaltest(test['domain_var'])"
   ]
  },
  {
   "cell_type": "code",
   "execution_count": 9,
   "metadata": {},
   "outputs": [
    {
     "data": {
      "text/plain": [
       "NormaltestResult(statistic=1.7882485025406032, pvalue=0.4089655929599584)"
      ]
     },
     "execution_count": 9,
     "metadata": {},
     "output_type": "execute_result"
    }
   ],
   "source": [
    "stats.normaltest(test['perf'])"
   ]
  },
  {
   "cell_type": "code",
   "execution_count": 22,
   "metadata": {},
   "outputs": [
    {
     "data": {
      "text/plain": [
       "SpearmanrResult(correlation=0.16463720699615816, pvalue=0.48791577982030176)"
      ]
     },
     "execution_count": 22,
     "metadata": {},
     "output_type": "execute_result"
    }
   ],
   "source": [
    "stats.spearmanr(test['topic'], test['label'])"
   ]
  },
  {
   "cell_type": "code",
   "execution_count": 23,
   "metadata": {},
   "outputs": [
    {
     "data": {
      "text/plain": [
       "MannwhitneyuResult(statistic=104.0, pvalue=0.004831563041641174)"
      ]
     },
     "execution_count": 23,
     "metadata": {},
     "output_type": "execute_result"
    }
   ],
   "source": [
    "stats.mannwhitneyu(test['topic'], test['label'])"
   ]
  },
  {
   "cell_type": "code",
   "execution_count": null,
   "metadata": {},
   "outputs": [],
   "source": []
  }
 ],
 "metadata": {
  "kernelspec": {
   "display_name": "Python 3",
   "language": "python",
   "name": "python3"
  },
  "language_info": {
   "codemirror_mode": {
    "name": "ipython",
    "version": 3
   },
   "file_extension": ".py",
   "mimetype": "text/x-python",
   "name": "python",
   "nbconvert_exporter": "python",
   "pygments_lexer": "ipython3",
   "version": "3.8.2"
  }
 },
 "nbformat": 4,
 "nbformat_minor": 4
}
