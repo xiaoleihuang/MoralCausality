{
 "cells": [
  {
   "cell_type": "code",
   "execution_count": 1,
   "metadata": {},
   "outputs": [
    {
     "name": "stderr",
     "output_type": "stream",
     "text": [
      "[nltk_data] Downloading package stopwords to\n",
      "[nltk_data]     /home/xiaolei/nltk_data...\n",
      "[nltk_data]   Package stopwords is already up-to-date!\n"
     ]
    }
   ],
   "source": [
    "from collections import Counter\n",
    "import re\n",
    "\n",
    "import pandas as pd\n",
    "import warnings\n",
    "warnings.filterwarnings(\"ignore\")\n",
    "\n",
    "from tqdm import tqdm\n",
    "import seaborn as sns\n",
    "import matplotlib.pyplot as plt\n",
    "\n",
    "from sklearn.multiclass import OneVsOneClassifier, OneVsRestClassifier\n",
    "from sklearn import preprocessing\n",
    "from sklearn.model_selection import train_test_split\n",
    "from sklearn.feature_extraction.text import TfidfVectorizer\n",
    "from sklearn.linear_model import LogisticRegression\n",
    "from sklearn import metrics\n",
    "from sklearn.feature_selection import mutual_info_classif\n",
    "\n",
    "import numpy as np\n",
    "from nltk.corpus import stopwords\n",
    "import nltk\n",
    "from nltk.tokenize import TweetTokenizer\n",
    "\n",
    "nltk.download('stopwords')\n",
    "spw_set = set(stopwords.words('english'))\n",
    "spw_set.add('url')\n",
    "tokenizer = TweetTokenizer()"
   ]
  },
  {
   "cell_type": "code",
   "execution_count": 2,
   "metadata": {},
   "outputs": [
    {
     "name": "stdout",
     "output_type": "stream",
     "text": [
      "31849\n"
     ]
    },
    {
     "data": {
      "text/html": [
       "<div>\n",
       "<style scoped>\n",
       "    .dataframe tbody tr th:only-of-type {\n",
       "        vertical-align: middle;\n",
       "    }\n",
       "\n",
       "    .dataframe tbody tr th {\n",
       "        vertical-align: top;\n",
       "    }\n",
       "\n",
       "    .dataframe thead th {\n",
       "        text-align: right;\n",
       "    }\n",
       "</style>\n",
       "<table border=\"1\" class=\"dataframe\">\n",
       "  <thead>\n",
       "    <tr style=\"text-align: right;\">\n",
       "      <th></th>\n",
       "      <th>tid</th>\n",
       "      <th>text</th>\n",
       "      <th>corpus</th>\n",
       "      <th>labels</th>\n",
       "    </tr>\n",
       "  </thead>\n",
       "  <tbody>\n",
       "    <tr>\n",
       "      <th>0</th>\n",
       "      <td>521033092132503552</td>\n",
       "      <td>@fergusonoctober @fox2now #alllivesmatter peac...</td>\n",
       "      <td>ALM</td>\n",
       "      <td>care,purity</td>\n",
       "    </tr>\n",
       "    <tr>\n",
       "      <th>1</th>\n",
       "      <td>537681598989475841</td>\n",
       "      <td>wholeheartedly support these protests acts of ...</td>\n",
       "      <td>ALM</td>\n",
       "      <td>subversion,loyalty</td>\n",
       "    </tr>\n",
       "    <tr>\n",
       "      <th>2</th>\n",
       "      <td>624644420705648640</td>\n",
       "      <td>this sandra bland situation man no disrespect ...</td>\n",
       "      <td>ALM</td>\n",
       "      <td>cheating</td>\n",
       "    </tr>\n",
       "    <tr>\n",
       "      <th>3</th>\n",
       "      <td>752979765984890884</td>\n",
       "      <td>commitment to peace, healing and loving neighb...</td>\n",
       "      <td>ALM</td>\n",
       "      <td>care,purity</td>\n",
       "    </tr>\n",
       "    <tr>\n",
       "      <th>4</th>\n",
       "      <td>548029362348765185</td>\n",
       "      <td>injustice for one is an injustice for all #all...</td>\n",
       "      <td>ALM</td>\n",
       "      <td>cheating,loyalty</td>\n",
       "    </tr>\n",
       "  </tbody>\n",
       "</table>\n",
       "</div>"
      ],
      "text/plain": [
       "                  tid                                               text  \\\n",
       "0  521033092132503552  @fergusonoctober @fox2now #alllivesmatter peac...   \n",
       "1  537681598989475841  wholeheartedly support these protests acts of ...   \n",
       "2  624644420705648640  this sandra bland situation man no disrespect ...   \n",
       "3  752979765984890884  commitment to peace, healing and loving neighb...   \n",
       "4  548029362348765185  injustice for one is an injustice for all #all...   \n",
       "\n",
       "  corpus              labels  \n",
       "0    ALM         care,purity  \n",
       "1    ALM  subversion,loyalty  \n",
       "2    ALM            cheating  \n",
       "3    ALM         care,purity  \n",
       "4    ALM    cheating,loyalty  "
      ]
     },
     "execution_count": 2,
     "metadata": {},
     "output_type": "execute_result"
    }
   ],
   "source": [
    "all_data = pd.read_csv('../data/dataset.tsv', sep='\\t', dtype=str)\n",
    "all_data.tid = all_data.tid.apply(lambda x: str(x))\n",
    "all_data = all_data[~all_data.text.isna()]\n",
    "all_data = all_data[~all_data.labels.isna()]\n",
    "print(len(all_data))\n",
    "all_data.head()"
   ]
  },
  {
   "cell_type": "code",
   "execution_count": 3,
   "metadata": {},
   "outputs": [],
   "source": [
    "# preprocessing url\n",
    "def preprocess(tweet):\n",
    "    \"\"\"\n",
    "    Preprocess a single tweet\n",
    "    :param tweet:\n",
    "    :return:\n",
    "    \"\"\"\n",
    "    global tokenizer\n",
    "\n",
    "    # lowercase\n",
    "    tweet = tweet.lower()\n",
    "    # replace url\n",
    "    tweet = re.sub(r\"https?:\\S+\", \"URL\", tweet)\n",
    "    # replace user\n",
    "#     tweet = re.sub(r'@\\w+', 'USER', tweet)\n",
    "    # replace hashtag\n",
    "#     tweet = re.sub(r'#\\S+', 'HASHTAG', tweet)\n",
    "    # tokenize\n",
    "    return [item.strip() for item in tokenizer.tokenize(tweet) if len(item.strip())>0]"
   ]
  },
  {
   "cell_type": "code",
   "execution_count": 4,
   "metadata": {},
   "outputs": [
    {
     "name": "stdout",
     "output_type": "stream",
     "text": [
      "30979\n"
     ]
    }
   ],
   "source": [
    "# preprocess tweet and remove short tweet\n",
    "all_data.text = all_data.text.apply(lambda x: preprocess(x))\n",
    "all_data = all_data[all_data.text.apply(lambda x: len(x) > 3)]\n",
    "all_data.text = all_data.text.apply(lambda x: ' '.join(x))\n",
    "print(len(all_data))"
   ]
  },
  {
   "cell_type": "code",
   "execution_count": 5,
   "metadata": {},
   "outputs": [
    {
     "name": "stdout",
     "output_type": "stream",
     "text": [
      "17.019174279350526\n"
     ]
    }
   ],
   "source": [
    "# by all\n",
    "all_docs = sum([len(item.split()) for item in all_data.text.tolist()]) / len(all_data)\n",
    "print(all_docs)"
   ]
  },
  {
   "cell_type": "code",
   "execution_count": null,
   "metadata": {},
   "outputs": [],
   "source": []
  },
  {
   "cell_type": "code",
   "execution_count": 51,
   "metadata": {},
   "outputs": [],
   "source": [
    "labels = []\n",
    "for item in all_data.labels.values:\n",
    "    labels.extend(str(item).split(','))"
   ]
  },
  {
   "cell_type": "code",
   "execution_count": 52,
   "metadata": {},
   "outputs": [
    {
     "data": {
      "text/plain": [
       "Counter({'care': 2696,\n",
       "         'purity': 992,\n",
       "         'subversion': 2388,\n",
       "         'loyalty': 2201,\n",
       "         'cheating': 3878,\n",
       "         'harm': 4360,\n",
       "         'non-moral': 14864,\n",
       "         'fairness': 2413,\n",
       "         'betrayal': 1557,\n",
       "         'authority': 1725,\n",
       "         'degradation': 1682})"
      ]
     },
     "execution_count": 52,
     "metadata": {},
     "output_type": "execute_result"
    }
   ],
   "source": [
    "Counter(labels)"
   ]
  },
  {
   "cell_type": "code",
   "execution_count": 53,
   "metadata": {},
   "outputs": [
    {
     "data": {
      "text/plain": [
       "array(['ALM', 'Baltimore', 'BLM', 'Davidson', 'Election', 'MeToo',\n",
       "       'Sandy'], dtype=object)"
      ]
     },
     "execution_count": 53,
     "metadata": {},
     "output_type": "execute_result"
    }
   ],
   "source": [
    "all_data.corpus.unique()"
   ]
  },
  {
   "cell_type": "code",
   "execution_count": 54,
   "metadata": {},
   "outputs": [
    {
     "name": "stdout",
     "output_type": "stream",
     "text": [
      "ALM\n",
      "[('non-moral', 777), ('harm', 524), ('fairness', 448), ('care', 344), ('cheating', 338), ('authority', 208), ('loyalty', 182), ('degradation', 91), ('harm,cheating', 69), ('subversion', 69)]\n",
      "Baltimore\n",
      "[('non-moral', 2966), ('loyalty', 290), ('betrayal', 253), ('cheating', 182), ('cheating,betrayal', 112), ('care', 110), ('subversion', 87), ('fairness', 74), ('harm', 65), ('betrayal,cheating', 57)]\n",
      "BLM\n",
      "[('non-moral', 868), ('fairness', 396), ('loyalty', 393), ('harm', 351), ('cheating', 302), ('care', 200), ('harm,cheating', 180), ('subversion', 157), ('cheating,harm', 143), ('degradation', 133)]\n",
      "Davidson\n",
      "[('non-moral', 4289), ('non-moral,harm', 65), ('harm', 47), ('degradation', 46), ('non-moral,loyalty', 29), ('non-moral,cheating', 22), ('betrayal', 15), ('harm,non-moral', 14), ('cheating', 12), ('non-moral,authority', 12)]\n",
      "Election\n",
      "[('non-moral', 2215), ('fairness', 346), ('cheating', 309), ('harm', 238), ('care', 193), ('non-moral,harm', 180), ('purity', 179), ('non-moral,cheating', 134), ('loyalty', 76), ('non-moral,purity', 73)]\n",
      "MeToo\n",
      "[('non-moral', 1102), ('degradation', 310), ('subversion', 251), ('cheating', 249), ('fairness', 214), ('harm', 181), ('authority', 161), ('loyalty', 114), ('degradation,subversion', 81), ('care', 78)]\n",
      "Sandy\n",
      "[('care', 662), ('non-moral', 608), ('harm', 603), ('subversion', 298), ('cheating', 292), ('authority', 258), ('loyalty', 158), ('fairness', 120), ('loyalty,care', 106), ('betrayal', 75)]\n"
     ]
    }
   ],
   "source": [
    "# each corpus label distribution\n",
    "for domain in all_data.corpus.unique():\n",
    "    print(domain)\n",
    "    print(Counter(all_data[all_data.corpus == domain].labels.values.tolist()).most_common(10))"
   ]
  },
  {
   "cell_type": "code",
   "execution_count": 55,
   "metadata": {},
   "outputs": [
    {
     "data": {
      "text/plain": [
       "['@fergusonoctober @fox2now #alllivesmatter peace and love prevail . god bless .',\n",
       " 'wholeheartedly support these protests acts of civil disobedience will join when can ! #ferguson #alllivesmatter URL',\n",
       " 'this sandra bland situation man no disrespect rest her soul but people die everyday in unjustified matter #alllivesmatter',\n",
       " 'commitment to peace , healing and loving neighbors . give us strength and patience . #portlandpride #alllivesmatter #peace',\n",
       " 'injustice for one is an injustice for all #alllivesmatter #antoniomartin',\n",
       " 'this is what compassion looks like ! #vegan #alllivesmatter URL',\n",
       " '@cnnpolitics @ingrahamangle @phucbho @b_fung this is correct blm is racist terror group based in fraud false narrative #alllivesmatter',\n",
       " 'black twitter when they see someone tweet #alllivesmatter pic.twitter.com/g19dzoqbmb',\n",
       " 'liberty and justice for all ? how about opportunity for all . #blacklivesmatter #alllivesmatter',\n",
       " 'took long time , no ? doctors strive to do less harm by inattentive care , via @nytimes #alllivesmatter #hope URL']"
      ]
     },
     "execution_count": 55,
     "metadata": {},
     "output_type": "execute_result"
    }
   ],
   "source": [
    "all_data[all_data.corpus == 'ALM'].text.tolist()[:10]"
   ]
  },
  {
   "cell_type": "code",
   "execution_count": 56,
   "metadata": {},
   "outputs": [
    {
     "name": "stdout",
     "output_type": "stream",
     "text": [
      "liberty and justice for all ? how about opportunity for all . #blacklivesmatter #alllivesmatter\n"
     ]
    }
   ],
   "source": [
    "# case study for justice\n",
    "for doc in all_data[all_data.corpus == 'ALM'].text:\n",
    "    if ' justice ' in str(doc):\n",
    "        print(doc)\n",
    "        break"
   ]
  },
  {
   "cell_type": "code",
   "execution_count": null,
   "metadata": {},
   "outputs": [],
   "source": [
    "# domain overlaps\n",
    "# domain_feats = \n",
    "# for domain in all_data.corpus.unique():\n",
    "#     domain_test = all_data[all_data.corpus == domain]\n",
    "#     vect = TfidfVectorizer(\n",
    "#         ngram_range=(1, 3), min_df=2, max_features=15000,\n",
    "#         max_df=0.9, # stop_words=spw_set, \n",
    "#     )\n",
    "#     vect.fit([str(item) for item in domain_test.text])\n",
    "#     mi_label = mutual_info_classif(\n",
    "#         vect.transform([str(item) for item in domain_test.text]), domain_test.labels)"
   ]
  },
  {
   "cell_type": "code",
   "execution_count": null,
   "metadata": {},
   "outputs": [],
   "source": []
  },
  {
   "cell_type": "code",
   "execution_count": 58,
   "metadata": {},
   "outputs": [
    {
     "data": {
      "text/plain": [
       "TfidfVectorizer(max_df=0.9, max_features=15000, min_df=2, ngram_range=(1, 3))"
      ]
     },
     "execution_count": 58,
     "metadata": {},
     "output_type": "execute_result"
    }
   ],
   "source": [
    "vect = TfidfVectorizer(\n",
    "    ngram_range=(1, 3), min_df=2, max_features=15000,\n",
    "    max_df=0.9, # stop_words=spw_set, \n",
    ")\n",
    "vect.fit([str(item) for item in all_data.text])"
   ]
  },
  {
   "cell_type": "code",
   "execution_count": 59,
   "metadata": {},
   "outputs": [],
   "source": [
    "domain_clf = LogisticRegression(class_weight='balanced', max_iter=2000)"
   ]
  },
  {
   "cell_type": "code",
   "execution_count": 60,
   "metadata": {},
   "outputs": [],
   "source": [
    "msk = np.random.rand(len(all_data)) < 0.8\n",
    "train_df = all_data[msk]\n",
    "test_df = all_data[~msk]"
   ]
  },
  {
   "cell_type": "code",
   "execution_count": 61,
   "metadata": {},
   "outputs": [
    {
     "data": {
      "text/plain": [
       "LogisticRegression(class_weight='balanced', max_iter=2000)"
      ]
     },
     "execution_count": 61,
     "metadata": {},
     "output_type": "execute_result"
    }
   ],
   "source": [
    "domain_clf.fit(vect.transform([str(item) for item in train_df.text]), train_df.corpus)"
   ]
  },
  {
   "cell_type": "code",
   "execution_count": 62,
   "metadata": {},
   "outputs": [],
   "source": [
    "report = metrics.classification_report(\n",
    "    y_pred=domain_clf.predict(vect.transform([str(item) for item in test_df.text])),\n",
    "    y_true=test_df.corpus,\n",
    "    digits=3\n",
    ")"
   ]
  },
  {
   "cell_type": "code",
   "execution_count": 63,
   "metadata": {
    "scrolled": true
   },
   "outputs": [
    {
     "name": "stdout",
     "output_type": "stream",
     "text": [
      "              precision    recall  f1-score   support\n",
      "\n",
      "         ALM      0.809     0.933     0.867       683\n",
      "         BLM      0.941     0.837     0.886       985\n",
      "   Baltimore      0.844     0.775     0.808       997\n",
      "    Davidson      0.901     0.911     0.906       995\n",
      "    Election      0.790     0.890     0.837      1012\n",
      "       MeToo      0.983     0.945     0.964       857\n",
      "       Sandy      1.000     0.974     0.987       776\n",
      "\n",
      "    accuracy                          0.889      6305\n",
      "   macro avg      0.895     0.895     0.893      6305\n",
      "weighted avg      0.894     0.889     0.890      6305\n",
      "\n"
     ]
    }
   ],
   "source": [
    "print(report)"
   ]
  },
  {
   "cell_type": "code",
   "execution_count": 64,
   "metadata": {},
   "outputs": [
    {
     "data": {
      "text/plain": [
       "LabelEncoder()"
      ]
     },
     "execution_count": 64,
     "metadata": {},
     "output_type": "execute_result"
    }
   ],
   "source": [
    "lab_enc = preprocessing.LabelEncoder()\n",
    "lab_enc.fit(train_df.corpus.tolist())"
   ]
  },
  {
   "cell_type": "code",
   "execution_count": 65,
   "metadata": {},
   "outputs": [
    {
     "data": {
      "text/plain": [
       "array(['ALM', 'BLM', 'Baltimore', 'Davidson', 'Election', 'MeToo',\n",
       "       'Sandy'], dtype='<U9')"
      ]
     },
     "execution_count": 65,
     "metadata": {},
     "output_type": "execute_result"
    }
   ],
   "source": [
    "lab_enc.classes_"
   ]
  },
  {
   "cell_type": "code",
   "execution_count": 66,
   "metadata": {},
   "outputs": [],
   "source": [
    "mi_corpus = mutual_info_classif(\n",
    "    vect.transform([str(item) for item in train_df.text]), lab_enc.transform(train_df.corpus)\n",
    ")"
   ]
  },
  {
   "cell_type": "code",
   "execution_count": 72,
   "metadata": {},
   "outputs": [],
   "source": [
    "top_indices_corpus = list(np.argsort(mi_corpus)[::-1])\n",
    "idx2feature = {v: k for k, v in vect.vocabulary_.items()}\n",
    "top_feature_corpus = [idx2feature[item] for item in top_indices_corpus]"
   ]
  },
  {
   "cell_type": "code",
   "execution_count": 73,
   "metadata": {},
   "outputs": [
    {
     "name": "stdout",
     "output_type": "stream",
     "text": [
      "['the', 'url', 'to', 'and', 'of', 'blacklivesmatter', 'alllivesmatter', 'is', 'realdonaldtrump', 'for', 'rt', 'in', 'you', 'sandy', 'that', 'it', 'on', 'all', 'this', 'are', 'twitter', 'not', 'com', 'freddiegray', 'be', 'with', 'we', 'bitch', 'at_user', 'my', 'justice', 'who', 'people', 'but', 'your', 'love', 'have', 'god', 'our', 'like', 'pic', 'by', 'no', 'they', 'what', 'me', 'if', 'from', 'so', 'he', 'as', 'can', 'police', 'at', 'or', 'just', 'will', 'do', 'don', 'baltimore', 'his', 'about', 'when', 'respect', 'up', 'was', 'out', 'us', 'how', 'has', 'an', 'one', 'get', 'blm', 'solidarity', 'now', 'black', 'their', 'human', 'more', 'law', 'why', 're', 'compassion', 'them', 'life', 'racist', 'should', 'being', 'need', 'obey', 'baltimoreriots', 'hurt', 'these', 'trump', 'there', 'those', 'baltimoreuprising', 'know', 'right', 'against', 'good', 'because', 'him', 'hurricanesandy', 'man', 'hate', 'violence', 'equality', 'america', 'some', 'would', 'stop', 'obama', 'rights', 'pussy', 'bitches', 'never', 'only', 'white', 'fuck', 'shit', 'today', 'bless', 'potus', 'injustice', 'time', 'peace', 'let', 'go', 'want', 'president', 'day', 'lives', 'her', 'too', 'fraud', 'got', 'new', 'say', 'racism', 'she', 'kindness', 'make', 'hoes', 'true', 'support', 'ferguson', 'see', 'always', 'must', 'than', 'ass', 'women', 'still', 'hoe', 'amp', 'please', 'tcot', 'great', 'truth', 'any', 'via', 'family', 'liberty', 'here', 'then', 'world', 'over', 'lol', 'real', 'back', 'bluelivesmatter', 'death', 'down', 'traitor', 'hurricane']\n"
     ]
    }
   ],
   "source": [
    "print([item for item in top_feature_corpus[:200] if len(item.split()) == 1])"
   ]
  },
  {
   "cell_type": "code",
   "execution_count": 74,
   "metadata": {},
   "outputs": [
    {
     "name": "stdout",
     "output_type": "stream",
     "text": [
      "['blacklivesmatter', 'alllivesmatter', 'realdonaldtrump', 'rt', 'sandy', 'twitter', 'com', 'freddiegray', 'bitch', 'at_user', 'justice', 'people', 'love', 'god', 'like', 'pic', 'police', 'baltimore', 'respect', 'us', 'one', 'get', 'blm', 'solidarity', 'black', 'human', 'law', 'compassion', 'life', 'racist', 'need', 'obey', 'baltimoreriots', 'hurt', 'trump', 'baltimoreuprising', 'know', 'right', 'good', 'hurricanesandy', 'man', 'hate', 'violence', 'equality', 'america', 'would', 'stop', 'obama', 'rights', 'pussy', 'bitches', 'never', 'white', 'fuck', 'shit', 'today', 'bless', 'potus', 'injustice', 'time', 'peace', 'let', 'go', 'want', 'president', 'day', 'lives', 'fraud', 'got', 'new', 'say', 'racism', 'kindness', 'make', 'hoes', 'true', 'support', 'ferguson', 'see', 'always', 'must', 'ass', 'women', 'still', 'hoe', 'amp', 'please', 'tcot', 'great', 'truth', 'via', 'family', 'liberty', 'world', 'lol', 'real', 'back', 'bluelivesmatter', 'death', 'traitor', 'hurricane', 'way', 'think', 'thank', 'nothing', 'take', 'much', 'harm', 'help', 'gop', 'humanity', 'everyone', 'even', 'holy', 'disrespect', 'every', 'civil', 'bad', 'really', 'cnn', 'cops', 'protest', 'hope', 'innocent', 'suffer', 'u2019s', 'show', 'said', 'yes', 'matter', 'empathy', 'many', 'country', 'protect', 'freedom', 'going', 'americans', 'keep', 'cause', 'iuic', 'stand', 'another', 'act', 'someone', 'kill', 'video', 'come', 'tell', 'deray', 'nyc', 'power', 'media', 'american', 'patriot', 'nigga', 'blacktwitter', 'others', 'heart', 'says', 'work', 'look', 'u2019t']\n"
     ]
    }
   ],
   "source": [
    "# remove stop words\n",
    "top_feature_corpus = [item for item in top_feature_corpus if item not in spw_set]\n",
    "print([item for item in top_feature_corpus[:200] if len(item.split()) == 1])"
   ]
  },
  {
   "cell_type": "code",
   "execution_count": null,
   "metadata": {},
   "outputs": [],
   "source": []
  },
  {
   "cell_type": "code",
   "execution_count": 77,
   "metadata": {},
   "outputs": [
    {
     "name": "stdout",
     "output_type": "stream",
     "text": [
      "['blacklivesmatter', 'twitter', 'twitter com', 'com', 'pic', 'pic twitter', 'pic twitter com', 'alllivesmatter url', 'bluelivesmatter', 'blacklivesmatter alllivesmatter', 'people', 'god', 'justice', 'police', 'alllivesmatter pic twitter', 'alllivesmatter pic', 'love', 'black', 'lives', 'life', 'respect', 'blm', 'human', 'matter', 'racist', 'violence', 'like', 'white', 'one', 'law', 'url alllivesmatter', 'stop', 'rt', 'tcot', 'peace', 'equality', 'bluelivesmatter alllivesmatter', 'us', 'alllivesmatter blacklivesmatter', 'saying', 'of the', 'say', 'racism', 'alllivesmatter is', 'injustice', 'hate', 'compassion', 'right', 'for all', 'justice for', 'world', 'to the', 'cops', 'see', 'lives matter', 'innocent', 'humanity', 'race', 'need', 'solidarity', 'ferguson', 'evil', 'get', 'bless', 'this is', 'america', 'is the', 'god bless', 'think', 'time', 'uniteblue', 'patriot', 'fuck', 'in the', 'obey', 'alllivesmatter and', 'pjnet', 'saying alllivesmatter', 'day', 'ignorance', 'change', 'listen', 'to be', 'dallas', 'url pic twitter', 'url pic', 'for the', 'kindness', 'must', 'if you', 'dignity', 'want', 'the law', 'every', 'man', 'death', 'all lives', 'never', 'alllivesmatter tcot', 'hatred', 'make', 'that alllivesmatter', 'rights', 'values', 'protest', 'would', 'true', 'enforcement', 'cop', 'wakeupamerica', 'everyone', 'go', 'law enforcement', 'real', 'hurt', 'someone', 'you re', 'officers', 'yes', 'let', 'potus', 'obama', 'know', 'unborn', 'show', 'always', 'truth', 'bearded', 'tcot pjnet', 'bearded patriot', 'human life', 'black lives', 'blacklivesmatter alllivesmatter url', 'blacklivesmatter is', 'racial', 'alllivesmatter but', 'nypdlivesmatter', 'beings', 'retweet', 'protect', 'listen to', 'support', 'of all', 'on the', 'says', 'url blacklivesmatter', 'good', 'kill', 'place', 'causes', 'the bearded', 'the bearded patriot', 'suffer', 'pray', 'act', 'much', 'bad', 'whitelivesmatter', 'video', 'please', 'realdonaldtrump', 'another', 'mean', 'for saying', 'of blacklivesmatter', 'shit', 'all alllivesmatter', 'the world', 'democrat', 'sending', 'group', 'the alllivesmatter', 'justice for all', 'said', 'harm', 'url alllivesmatter pic', 'rt retweet', 'rt retweet alllivesmatter', 'retweet alllivesmatter', 'help', 'even', 'something', 'life alllivesmatter', 'people who', 'obey the', 'movement', 'teamgod', 'is not', 'ppl', 'prolife', 'should be', 'new', 'hope', 'trump2016', 'faith', 'taniaspeaks', 'to alllivesmatter', 'problem', 'url rt', 'via']\n",
      "\n",
      "\n",
      "['blacklivesmatter', 'twitter', 'twitter com', 'com', 'alllivesmatter', 'pic', 'pic twitter', 'pic twitter com', 'blm', 'justice', 'blacklivesmatter url', 'solidarity', 'blacklivesmatter pic twitter', 'blacklivesmatter pic', 'police', 'black', 'people', 'ferguson', 'iuic', 'respect', 'blacktwitter', 'holy', 'racist', 'url blacklivesmatter', 'justice for', 'obey', 'injustice', 'hispanictwitter', 'hurt', 'love', 'white', 'of the', 'tcot', 'like', 'racism', 'need', 'uniteblue', 'stop', 'obey the', 'dignity', 'day', 'us', 'harm', 'civil', 'lives', 'blackjesus', 'ericgarner', 'one', 'url pic', 'url pic twitter', 'disobedience', 'icantbreathe', 'compassion', 'the police', 'hate', 'law', 'civil disobedience', 'disrespect', 'obama', 'life', 'always', 'america', 'violence', 'for all', 'fraud', 'mother', 'human', 'shoot', 'traitor', 'uniteblue blacklivesmatter', 'alllivesmatter url', 'to the', 'guns', 'to shoot', 'tcot uniteblue', 'is paganism and', 'and idolatry', 'day is paganism', 'paganism and', 'paganism and idolatry', 'israelite blacklivesmatter', 'is paganism', 'idolatry', 'paganism', 'mother day is', 'mother day', 'iuic israelite', 'iuic israelite blacklivesmatter', 'israelite', 'day is', 'sacred', 'obey the police', 'tcot uniteblue blacklivesmatter', 'sin', 'support', 'tyrants', 'police tcot', 'always obey the', 'always obey', 'staywoke', 'ground', 'police tcot uniteblue', 'but always', 'tyrants but', 'but always obey', 'need guns', 'tyrants but always', 'to shoot tyrants', 'shoot tyrants but', 'shoot tyrants', 'guns to shoot', 'guns to', 'the police tcot', 'need guns to', 'cops', 'right', 'uniteblue blacklivesmatter pic', 'shit', 'rt', 'staywoke blacklivesmatter', 'hispanictwitter iuic', 'and holy', 'matter', 'points', 'url staywoke', 'url staywoke blacklivesmatter', 'blackjesus blacktwitter', 'say', 'blackmen', 'yes', 'holy ground', 'ground url staywoke', 'holy ground url', 'hallow', 'hallow points', 'ground url', 'protest', 'in solidarity', 'blackmen blacklivesmatter', 'shaving it', 'shaving', 'iuic blackmen', 'shaving it your', 'iuic blackmen blacklivesmatter', 'your manly', 'stop shaving it', 'your manly dignity', 'it your', 'manly', 'stop shaving', 'manly dignity', 'it your manly', 'and holy ground', 'staywoke blacklivesmatter pleaseshare', 'pleaseshare', 'hallow points and', 'points and', 'points and holy', 'blacklivesmatter pleaseshare', 'this is', 'cnn', 'rightwinglogic need', 'rightwinglogic', 'rightwinglogic need guns', 'empathy', 'trump', 'is sin', 'god', 'bluelivesmatter', 'know', 'suffer', 'movement', 'blacktwitter blacklivesmatter', 'in the', 'mothersday', 'mikebrown', 'equality', 'protesters', 'video', 'liberty', 'truth', 'cause', 'hispanictwitter iuic israelite', 'must', 'ferguson blacklivesmatter', 'to be', 'usa', 'never', 'blacklivesmatter is', 'blacks', 'get', 'would', 'the blacklivesmatter', 'alllivesmatter pic', 'alllivesmatter pic twitter', 'today', 'murder', 'charlestonshooting', 'hurts', 'homosexuality is sin']\n",
      "\n",
      "\n"
     ]
    }
   ],
   "source": [
    "# binarize morality labels: moral vs. non-moral\n",
    "for domain in ['ALM', 'BLM']:\n",
    "    domain_corpus = all_data[all_data.corpus == domain]\n",
    "    domain_corpus = domain_corpus[~domain_corpus.labels.isnull()]\n",
    "    # create vect\n",
    "    vect = TfidfVectorizer(\n",
    "        ngram_range=(1, 3), min_df=2, max_features=15000,\n",
    "        max_df=0.9, # stop_words=spw_set, \n",
    "    )\n",
    "    vect.fit([str(item) for item in domain_corpus.text])\n",
    "    mi_corpus = mutual_info_classif(\n",
    "        vect.transform([str(item) for item in domain_corpus.text]), \n",
    "        domain_corpus.labels.apply(lambda x: int('non-moral' in x))\n",
    "    )\n",
    "    top_indices_corpus = list(np.argsort(mi_corpus)[::-1])\n",
    "    idx2feature = {v: k for k, v in vect.vocabulary_.items()}\n",
    "    top_feature_corpus = [idx2feature[item] for item in top_indices_corpus]\n",
    "    top_feature_corpus = [item for item in top_feature_corpus if item not in spw_set]\n",
    "    if domain == 'ALM':\n",
    "        alm_set = set(top_feature_corpus[:200])\n",
    "    else:\n",
    "        blm_set = set(top_feature_corpus[:200])\n",
    "    print(top_feature_corpus[:200])\n",
    "    print()\n",
    "    print()"
   ]
  },
  {
   "cell_type": "code",
   "execution_count": 78,
   "metadata": {},
   "outputs": [
    {
     "name": "stdout",
     "output_type": "stream",
     "text": [
      "{'please', 'black lives', 'good', 'help', 'tcot pjnet', 'ppl', 'another', 'url rt', 'officers', 'rights', 'law enforcement', 'beings', 'nypdlivesmatter', 'bad', 'for saying', 'humanity', 'everyone', 'listen to', 'hope', 'the world', 'whitelivesmatter', 'racial', 'prolife', 'bearded', 'causes', 'rt retweet alllivesmatter', 'to alllivesmatter', 'new', 'pray', 'realdonaldtrump', 'people who', 'blacklivesmatter alllivesmatter', 'bearded patriot', 'rt retweet', 'that alllivesmatter', 'place', 'teamgod', 'is not', 'see', 'show', 'much', 'faith', 'true', 'something', 'the bearded', 'mean', 'bluelivesmatter alllivesmatter', 'all lives', 'kill', 'url alllivesmatter', 'taniaspeaks', 'god bless', 'real', 'you re', 'death', 'is the', 'says', 'man', 'blacklivesmatter alllivesmatter url', 'even', 'sending', 'saying', 'alllivesmatter and', 'evil', 'think', 'group', 'pjnet', 'innocent', 'wakeupamerica', 'via', 'someone', 'the alllivesmatter', 'world', 'values', 'kindness', 'enforcement', 'problem', 'trump2016', 'race', 'the law', 'for the', 'make', 'let', 'bless', 'want', 'all alllivesmatter', 'unborn', 'every', 'justice for all', 'alllivesmatter is', 'said', 'patriot', 'cop', 'if you', 'the bearded patriot', 'of blacklivesmatter', 'go', 'hatred', 'potus', 'time', 'ignorance', 'change', 'act', 'listen', 'alllivesmatter but', 'should be', 'of all', 'protect', 'human life', 'democrat', 'retweet', 'peace', 'dallas', 'lives matter', 'retweet alllivesmatter', 'alllivesmatter blacklivesmatter', 'on the', 'fuck', 'alllivesmatter tcot', 'url alllivesmatter pic', 'life alllivesmatter', 'saying alllivesmatter'}\n",
      "{'uniteblue blacklivesmatter pic', 'icantbreathe', 'cause', 'hispanictwitter iuic israelite', 'staywoke blacklivesmatter', 'fraud', 'but always obey', 'hallow', 'iuic israelite', 'blackmen blacklivesmatter', 'disobedience', 'alllivesmatter', 'staywoke blacklivesmatter pleaseshare', 'ground url', 'homosexuality is sin', 'civil disobedience', 'and idolatry', 'blacklivesmatter pic', 'today', 'blackjesus', 'points and', 'stop shaving it', 'guns to', 'blacklivesmatter url', 'israelite', 'points', 'url staywoke blacklivesmatter', 'obey the police', 'idolatry', 'manly', 'tyrants', 'mother', 'traitor', 'paganism and idolatry', 'points and holy', 'shaving it', 'murder', 'trump', 'mother day', 'disrespect', 'paganism and', 'need guns', 'the police tcot', 'always obey', 'police tcot', 'blacklivesmatter pleaseshare', 'shoot', 'liberty', 'shoot tyrants but', 'mikebrown', 'always obey the', 'mothersday', 'it your manly', 'to shoot tyrants', 'protesters', 'is paganism', 'tcot uniteblue blacklivesmatter', 'empathy', 'staywoke', 'sacred', 'but always', 'day is paganism', 'rightwinglogic', 'is sin', 'hispanictwitter iuic', 'is paganism and', 'cnn', 'ferguson blacklivesmatter', 'civil', 'hallow points and', 'tyrants but', 'iuic israelite blacklivesmatter', 'shoot tyrants', 'hallow points', 'your manly', 'guns to shoot', 'blacklivesmatter pic twitter', 'and holy ground', 'ground url staywoke', 'holy ground', 'to shoot', 'blacks', 'police tcot uniteblue', 'holy', 'iuic blackmen blacklivesmatter', 'hurts', 'blackmen', 'stop shaving', 'shaving it your', 'israelite blacklivesmatter', 'tyrants but always', 'and holy', 'it your', 'blacktwitter blacklivesmatter', 'usa', 'ground', 'holy ground url', 'hispanictwitter', 'the blacklivesmatter', 'shaving', 'iuic blackmen', 'paganism', 'rightwinglogic need', 'day is', 'iuic', 'mother day is', 'rightwinglogic need guns', 'sin', 'need guns to', 'the police', 'manly dignity', 'pleaseshare', 'your manly dignity', 'uniteblue blacklivesmatter', 'tcot uniteblue', 'blackjesus blacktwitter', 'ericgarner', 'blacktwitter', 'guns', 'charlestonshooting', 'url staywoke', 'in solidarity'}\n"
     ]
    }
   ],
   "source": [
    "inter_set = blm_set.intersection(alm_set)\n",
    "print(alm_set.difference(inter_set))\n",
    "print(blm_set.difference(inter_set))"
   ]
  },
  {
   "cell_type": "code",
   "execution_count": null,
   "metadata": {},
   "outputs": [],
   "source": []
  },
  {
   "cell_type": "code",
   "execution_count": 81,
   "metadata": {},
   "outputs": [
    {
     "name": "stderr",
     "output_type": "stream",
     "text": [
      "100%|██████████| 7/7 [00:35<00:00,  5.09s/it]\n"
     ]
    }
   ],
   "source": [
    "# test in-domain and out-domain classification performance\n",
    "# first split each corpus into train and test indices\n",
    "domain_corpus = {}\n",
    "for domain in tqdm(all_data.corpus.unique()):\n",
    "    domain_df = all_data[all_data.corpus == domain]\n",
    "    docs = [str(item) for item in domain_df.text]\n",
    "    labels = [str(item) for item in domain_df.labels]\n",
    "    \n",
    "    x_train, x_test, y_train, y_test = train_test_split(\n",
    "        docs, labels, test_size=0.2)\n",
    "    domain_corpus[domain] = {}\n",
    "#     domain_corpus[domain]['x_train'] = x_train\n",
    "    domain_corpus[domain]['x_test'] = x_test\n",
    "#     domain_corpus[domain]['y_train'] = y_train\n",
    "    domain_corpus[domain]['y_test'] = y_test\n",
    "    domain_corpus[domain]['vect'] = TfidfVectorizer(\n",
    "        ngram_range=(1, 3), min_df=2, max_features=15000,\n",
    "        max_df=0.9, # stop_words=spw_set, \n",
    "    )\n",
    "    domain_corpus[domain]['vect'].fit(docs)\n",
    "    domain_corpus[domain]['clf'] = LogisticRegression(class_weight='balanced', max_iter=2000, n_jobs=-1)\n",
    "    domain_corpus[domain]['clf'].fit(domain_corpus[domain]['vect'].transform(x_train), y_train)"
   ]
  },
  {
   "cell_type": "code",
   "execution_count": 82,
   "metadata": {},
   "outputs": [
    {
     "name": "stderr",
     "output_type": "stream",
     "text": [
      "100%|██████████| 7/7 [00:00<00:00,  9.98it/s]\n"
     ]
    }
   ],
   "source": [
    "domain_perform = {}\n",
    "for domain_i in tqdm(domain_corpus):\n",
    "    if domain_i in ['Davidson', 'MeToo']:\n",
    "        continue\n",
    "    if domain_i not in domain_perform:\n",
    "        domain_perform[domain_i] = {}\n",
    "    for domain_j in domain_corpus:\n",
    "        if domain_j in ['Davidson', 'MeToo']:\n",
    "            continue\n",
    "        y_preds = domain_corpus[domain_i]['clf'].predict(\n",
    "            domain_corpus[domain_i]['vect'].transform(domain_corpus[domain_j]['x_test']))\n",
    "        domain_perform[domain_i][domain_j] = metrics.f1_score(\n",
    "            y_pred=y_preds, y_true=domain_corpus[domain_j]['y_test'], average='weighted'\n",
    "        )"
   ]
  },
  {
   "cell_type": "code",
   "execution_count": 83,
   "metadata": {},
   "outputs": [
    {
     "name": "stdout",
     "output_type": "stream",
     "text": [
      "                ALM  Baltimore       BLM  Election     Sandy\n",
      "ALM        0.572216   0.160290  0.276218  0.204504  0.204785\n",
      "Baltimore  0.426079   0.335081  0.051068  0.053330  0.170768\n",
      "BLM        0.318759   0.130608  0.349992  0.147362  0.225455\n",
      "Election   0.288816   0.138348  0.053968  0.213283  0.124715\n",
      "Sandy      0.278053   0.084322  0.064944  0.107750  0.326854\n"
     ]
    }
   ],
   "source": [
    "domain_perform_df = pd.DataFrame(domain_perform)\n",
    "print(domain_perform_df)"
   ]
  },
  {
   "cell_type": "code",
   "execution_count": 84,
   "metadata": {},
   "outputs": [
    {
     "data": {
      "text/plain": [
       "<AxesSubplot:>"
      ]
     },
     "execution_count": 84,
     "metadata": {},
     "output_type": "execute_result"
    },
    {
     "data": {
      "image/png": "[encoded data removed]",
      "text/plain": [
       "<Figure size 432x288 with 1 Axes>"
      ]
     },
     "metadata": {
      "needs_background": "light"
     },
     "output_type": "display_data"
    }
   ],
   "source": [
    "sns.heatmap(domain_perform_df, annot=True, cmap=\"YlGnBu\", annot_kws={\"size\": 18}, cbar=False)"
   ]
  },
  {
   "cell_type": "code",
   "execution_count": 86,
   "metadata": {
    "scrolled": true
   },
   "outputs": [
    {
     "name": "stdout",
     "output_type": "stream",
     "text": [
      "                ALM\n",
      "ALM        0.572216\n",
      "BLM        0.318759\n",
      "Baltimore  0.426079\n",
      "Election   0.288816\n",
      "Sandy      0.278053\n"
     ]
    }
   ],
   "source": [
    "perform_df = pd.DataFrame({'ALM': domain_perform['ALM']})\n",
    "print(perform_df)"
   ]
  },
  {
   "cell_type": "code",
   "execution_count": 87,
   "metadata": {},
   "outputs": [
    {
     "data": {
      "text/plain": [
       "<AxesSubplot:>"
      ]
     },
     "execution_count": 87,
     "metadata": {},
     "output_type": "execute_result"
    },
    {
     "data": {
      "image/png": "[encoded data removed]",
      "text/plain": [
       "<Figure size 432x288 with 1 Axes>"
      ]
     },
     "metadata": {
      "needs_background": "light"
     },
     "output_type": "display_data"
    }
   ],
   "source": [
    "sns.heatmap(perform_df, annot=True, cmap=\"YlGnBu\", annot_kws={\"size\": 18}, cbar=False)"
   ]
  },
  {
   "cell_type": "code",
   "execution_count": null,
   "metadata": {},
   "outputs": [],
   "source": []
  },
  {
   "cell_type": "code",
   "execution_count": 89,
   "metadata": {},
   "outputs": [
    {
     "name": "stdout",
     "output_type": "stream",
     "text": [
      "['care', 'harm', 'betrayal', 'authority', 'subversion', 'loyalty', 'purity', 'non-moral', 'cheating', 'fairness', 'degradation']\n"
     ]
    }
   ],
   "source": [
    "unique_labels = set()\n",
    "for idx, row in all_data.iterrows():\n",
    "    for label in str(row.labels).split(','):\n",
    "        unique_labels.add(label)\n",
    "unique_labels = list(unique_labels)\n",
    "print(unique_labels)"
   ]
  },
  {
   "cell_type": "code",
   "execution_count": 90,
   "metadata": {},
   "outputs": [],
   "source": [
    "def label_encoder(raw_label):\n",
    "    all_labels = [\n",
    "        'subversion', 'loyalty', 'care', 'cheating',\n",
    "        'purity', 'fairness', 'degradation', 'betrayal', 'harm', 'authority'\n",
    "    ]\n",
    "    encode_label = [0]*len(all_labels)\n",
    "    if type(raw_label) != str:\n",
    "        encode_label[-1] = 1\n",
    "        return encode_label\n",
    "    for label in raw_label.split(','):\n",
    "        if label not in all_labels:\n",
    "            encode_label[-1] = 1\n",
    "        else:\n",
    "            encode_label[all_labels.index(label)] = 1\n",
    "    return encode_label"
   ]
  },
  {
   "cell_type": "code",
   "execution_count": 91,
   "metadata": {},
   "outputs": [],
   "source": [
    "def micro_f1_average(y_preds, y_truths):\n",
    "    precisions = []\n",
    "    recalls = []\n",
    "    for idx, (y_pred, y_truth) in enumerate(zip(y_preds, y_truths)):\n",
    "        true_positives = np.sum(np.logical_and(y_truth, y_pred))\n",
    "\n",
    "        # compute the sum of tp + fp across training examples and labels\n",
    "        l_prec_den = np.sum(y_pred)\n",
    "        if l_prec_den != 0:\n",
    "            # compute micro-averaged precision\n",
    "            precisions.append(true_positives/l_prec_den)\n",
    "        \n",
    "        # compute sum of tp + fn across training examples and labels\n",
    "        l_recall_den = np.sum(y_truth)\n",
    "\n",
    "        # compute mirco-average recall\n",
    "        if l_recall_den != 0:\n",
    "            recalls.append(true_positives/l_recall_den)\n",
    "\n",
    "    precisions = np.mean(precisions)\n",
    "    recalls = np.mean(recalls)\n",
    "    if precisions + recalls == 0:\n",
    "        return 0\n",
    "    f1 = 2*precisions*recalls / (precisions + recalls)\n",
    "    return f1"
   ]
  },
  {
   "cell_type": "code",
   "execution_count": 93,
   "metadata": {},
   "outputs": [
    {
     "name": "stderr",
     "output_type": "stream",
     "text": [
      "100%|██████████| 7/7 [00:04<00:00,  1.70it/s]\n",
      "100%|██████████| 7/7 [00:00<00:00,  7.85it/s]"
     ]
    },
    {
     "name": "stdout",
     "output_type": "stream",
     "text": [
      "                ALM  Baltimore       BLM  Election     Sandy\n",
      "ALM        0.748951   0.371681  0.671768  0.591999  0.523930\n",
      "Baltimore  0.512882   0.751485  0.580640  0.621632  0.180067\n",
      "BLM        0.740581   0.435614  0.828921  0.666858  0.546318\n",
      "Election   0.508041   0.518932  0.568484  0.730022  0.305976\n",
      "Sandy      0.446250   0.246373  0.416275  0.402380  0.664212\n"
     ]
    },
    {
     "name": "stderr",
     "output_type": "stream",
     "text": [
      "\n"
     ]
    }
   ],
   "source": [
    "# test in-domain and out-domain classification performance\n",
    "# first split each corpus into train and test indices\n",
    "domain_corpus = {}\n",
    "for domain in tqdm(all_data.corpus.unique()):\n",
    "    domain_df = all_data[all_data.corpus == domain]\n",
    "    domain_df.labels = domain_df.labels.apply(lambda raw_label: label_encoder(raw_label))\n",
    "    docs = [str(item) for item in domain_df.text]\n",
    "    labels = domain_df.labels.tolist()\n",
    "    \n",
    "    x_train, x_test, y_train, y_test = train_test_split(\n",
    "        docs, labels, test_size=0.2, random_state=33)\n",
    "    domain_corpus[domain] = {}\n",
    "    domain_corpus[domain]['x_test'] = x_test\n",
    "    domain_corpus[domain]['y_test'] = y_test\n",
    "    domain_corpus[domain]['vect'] = TfidfVectorizer(\n",
    "        ngram_range=(1, 3), min_df=2, max_features=15000,\n",
    "        max_df=0.9, # stop_words=spw_set, \n",
    "    )\n",
    "    domain_corpus[domain]['x_train'] = x_train\n",
    "    domain_corpus[domain]['y_train'] = y_train\n",
    "    domain_corpus[domain]['vect'].fit(docs)\n",
    "    domain_corpus[domain]['clf'] = OneVsRestClassifier(\n",
    "        LogisticRegression(class_weight='balanced', max_iter=2000, n_jobs=-1),\n",
    "        n_jobs=-1\n",
    "    )\n",
    "    domain_corpus[domain]['clf'].fit(domain_corpus[domain]['vect'].transform(x_train), y_train)\n",
    "\n",
    "domain_perform = {}\n",
    "for domain_i in tqdm(domain_corpus):\n",
    "    if domain_i in ['Davidson', 'MeToo']:\n",
    "        continue\n",
    "    if domain_i not in domain_perform:\n",
    "        domain_perform[domain_i] = {}\n",
    "    for domain_j in domain_corpus:\n",
    "        if domain_j in ['Davidson', 'MeToo']:\n",
    "            continue\n",
    "        y_preds = domain_corpus[domain_i]['clf'].predict(\n",
    "            domain_corpus[domain_i]['vect'].transform(domain_corpus[domain_j]['x_test']))\n",
    "        domain_perform[domain_i][domain_j] = micro_f1_average(\n",
    "            y_preds=y_preds, y_truths=domain_corpus[domain_j]['y_test']\n",
    "        )\n",
    "domain_perform_df = pd.DataFrame(domain_perform)\n",
    "print(domain_perform_df)"
   ]
  },
  {
   "cell_type": "code",
   "execution_count": 94,
   "metadata": {},
   "outputs": [
    {
     "data": {
      "text/plain": [
       "<AxesSubplot:>"
      ]
     },
     "execution_count": 94,
     "metadata": {},
     "output_type": "execute_result"
    },
    {
     "data": {
      "image/png": "[encoded data removed]",
      "text/plain": [
       "<Figure size 432x288 with 1 Axes>"
      ]
     },
     "metadata": {
      "needs_background": "light"
     },
     "output_type": "display_data"
    }
   ],
   "source": [
    "sns.heatmap(domain_perform_df, annot=True, cmap=\"YlGnBu\", annot_kws={\"size\": 18}, cbar=False)"
   ]
  },
  {
   "cell_type": "code",
   "execution_count": null,
   "metadata": {},
   "outputs": [],
   "source": []
  },
  {
   "cell_type": "code",
   "execution_count": 100,
   "metadata": {},
   "outputs": [
    {
     "name": "stdout",
     "output_type": "stream",
     "text": [
      "500\n"
     ]
    }
   ],
   "source": [
    "# load the vaccine data and test the classifier on the vaccine data\n",
    "vaccine_df = pd.read_csv('../data/vaccine_morality.csv', dtype=str)\n",
    "vaccine_df.text = vaccine_df.text.apply(lambda x: preprocess(x))\n",
    "# vaccine_df = vaccine_df[vaccine_df.text.apply(lambda x: len(x) > 3)]\n",
    "vaccine_df.text = vaccine_df.text.apply(lambda x: ' '.join(x))\n",
    "print(len(vaccine_df))"
   ]
  },
  {
   "cell_type": "code",
   "execution_count": 101,
   "metadata": {
    "scrolled": false
   },
   "outputs": [
    {
     "data": {
      "text/html": [
       "<div>\n",
       "<style scoped>\n",
       "    .dataframe tbody tr th:only-of-type {\n",
       "        vertical-align: middle;\n",
       "    }\n",
       "\n",
       "    .dataframe tbody tr th {\n",
       "        vertical-align: top;\n",
       "    }\n",
       "\n",
       "    .dataframe thead th {\n",
       "        text-align: right;\n",
       "    }\n",
       "</style>\n",
       "<table border=\"1\" class=\"dataframe\">\n",
       "  <thead>\n",
       "    <tr style=\"text-align: right;\">\n",
       "      <th></th>\n",
       "      <th>tweet_id</th>\n",
       "      <th>text</th>\n",
       "      <th>relatedness</th>\n",
       "      <th>intention</th>\n",
       "      <th>subversion</th>\n",
       "      <th>authority</th>\n",
       "      <th>cheating</th>\n",
       "      <th>fairness</th>\n",
       "      <th>harm</th>\n",
       "      <th>care</th>\n",
       "      <th>betrayal</th>\n",
       "      <th>loyalty</th>\n",
       "      <th>purity</th>\n",
       "      <th>degradation</th>\n",
       "      <th>non-moral</th>\n",
       "      <th>user_id</th>\n",
       "      <th>date</th>\n",
       "      <th>location</th>\n",
       "    </tr>\n",
       "  </thead>\n",
       "  <tbody>\n",
       "    <tr>\n",
       "      <th>0</th>\n",
       "      <td>1.343310e+18</td>\n",
       "      <td>why would we need an immunity passport to fly ...</td>\n",
       "      <td>1</td>\n",
       "      <td>1</td>\n",
       "      <td>1.0</td>\n",
       "      <td>NaN</td>\n",
       "      <td>1.0</td>\n",
       "      <td>NaN</td>\n",
       "      <td>NaN</td>\n",
       "      <td>NaN</td>\n",
       "      <td>NaN</td>\n",
       "      <td>NaN</td>\n",
       "      <td>NaN</td>\n",
       "      <td>NaN</td>\n",
       "      <td>NaN</td>\n",
       "      <td>2.491404e+09</td>\n",
       "      <td>Sun Dec 27 21:21:56 +0000 2020</td>\n",
       "      <td>United States,Georgia,x</td>\n",
       "    </tr>\n",
       "    <tr>\n",
       "      <th>1</th>\n",
       "      <td>1.385580e+18</td>\n",
       "      <td>my neck been hurting since i got the covid vac...</td>\n",
       "      <td>1</td>\n",
       "      <td>1</td>\n",
       "      <td>NaN</td>\n",
       "      <td>NaN</td>\n",
       "      <td>NaN</td>\n",
       "      <td>NaN</td>\n",
       "      <td>1.0</td>\n",
       "      <td>NaN</td>\n",
       "      <td>NaN</td>\n",
       "      <td>NaN</td>\n",
       "      <td>NaN</td>\n",
       "      <td>NaN</td>\n",
       "      <td>NaN</td>\n",
       "      <td>1.326440e+18</td>\n",
       "      <td>Fri Apr 23 13:15:29 +0000 2021</td>\n",
       "      <td>United States,District of Columbia,Washington</td>\n",
       "    </tr>\n",
       "    <tr>\n",
       "      <th>2</th>\n",
       "      <td>1.289320e+18</td>\n",
       "      <td>a #covid19 vaccine willl be appreciated in aug...</td>\n",
       "      <td>1</td>\n",
       "      <td>1</td>\n",
       "      <td>NaN</td>\n",
       "      <td>NaN</td>\n",
       "      <td>NaN</td>\n",
       "      <td>NaN</td>\n",
       "      <td>NaN</td>\n",
       "      <td>NaN</td>\n",
       "      <td>NaN</td>\n",
       "      <td>NaN</td>\n",
       "      <td>NaN</td>\n",
       "      <td>NaN</td>\n",
       "      <td>1.0</td>\n",
       "      <td>1.161630e+18</td>\n",
       "      <td>Fri Jul 31 22:06:58 +0000 2020</td>\n",
       "      <td>United States,x,x</td>\n",
       "    </tr>\n",
       "    <tr>\n",
       "      <th>3</th>\n",
       "      <td>1.382370e+18</td>\n",
       "      <td>@millerstrib holding back everyone until we co...</td>\n",
       "      <td>1</td>\n",
       "      <td>0</td>\n",
       "      <td>NaN</td>\n",
       "      <td>NaN</td>\n",
       "      <td>NaN</td>\n",
       "      <td>NaN</td>\n",
       "      <td>NaN</td>\n",
       "      <td>NaN</td>\n",
       "      <td>NaN</td>\n",
       "      <td>NaN</td>\n",
       "      <td>NaN</td>\n",
       "      <td>NaN</td>\n",
       "      <td>1.0</td>\n",
       "      <td>1.528039e+08</td>\n",
       "      <td>Wed Apr 14 16:11:05 +0000 2021</td>\n",
       "      <td>United States,Missouri,Kansas City</td>\n",
       "    </tr>\n",
       "    <tr>\n",
       "      <th>4</th>\n",
       "      <td>1.334920e+18</td>\n",
       "      <td>i ’ ve done drugs that i found on the ground a...</td>\n",
       "      <td>1</td>\n",
       "      <td>1</td>\n",
       "      <td>NaN</td>\n",
       "      <td>NaN</td>\n",
       "      <td>NaN</td>\n",
       "      <td>NaN</td>\n",
       "      <td>1.0</td>\n",
       "      <td>NaN</td>\n",
       "      <td>NaN</td>\n",
       "      <td>NaN</td>\n",
       "      <td>NaN</td>\n",
       "      <td>1.0</td>\n",
       "      <td>NaN</td>\n",
       "      <td>5.682487e+07</td>\n",
       "      <td>Fri Dec 04 17:42:36 +0000 2020</td>\n",
       "      <td>United States,Michigan,Grand Rapids</td>\n",
       "    </tr>\n",
       "  </tbody>\n",
       "</table>\n",
       "</div>"
      ],
      "text/plain": [
       "       tweet_id                                               text  \\\n",
       "0  1.343310e+18  why would we need an immunity passport to fly ...   \n",
       "1  1.385580e+18  my neck been hurting since i got the covid vac...   \n",
       "2  1.289320e+18  a #covid19 vaccine willl be appreciated in aug...   \n",
       "3  1.382370e+18  @millerstrib holding back everyone until we co...   \n",
       "4  1.334920e+18  i ’ ve done drugs that i found on the ground a...   \n",
       "\n",
       "   relatedness  intention  subversion  authority  cheating  fairness  harm  \\\n",
       "0            1          1         1.0        NaN       1.0       NaN   NaN   \n",
       "1            1          1         NaN        NaN       NaN       NaN   1.0   \n",
       "2            1          1         NaN        NaN       NaN       NaN   NaN   \n",
       "3            1          0         NaN        NaN       NaN       NaN   NaN   \n",
       "4            1          1         NaN        NaN       NaN       NaN   1.0   \n",
       "\n",
       "   care  betrayal  loyalty  purity  degradation  non-moral       user_id  \\\n",
       "0   NaN       NaN      NaN     NaN          NaN        NaN  2.491404e+09   \n",
       "1   NaN       NaN      NaN     NaN          NaN        NaN  1.326440e+18   \n",
       "2   NaN       NaN      NaN     NaN          NaN        1.0  1.161630e+18   \n",
       "3   NaN       NaN      NaN     NaN          NaN        1.0  1.528039e+08   \n",
       "4   NaN       NaN      NaN     NaN          1.0        NaN  5.682487e+07   \n",
       "\n",
       "                             date  \\\n",
       "0  Sun Dec 27 21:21:56 +0000 2020   \n",
       "1  Fri Apr 23 13:15:29 +0000 2021   \n",
       "2  Fri Jul 31 22:06:58 +0000 2020   \n",
       "3  Wed Apr 14 16:11:05 +0000 2021   \n",
       "4  Fri Dec 04 17:42:36 +0000 2020   \n",
       "\n",
       "                                        location  \n",
       "0                        United States,Georgia,x  \n",
       "1  United States,District of Columbia,Washington  \n",
       "2                              United States,x,x  \n",
       "3             United States,Missouri,Kansas City  \n",
       "4            United States,Michigan,Grand Rapids  "
      ]
     },
     "execution_count": 101,
     "metadata": {},
     "output_type": "execute_result"
    }
   ],
   "source": [
    "vaccine_df.head(5)"
   ]
  },
  {
   "cell_type": "code",
   "execution_count": null,
   "metadata": {},
   "outputs": [],
   "source": [
    "# ['subversion', 'loyalty', 'care', 'cheating', 'nan', 'purity', 'fairness', 'non-moral', \n",
    "# 'degradation', 'betrayal', 'harm', 'authority']"
   ]
  },
  {
   "cell_type": "code",
   "execution_count": 102,
   "metadata": {},
   "outputs": [],
   "source": [
    "vaccine_data = {\n",
    "    'train_x': [],\n",
    "    'train_y': [],\n",
    "}\n",
    "\n",
    "all_labels = [\n",
    "    'subversion', 'loyalty', 'care', 'cheating',\n",
    "    'purity', 'fairness', 'degradation', 'betrayal', 'harm', 'authority'\n",
    "]\n",
    "\n",
    "for idx, row in vaccine_df.iterrows():\n",
    "    encode_label = [0] * len(all_labels)\n",
    "    for label_index, label in enumerate(all_labels):\n",
    "        if np.isnan(np.array(row[all_labels[label_index]], dtype=np.float32)):\n",
    "            continue\n",
    "        if int(row[all_labels[label_index]]) == 1:\n",
    "            encode_label[label_index] = 1\n",
    "    if sum(encode_label) == 0:\n",
    "        encode_label[-1] = 1\n",
    "    vaccine_data['train_x'].append(row['text'])\n",
    "    vaccine_data['train_y'].append(encode_label)"
   ]
  },
  {
   "cell_type": "code",
   "execution_count": 103,
   "metadata": {},
   "outputs": [
    {
     "name": "stdout",
     "output_type": "stream",
     "text": [
      "['why would we need an immunity passport to fly proving we had a covid vaccine when anyone who wanted has been flying for months ?', 'my neck been hurting since i got the covid vaccine 😭 wtf', 'a #covid19 vaccine willl be appreciated in august 🙏 🏻 😪 😢 🥺 😩 😚', \"@millerstrib holding back everyone until we confirm it's covid or vaccine sideeffects before the dunking begins URL\", 'i ’ ve done drugs that i found on the ground at a la dispute concert so no i ’ m not worried about what ’ s in the covid vaccine .']\n",
      "[[0, 0, 1, 1, 1, 0, 1, 0, 0, 0, 0], [0, 0, 1, 1, 0, 0, 0, 0, 1, 0, 0], [0, 0, 1, 1, 0, 0, 0, 0, 0, 0, 0], [0, 0, 1, 0, 0, 0, 0, 0, 0, 0, 0], [0, 0, 1, 1, 0, 0, 0, 0, 1, 0, 0]]\n"
     ]
    }
   ],
   "source": [
    "print(vaccine_data['train_x'][:5])\n",
    "print(vaccine_data['train_y'][:5])"
   ]
  },
  {
   "cell_type": "code",
   "execution_count": 105,
   "metadata": {},
   "outputs": [
    {
     "name": "stderr",
     "output_type": "stream",
     "text": [
      "100%|██████████| 7/7 [00:00<00:00, 65.79it/s]"
     ]
    },
    {
     "name": "stdout",
     "output_type": "stream",
     "text": [
      "                ALM  Baltimore       BLM  Election     Sandy\n",
      "ALM        0.748951   0.371681  0.671768  0.591999  0.523930\n",
      "Baltimore  0.512882   0.751485  0.580640  0.621632  0.180067\n",
      "BLM        0.740581   0.435614  0.828921  0.666858  0.546318\n",
      "Election   0.508041   0.518932  0.568484  0.730022  0.305976\n",
      "Sandy      0.446250   0.246373  0.416275  0.402380  0.664212\n",
      "vaccine    0.033911   0.010317  0.031577  0.022671  0.126245\n"
     ]
    },
    {
     "name": "stderr",
     "output_type": "stream",
     "text": [
      "\n"
     ]
    }
   ],
   "source": [
    "# test on vaccine\n",
    "for domain_i in tqdm(domain_corpus):\n",
    "    if domain_i in ['Davidson', 'MeToo']:\n",
    "        continue\n",
    "    y_preds = domain_corpus[domain_i]['clf'].predict(\n",
    "        domain_corpus[domain_i]['vect'].transform(vaccine_data['train_x']))\n",
    "    domain_perform[domain_i]['vaccine'] = micro_f1_average(\n",
    "        y_preds=y_preds, y_truths=vaccine_data['train_y']\n",
    "    )\n",
    "domain_perform_df = pd.DataFrame(domain_perform)\n",
    "print(domain_perform_df)"
   ]
  },
  {
   "cell_type": "code",
   "execution_count": 106,
   "metadata": {},
   "outputs": [
    {
     "data": {
      "text/plain": [
       "<AxesSubplot:>"
      ]
     },
     "execution_count": 106,
     "metadata": {},
     "output_type": "execute_result"
    },
    {
     "data": {
      "image/png": "[encoded data removed]",
      "text/plain": [
       "<Figure size 432x288 with 1 Axes>"
      ]
     },
     "metadata": {
      "needs_background": "light"
     },
     "output_type": "display_data"
    }
   ],
   "source": [
    "sns.heatmap(domain_perform_df, annot=True, cmap=\"YlGnBu\", annot_kws={\"size\": 18}, cbar=False)"
   ]
  },
  {
   "cell_type": "code",
   "execution_count": 108,
   "metadata": {},
   "outputs": [
    {
     "name": "stderr",
     "output_type": "stream",
     "text": [
      "100%|██████████| 7/7 [00:03<00:00,  2.08it/s]"
     ]
    },
    {
     "name": "stdout",
     "output_type": "stream",
     "text": [
      "                ALM  Baltimore       BLM  Election     Sandy\n",
      "ALM        0.748951   0.371681  0.671768  0.591999  0.523930\n",
      "Baltimore  0.512882   0.751485  0.580640  0.621632  0.180067\n",
      "BLM        0.740581   0.435614  0.828921  0.666858  0.546318\n",
      "Election   0.508041   0.518932  0.568484  0.730022  0.305976\n",
      "Sandy      0.446250   0.246373  0.416275  0.402380  0.664212\n",
      "vaccine    0.033911   0.010317  0.031577  0.022671  0.645603\n"
     ]
    },
    {
     "name": "stderr",
     "output_type": "stream",
     "text": [
      "\n"
     ]
    }
   ],
   "source": [
    "# continuous training\n",
    "for domain in tqdm(all_data.corpus.unique()):\n",
    "    domain_corpus[domain]['clf'].fit(\n",
    "        domain_corpus[domain]['vect'].transform(\n",
    "            domain_corpus[domain]['x_train'] + vaccine_data['train_x'][:100]\n",
    "        ), domain_corpus[domain]['y_train'] + vaccine_data['train_y'][:100])\n",
    "    \n",
    "    if domain_i in ['Davidson', 'MeToo']:\n",
    "        continue\n",
    "    y_preds = domain_corpus[domain_i]['clf'].predict(\n",
    "        domain_corpus[domain_i]['vect'].transform(vaccine_data['train_x'][100:]))\n",
    "    domain_perform[domain_i]['vaccine'] = micro_f1_average(\n",
    "        y_preds=y_preds, y_truths=vaccine_data['train_y'][100:]\n",
    "    )\n",
    "domain_perform_df = pd.DataFrame(domain_perform)\n",
    "print(domain_perform_df)"
   ]
  },
  {
   "cell_type": "code",
   "execution_count": 110,
   "metadata": {},
   "outputs": [],
   "source": [
    "# train all Twitter 35K documents and apply on the vaccine\n",
    "all_twitter_vect = TfidfVectorizer(\n",
    "    ngram_range=(1, 3), min_df=2, max_features=15000,\n",
    "    max_df=0.9, # stop_words=spw_set,\n",
    ")\n",
    "all_twitter_vect.fit(all_data.text)\n",
    "all_twitter_labels = all_data.labels.apply(lambda x: label_encoder(x)).tolist()"
   ]
  },
  {
   "cell_type": "code",
   "execution_count": 112,
   "metadata": {},
   "outputs": [
    {
     "name": "stdout",
     "output_type": "stream",
     "text": [
      "0.02684359497215205\n"
     ]
    }
   ],
   "source": [
    "all_twitter_clf = OneVsRestClassifier(\n",
    "    LogisticRegression(class_weight='balanced', max_iter=2000, n_jobs=-1),\n",
    "    n_jobs=-1\n",
    ")\n",
    "all_twitter_clf.fit(all_twitter_vect.transform(all_data.text), all_twitter_labels)\n",
    "vaccine_y_preds = all_twitter_clf.predict(all_twitter_vect.transform(vaccine_data['train_x']))\n",
    "print(micro_f1_average(y_preds=vaccine_y_preds, y_truths=vaccine_data['train_y']))"
   ]
  },
  {
   "cell_type": "code",
   "execution_count": 120,
   "metadata": {},
   "outputs": [
    {
     "data": {
      "text/plain": [
       "31229"
      ]
     },
     "execution_count": 120,
     "metadata": {},
     "output_type": "execute_result"
    }
   ],
   "source": [
    "len(twitter_vaccine_docs)"
   ]
  },
  {
   "cell_type": "code",
   "execution_count": 121,
   "metadata": {},
   "outputs": [
    {
     "data": {
      "text/plain": [
       "31079"
      ]
     },
     "execution_count": 121,
     "metadata": {},
     "output_type": "execute_result"
    }
   ],
   "source": [
    "len(twitter_vaccine_labels)"
   ]
  },
  {
   "cell_type": "code",
   "execution_count": 126,
   "metadata": {},
   "outputs": [],
   "source": [
    "def multi_label_f1(y_preds, y_truths, mode='weighted'):\n",
    "    preds = dict()\n",
    "    truths = dict()\n",
    "    for idx in range(len(y_truths)):\n",
    "        for jdx in range(len(y_truths[idx])):\n",
    "            if jdx not in preds:\n",
    "                preds[jdx] = []\n",
    "                truths[jdx] = []\n",
    "            preds[jdx].append(y_preds[idx][jdx])\n",
    "            truths[jdx].append(y_truths[idx][jdx])\n",
    "    results = []\n",
    "    for jdx in preds:\n",
    "        results.append(metrics.f1_score(preds[jdx], truths[jdx], average=mode))\n",
    "    return np.average(results)"
   ]
  },
  {
   "cell_type": "code",
   "execution_count": 133,
   "metadata": {},
   "outputs": [
    {
     "name": "stdout",
     "output_type": "stream",
     "text": [
      "0.8000693355344614\n"
     ]
    }
   ],
   "source": [
    "# add few examples\n",
    "# train all Twitter 35K documents and apply on the vaccine\n",
    "all_twitter_vect = TfidfVectorizer(\n",
    "    ngram_range=(1, 3), min_df=2, max_features=15000,\n",
    "    max_df=0.9, stop_words=spw_set, \n",
    ")\n",
    "twitter_vaccine_docs = all_data.text.tolist() + vaccine_data['train_x'][:250]\n",
    "all_twitter_vect.fit(twitter_vaccine_docs)\n",
    "twitter_vaccine_labels = all_data.labels.apply(lambda x: label_encoder(x)).tolist() + vaccine_data['train_y'][:250]\n",
    "\n",
    "all_twitter_clf = OneVsRestClassifier(\n",
    "    LogisticRegression(class_weight='balanced', max_iter=2000, n_jobs=-1),\n",
    "    n_jobs=-1\n",
    ")\n",
    "all_twitter_clf.fit(all_twitter_vect.transform(twitter_vaccine_docs), twitter_vaccine_labels)\n",
    "vaccine_y_preds = all_twitter_clf.predict(all_twitter_vect.transform(vaccine_data['train_x'][250:]))\n",
    "print(micro_f1_average(y_preds=vaccine_y_preds, y_truths=vaccine_data['train_y'][250:]))"
   ]
  },
  {
   "cell_type": "code",
   "execution_count": 138,
   "metadata": {},
   "outputs": [
    {
     "data": {
      "text/plain": [
       "0.6502597302923827"
      ]
     },
     "execution_count": 138,
     "metadata": {},
     "output_type": "execute_result"
    }
   ],
   "source": [
    "multi_label_f1(y_preds=vaccine_y_preds, y_truths=vaccine_data['train_y'][250:], mode='macro')"
   ]
  },
  {
   "cell_type": "code",
   "execution_count": 137,
   "metadata": {},
   "outputs": [
    {
     "data": {
      "text/plain": [
       "0.9164315397446553"
      ]
     },
     "execution_count": 137,
     "metadata": {},
     "output_type": "execute_result"
    }
   ],
   "source": [
    "multi_label_f1(y_preds=vaccine_y_preds, y_truths=vaccine_data['train_y'][250:], mode='weighted')"
   ]
  },
  {
   "cell_type": "code",
   "execution_count": 136,
   "metadata": {},
   "outputs": [
    {
     "data": {
      "text/plain": [
       "0.913090909090909"
      ]
     },
     "execution_count": 136,
     "metadata": {},
     "output_type": "execute_result"
    }
   ],
   "source": [
    "multi_label_f1(y_preds=vaccine_y_preds, y_truths=vaccine_data['train_y'][250:], mode='micro')"
   ]
  },
  {
   "cell_type": "code",
   "execution_count": null,
   "metadata": {},
   "outputs": [],
   "source": []
  },
  {
   "cell_type": "code",
   "execution_count": 139,
   "metadata": {},
   "outputs": [
    {
     "name": "stdout",
     "output_type": "stream",
     "text": [
      "0.8352740481286891\n"
     ]
    }
   ],
   "source": [
    "# only 100 --> 400 tweets\n",
    "vaccine_vect = TfidfVectorizer(\n",
    "    ngram_range=(1, 3), min_df=2, max_features=15000,\n",
    "    max_df=0.9, stop_words=spw_set, \n",
    ")\n",
    "vaccine_vect.fit(vaccine_data['train_x'])\n",
    "vaccine_clf = OneVsRestClassifier(\n",
    "    LogisticRegression(class_weight='balanced', max_iter=2000, n_jobs=-1),\n",
    "    n_jobs=-1\n",
    ")\n",
    "vaccine_clf.fit(vaccine_vect.transform(vaccine_data['train_x'][:250]), vaccine_data['train_y'][:250])\n",
    "vaccine_y_preds = vaccine_clf.predict(vaccine_vect.transform(vaccine_data['train_x'][250:]))\n",
    "print(micro_f1_average(y_preds=vaccine_y_preds, y_truths=vaccine_data['train_y'][250:]))"
   ]
  },
  {
   "cell_type": "code",
   "execution_count": 141,
   "metadata": {},
   "outputs": [
    {
     "data": {
      "text/plain": [
       "0.9530376721671562"
      ]
     },
     "execution_count": 141,
     "metadata": {},
     "output_type": "execute_result"
    }
   ],
   "source": [
    "multi_label_f1(y_preds=vaccine_y_preds, y_truths=vaccine_data['train_y'][250:], mode='weighted')"
   ]
  },
  {
   "cell_type": "code",
   "execution_count": 140,
   "metadata": {},
   "outputs": [
    {
     "data": {
      "text/plain": [
       "0.9385454545454546"
      ]
     },
     "execution_count": 140,
     "metadata": {},
     "output_type": "execute_result"
    }
   ],
   "source": [
    "multi_label_f1(y_preds=vaccine_y_preds, y_truths=vaccine_data['train_y'][250:], mode='micro')"
   ]
  },
  {
   "cell_type": "code",
   "execution_count": 132,
   "metadata": {},
   "outputs": [
    {
     "data": {
      "text/plain": [
       "0.7345658388983214"
      ]
     },
     "execution_count": 132,
     "metadata": {},
     "output_type": "execute_result"
    }
   ],
   "source": [
    "multi_label_f1(y_preds=vaccine_y_preds, y_truths=vaccine_data['train_y'][250:], mode='macro')"
   ]
  },
  {
   "cell_type": "code",
   "execution_count": null,
   "metadata": {},
   "outputs": [],
   "source": []
  },
  {
   "cell_type": "code",
   "execution_count": null,
   "metadata": {},
   "outputs": [],
   "source": [
    "with open"
   ]
  },
  {
   "cell_type": "code",
   "execution_count": null,
   "metadata": {},
   "outputs": [],
   "source": []
  },
  {
   "cell_type": "code",
   "execution_count": null,
   "metadata": {},
   "outputs": [],
   "source": []
  },
  {
   "cell_type": "code",
   "execution_count": null,
   "metadata": {},
   "outputs": [],
   "source": []
  }
 ],
 "metadata": {
  "kernelspec": {
   "display_name": "Python 3",
   "language": "python",
   "name": "python3"
  },
  "language_info": {
   "codemirror_mode": {
    "name": "ipython",
    "version": 3
   },
   "file_extension": ".py",
   "mimetype": "text/x-python",
   "name": "python",
   "nbconvert_exporter": "python",
   "pygments_lexer": "ipython3",
   "version": "3.8.5"
  }
 },
 "nbformat": 4,
 "nbformat_minor": 4
}
