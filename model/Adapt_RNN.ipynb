{
 "cells": [
  {
   "cell_type": "code",
   "execution_count": 1,
   "metadata": {},
   "outputs": [
    {
     "name": "stderr",
     "output_type": "stream",
     "text": [
      "Using TensorFlow backend.\n"
     ]
    }
   ],
   "source": [
    "import re\n",
    "import pickle\n",
    "import os\n",
    "import json\n",
    "\n",
    "import pandas as pd\n",
    "import warnings\n",
    "from tqdm import tqdm\n",
    "\n",
    "from sklearn import metrics\n",
    "import numpy as np\n",
    "from nltk.corpus import stopwords\n",
    "from nltk.tokenize import TweetTokenizer\n",
    "import gensim\n",
    "\n",
    "from keras.preprocessing.sequence import pad_sequences\n",
    "from keras.preprocessing.text import Tokenizer\n",
    "from transformers import BertTokenizer\n",
    "from torch.utils.data import Dataset\n",
    "import torch\n",
    "import torch.nn as nn\n",
    "from torch.utils.data import DataLoader\n",
    "\n",
    "# nltk.download('stopwords')\n",
    "spw_set = set(stopwords.words('english'))\n",
    "spw_set.add('url')\n",
    "tokenizer = TweetTokenizer()\n",
    "warnings.filterwarnings(\"ignore\")\n",
    "\n",
    "\n",
    "def preprocess(tweet):\n",
    "    \"\"\"\n",
    "    Preprocess a single tweet\n",
    "    :param tweet:\n",
    "    :return:\n",
    "    \"\"\"\n",
    "    global tokenizer\n",
    "\n",
    "    # lowercase\n",
    "    tweet = tweet.lower()\n",
    "    # noinspection PyUnresolvedReferences\n",
    "    tweet = re.sub(r\"https?:\\S+\", \"URL\", tweet)  # replace url\n",
    "    # replace user\n",
    "    # tweet = re.sub(r'@\\w+', 'USER', tweet)\n",
    "    # replace hashtag\n",
    "    # tweet = re.sub(r'#\\S+', 'HASHTAG', tweet)\n",
    "    # tokenize\n",
    "    return [item.strip() for item in tokenizer.tokenize(tweet) if len(item.strip()) > 0]\n",
    "\n",
    "\n",
    "def label_encoder(raw_label):\n",
    "    pre_labels = [\n",
    "        'subversion', 'loyalty', 'care', 'cheating',\n",
    "        'purity', 'fairness', 'degradation', 'betrayal', 'harm', 'authority'\n",
    "    ]\n",
    "    encode_label = [0]*(len(pre_labels) + 1)\n",
    "    if type(raw_label) != str:\n",
    "        encode_label[-1] = 1\n",
    "        return encode_label\n",
    "    for label in raw_label.split(','):\n",
    "        if label not in pre_labels:\n",
    "            encode_label[-1] = 1\n",
    "        else:\n",
    "            encode_label[pre_labels.index(label)] = 1\n",
    "    return encode_label\n",
    "\n",
    "\n",
    "def micro_f1_average(y_preds, y_truths):\n",
    "    precisions = []\n",
    "    recalls = []\n",
    "    for idx, (y_pred, y_truth) in enumerate(zip(y_preds, y_truths)):\n",
    "        # noinspection PyUnresolvedReferences\n",
    "        true_positives = np.sum(np.logical_and(y_truth, y_pred))\n",
    "\n",
    "        # compute the sum of tp + fp across training examples and labels\n",
    "        # noinspection PyUnresolvedReferences\n",
    "        l_prec_den = np.sum(y_pred)\n",
    "        if l_prec_den != 0:\n",
    "            # compute micro-averaged precision\n",
    "            precisions.append(true_positives / l_prec_den)\n",
    "\n",
    "        # compute sum of tp + fn across training examples and labels\n",
    "        # noinspection PyUnresolvedReferences\n",
    "        l_recall_den = np.sum(y_truth)\n",
    "\n",
    "        # compute mirco-average recall\n",
    "        if l_recall_den != 0:\n",
    "            recalls.append(true_positives / l_recall_den)\n",
    "\n",
    "    precisions = np.average(precisions)\n",
    "    recalls = np.average(recalls)\n",
    "    if precisions + recalls == 0:\n",
    "        return 0\n",
    "    f1 = 2 * precisions * recalls / (precisions + recalls)\n",
    "    return f1\n",
    "\n",
    "\n",
    "def multi_label_f1(y_preds, y_truths, mode='weighted'):\n",
    "    preds = dict()\n",
    "    truths = dict()\n",
    "    for idx in range(len(y_truths)):\n",
    "        for jdx in range(len(y_truths[idx])):\n",
    "            if jdx not in preds:\n",
    "                preds[jdx] = []\n",
    "                truths[jdx] = []\n",
    "            preds[jdx].append(y_preds[idx][jdx])\n",
    "            truths[jdx].append(y_truths[idx][jdx])\n",
    "    results = []\n",
    "    for jdx in preds:\n",
    "        results.append(metrics.f1_score(preds[jdx], truths[jdx], average=mode))\n",
    "    return np.average(results)\n",
    "\n",
    "\n",
    "def build_wt(tkn, emb_path, opath):\n",
    "    \"\"\"Build weight using word embedding\"\"\"\n",
    "    embed_len = len(tkn.word_index)\n",
    "    if embed_len > tkn.num_words:\n",
    "        embed_len = tkn.num_words\n",
    "\n",
    "    if emb_path.endswith('.bin'):\n",
    "        embeds = gensim.models.KeyedVectors.load_word2vec_format(\n",
    "            emb_path, binary=True, unicode_errors='ignore'\n",
    "        )\n",
    "        emb_size = embeds.vector_size\n",
    "        emb_matrix = list(np.zeros((embed_len + 1, emb_size)))\n",
    "        for pair in zip(embeds.wv.index2word, embeds.wv.syn0):\n",
    "            if pair[0] in tkn.word_index and \\\n",
    "                    tkn.word_index[pair[0]] < tkn.num_words:\n",
    "                emb_matrix[tkn.word_index[pair[0]]] = np.asarray([\n",
    "                    float(item) for item in pair[1]\n",
    "                ], dtype=np.float32)\n",
    "    else:\n",
    "        dfile = open(emb_path)\n",
    "        line = dfile.readline().strip().split()\n",
    "        if len(line) < 5:\n",
    "            line = dfile.readline().strip().split()\n",
    "        emb_size = len(line[1:])\n",
    "        emb_matrix = list(np.zeros((embed_len + 1, emb_size)))\n",
    "        dfile.close()\n",
    "\n",
    "        with open(emb_path) as dfile:\n",
    "            for line in dfile:\n",
    "                line = line.strip().split()\n",
    "                if line[0] in tkn.word_index and \\\n",
    "                        tkn.word_index[line[0]] < tkn.num_words:\n",
    "                    emb_matrix[tkn.word_index[line[0]]] = np.asarray([\n",
    "                        float(item) for item in line[1:]\n",
    "                    ], dtype=np.float32)\n",
    "    # emb_matrix = np.array(emb_matrix, dtype=np.float32)\n",
    "    np.save(opath, emb_matrix)\n",
    "    return emb_matrix\n",
    "\n",
    "\n",
    "def build_tok(docs, max_feature, opath):\n",
    "    if os.path.exists(opath):\n",
    "        return pickle.load(open(opath, 'rb'))\n",
    "    else:\n",
    "        # load corpus\n",
    "        tkn = Tokenizer(num_words=max_feature)\n",
    "        tkn.fit_on_texts(docs)\n",
    "\n",
    "        with open(opath, 'wb') as wfile:\n",
    "            pickle.dump(tkn, wfile)\n",
    "        return tkn\n",
    "\n",
    "\n",
    "class DataEncoder(object):\n",
    "    def __init__(self, params, mtype='rnn'):\n",
    "        \"\"\"\n",
    "\n",
    "        :param params:\n",
    "        :param mtype: Model type, rnn or bert\n",
    "        \"\"\"\n",
    "        self.params = params\n",
    "        self.mtype = mtype\n",
    "        if self.mtype == 'rnn':\n",
    "            self.tok = pickle.load(open(\n",
    "                os.path.join(params['tok_dir'], '{}.tok'.format(params['dname'])), 'rb'))\n",
    "        elif self.mtype == 'bert':\n",
    "            self.tok = BertTokenizer.from_pretrained(params['bert_name'])\n",
    "        else:\n",
    "            raise ValueError('Only support BERT and RNN data encoders')\n",
    "\n",
    "    def __call__(self, batch):\n",
    "        docs = []\n",
    "        labels = []\n",
    "        domains = []\n",
    "        for text, label, domain in batch:\n",
    "            if self.mtype == 'bert':\n",
    "                text = self.tok.encode_plus(\n",
    "                    text, padding='max_length', max_length=self.params['max_len'],\n",
    "                    return_tensors='pt', return_token_type_ids=False,\n",
    "                    truncation=True,\n",
    "                )\n",
    "                docs.append(text['input_ids'][0])\n",
    "            else:\n",
    "                docs.append(text)\n",
    "            labels.append(label)\n",
    "            domains.append(domain)\n",
    "\n",
    "        labels = torch.tensor(labels, dtype=torch.float)\n",
    "        domains = torch.tensor(domains, dtype=torch.long)\n",
    "        if self.mtype == 'rnn':\n",
    "            # padding and tokenize\n",
    "            docs = self.tok.texts_to_sequences(docs)\n",
    "            docs = pad_sequences(docs)\n",
    "            docs = torch.Tensor(docs).long()\n",
    "        else:\n",
    "            docs = torch.stack(docs).long()\n",
    "        return docs, labels, domains\n",
    "\n",
    "\n",
    "class TorchDataset(Dataset):\n",
    "    def __init__(self, dataset, domain_name):\n",
    "        self.dataset = dataset\n",
    "        self.domain_name = domain_name\n",
    "\n",
    "    def __len__(self):\n",
    "        return len(self.dataset['docs'])\n",
    "\n",
    "    def __getitem__(self, idx):\n",
    "        if self.domain_name in self.dataset:\n",
    "            return self.dataset['docs'][idx], self.dataset['labels'][idx], self.dataset[self.domain_name][idx]\n",
    "        else:\n",
    "            return self.dataset['docs'][idx], self.dataset['labels'][idx], -1\n",
    "\n",
    "\n",
    "class RegularRNN(nn.Module):\n",
    "    def __init__(self, params):\n",
    "        super(RegularRNN, self).__init__()\n",
    "        self.params = params\n",
    "\n",
    "        if 'word_emb_path' in self.params and os.path.exists(self.params['word_emb_path']):\n",
    "            self.wemb = nn.Embedding.from_pretrained(\n",
    "                torch.FloatTensor(np.load(\n",
    "                    self.params['word_emb_path'], allow_pickle=True))\n",
    "            )\n",
    "        else:\n",
    "            self.wemb = nn.Embedding(\n",
    "                self.params['max_feature'], self.params['emb_dim']\n",
    "            )\n",
    "            self.wemb.reset_parameters()\n",
    "            nn.init.kaiming_uniform_(self.wemb.weight, a=np.sqrt(5))\n",
    "\n",
    "        if self.params['bidirectional']:\n",
    "            self.word_hidden_size = self.params['emb_dim'] // 2\n",
    "        else:\n",
    "            self.word_hidden_size = self.params['emb_dim']\n",
    "\n",
    "        # domain adaptation\n",
    "        self.doc_net_general = nn.GRU(\n",
    "            self.wemb.embedding_dim, self.word_hidden_size,\n",
    "            bidirectional=self.params['bidirectional'], dropout=self.params['dp_rate'],\n",
    "            batch_first=True\n",
    "        )\n",
    "        # prediction\n",
    "        self.predictor = nn.Linear(\n",
    "            self.params['emb_dim'], self.params['num_label'])\n",
    "\n",
    "    def forward(self, input_docs):\n",
    "        # encode the document from different perspectives\n",
    "        doc_embs = self.wemb(input_docs)\n",
    "        _, doc_general = self.doc_net_general(doc_embs)  # omit hidden vectors\n",
    "\n",
    "        # concatenate hidden state\n",
    "        if self.params['bidirectional']:\n",
    "            doc_general = torch.cat((doc_general[0, :, :], doc_general[1, :, :]), -1)\n",
    "\n",
    "        if doc_general.shape[0] == 1:\n",
    "            doc_general = doc_general.squeeze(dim=0)\n",
    "\n",
    "        # prediction\n",
    "        doc_preds = self.predictor(doc_general)\n",
    "        return doc_preds\n",
    "\n",
    "\n",
    "class AdaptRNN(nn.Module):\n",
    "    def __init__(self, params):\n",
    "        super(AdaptRNN, self).__init__()\n",
    "        self.params = params\n",
    "\n",
    "        if 'word_emb_path' in self.params and os.path.exists(self.params['word_emb_path']):\n",
    "            self.wemb = nn.Embedding.from_pretrained(\n",
    "                torch.FloatTensor(np.load(\n",
    "                    self.params['word_emb_path'], allow_pickle=True))\n",
    "            )\n",
    "        else:\n",
    "            self.wemb = nn.Embedding(\n",
    "                self.params['max_feature'], self.params['emb_dim']\n",
    "            )\n",
    "            self.wemb.reset_parameters()\n",
    "            nn.init.kaiming_uniform_(self.wemb.weight, a=np.sqrt(5))\n",
    "\n",
    "        if self.params['bidirectional']:\n",
    "            self.word_hidden_size = self.params['emb_dim'] // 2\n",
    "        else:\n",
    "            self.word_hidden_size = self.params['emb_dim']\n",
    "\n",
    "        # domain adaptation\n",
    "        self.domain_net = nn.GRU(\n",
    "            self.wemb.embedding_dim, self.word_hidden_size,\n",
    "            bidirectional=self.params['bidirectional'], dropout=self.params['dp_rate'],\n",
    "            batch_first=True\n",
    "        )\n",
    "        # two domains, this domain vs others\n",
    "        self.domain_clf = nn.Linear(\n",
    "            self.params['emb_dim'], 2\n",
    "        )\n",
    "\n",
    "        # regular prediction\n",
    "        self.document_net = nn.GRU(\n",
    "            self.wemb.embedding_dim, self.word_hidden_size,\n",
    "            bidirectional=self.params['bidirectional'], dropout=self.params['dp_rate'],\n",
    "            batch_first=True\n",
    "        )\n",
    "        # prediction\n",
    "        self.document_predictor = nn.Linear(\n",
    "            self.params['emb_dim'], self.params['num_label'])\n",
    "\n",
    "    def forward(self, input_docs):\n",
    "        # encode the document from different perspectives\n",
    "        doc_embs = self.wemb(input_docs)\n",
    "        _, doc_general = self.document_net(doc_embs)  # omit hidden vectors\n",
    "\n",
    "        # concatenate hidden state\n",
    "        if self.params['bidirectional']:\n",
    "            doc_general = torch.cat((doc_general[0, :, :], doc_general[1, :, :]), -1)\n",
    "\n",
    "        if doc_general.shape[0] == 1:\n",
    "            doc_general = doc_general.squeeze(dim=0)\n",
    "\n",
    "        # prediction\n",
    "        doc_preds = self.document_predictor(doc_general)\n",
    "        return doc_preds\n",
    "\n",
    "    def discriminator(self, input_docs):\n",
    "        # encode the document from different perspectives\n",
    "        doc_embs = self.wemb(input_docs)\n",
    "        _, doc_domain = self.domain_net(doc_embs)  # omit hidden vectors\n",
    "        # concatenate hidden state\n",
    "        if self.params['bidirectional']:\n",
    "            doc_domain = torch.cat((doc_domain[0, :, :], doc_domain[1, :, :]), -1)\n",
    "\n",
    "        if doc_domain.shape[0] == 1:\n",
    "            doc_domain = doc_domain.squeeze(dim=0)\n",
    "\n",
    "        # prediction\n",
    "        domain_preds = self.domain_clf(doc_domain)\n",
    "        return domain_preds\n",
    "\n",
    "    def freeze_layer(self, if_train=True):\n",
    "        self.wemb.weight.requires_grad = if_train\n",
    "\n",
    "\n",
    "def data_split(data):\n",
    "    \"\"\"\n",
    "    :param data:\n",
    "    :return:\n",
    "    \"\"\"\n",
    "    data_indices = list(range(len(data['docs'])))\n",
    "    np.random.seed(33)  # for reproductive results\n",
    "    np.random.shuffle(data_indices)\n",
    "\n",
    "    train_indices = data_indices[:int(.8 * len(data_indices))]\n",
    "    dev_indices = data_indices[int(.8 * len(data_indices)):int(.9 * len(data_indices))]\n",
    "    test_indices = data_indices[int(.9 * len(data_indices)):]\n",
    "    return train_indices, dev_indices, test_indices"
   ]
  },
  {
   "cell_type": "code",
   "execution_count": 47,
   "metadata": {},
   "outputs": [],
   "source": [
    "all_morality = [\n",
    "    'subversion', 'loyalty', 'care', 'cheating',\n",
    "    'purity', 'fairness', 'degradation', 'betrayal', 'harm', 'authority'\n",
    "]\n",
    "\n",
    "result_dir = '../resource/results/'\n",
    "if not os.path.exists(result_dir):\n",
    "    os.mkdir(result_dir)\n",
    "model_dir = '../resource/model/'\n",
    "if not os.path.exists(model_dir):\n",
    "    os.mkdir(model_dir)\n",
    "model_dir = model_dir + 'adapt_rnn/'\n",
    "if not os.path.exists(model_dir):\n",
    "    os.mkdir(model_dir)\n",
    "\n",
    "params = {\n",
    "    'result_path': os.path.join(result_dir, 'adapt_rnn.txt'),\n",
    "    'model_dir': model_dir,\n",
    "    'dname': 'all',\n",
    "    'dpath': '../data/dataset.tsv',\n",
    "    'max_feature': 15000,\n",
    "    'over_sample': True,\n",
    "    'domain_name': 'corpus',\n",
    "    'epochs': 15,\n",
    "    'batch_size': 64,\n",
    "    'lr': 9e-5,\n",
    "    'max_len': 100,\n",
    "    'dp_rate': .2,\n",
    "    'optimizer': 'rmsprop',\n",
    "    'emb_path': '/data/models/glove.twitter.27B.200d.txt',  # adjust for different languages\n",
    "    'emb_dim': 200,\n",
    "    'unique_domains': [],\n",
    "    'bidirectional': False,\n",
    "    'device': 'cuda',\n",
    "    'num_label': len(all_morality)+1,  # plus no-moral\n",
    "}"
   ]
  },
  {
   "cell_type": "code",
   "execution_count": 48,
   "metadata": {},
   "outputs": [
    {
     "name": "stdout",
     "output_type": "stream",
     "text": [
      "Loading Data...\n"
     ]
    }
   ],
   "source": [
    "all_labels = [\n",
    "    'subversion', 'loyalty', 'care', 'cheating',\n",
    "    'purity', 'fairness', 'degradation', 'betrayal', 'harm', 'authority'\n",
    "]\n",
    "wfile = open(params['result_path'], 'a')\n",
    "\n",
    "print('Loading Data...')\n",
    "all_data = pd.read_csv(params['dpath'], sep='\\t', dtype=str)\n",
    "all_data.tid = all_data.tid.apply(lambda x: str(x))\n",
    "all_data = all_data[~all_data.text.isna()]\n",
    "all_data = all_data[~all_data.labels.isna()]\n",
    "# preprocess tweet and remove short tweet\n",
    "all_data.text = all_data.text.apply(lambda x: preprocess(x))\n",
    "all_data = all_data[all_data.text.apply(lambda x: len(x) > 3)]\n",
    "all_data.text = all_data.text.apply(lambda x: ' '.join(x))\n",
    "all_data.labels = all_data.labels.apply(lambda x: label_encoder(x))\n",
    "params['unique_domains'] = list(all_data.corpus.unique())\n",
    "wfile.write(json.dumps(params) + '\\n')\n",
    "\n",
    "if torch.cuda.is_available() and params['device'] != 'cpu':\n",
    "    device = torch.device(params['device'])\n",
    "else:\n",
    "    device = torch.device('cpu')\n",
    "params['device'] = device\n",
    "\n",
    "# load the vaccine data and test the classifier on the vaccine data\n",
    "vaccine_df = pd.read_csv('../data/vaccine_morality.csv', dtype=str)\n",
    "vaccine_df.text = vaccine_df.text.apply(lambda x: preprocess(x))\n",
    "# vaccine_df = vaccine_df[vaccine_df.text.apply(lambda x: len(x) > 3)]\n",
    "vaccine_df.text = vaccine_df.text.apply(lambda x: ' '.join(x))\n",
    "vaccine_df = vaccine_df.sample(frac=1).reset_index(drop=True)\n",
    "\n",
    "# domains\n",
    "domain_encoder = list(all_data.corpus.unique()) + ['vaccine']\n",
    "\n",
    "# use half of the vaccine as train and half as test\n",
    "all_corpus = {\n",
    "    'docs': all_data.text.to_list(),\n",
    "    'labels': all_data.labels.to_list(),\n",
    "    'corpus': all_data.corpus.to_list(),\n",
    "}\n",
    "all_corpus['corpus'] = [domain_encoder.index(item) for item in all_corpus['corpus']]\n",
    "\n",
    "# build tokenizer and weight\n",
    "tok_dir = os.path.dirname(params['model_dir'])\n",
    "params['tok_dir'] = tok_dir\n",
    "params['word_emb_path'] = os.path.join(\n",
    "    tok_dir, params['dname'] + '.npy'\n",
    ")\n",
    "tok = build_tok(\n",
    "    all_data.text.tolist() + vaccine_df.text.tolist(), max_feature=params['max_feature'],\n",
    "    opath=os.path.join(tok_dir, '{}.tok'.format(params['dname']))\n",
    ")\n",
    "if not os.path.exists(params['word_emb_path']):\n",
    "    build_wt(tok, params['emb_path'], params['word_emb_path'])"
   ]
  },
  {
   "cell_type": "code",
   "execution_count": 49,
   "metadata": {
    "scrolled": true
   },
   "outputs": [
    {
     "name": "stderr",
     "output_type": "stream",
     "text": [
      "  0%|          | 0/7 [00:00<?, ?it/s]\n",
      "  0%|          | 0/15 [00:00<?, ?it/s]\u001b[A"
     ]
    },
    {
     "name": "stdout",
     "output_type": "stream",
     "text": [
      "Run over domains...\n",
      "Start to train...\n",
      "{'result_path': '../resource/results/adapt_rnn.txt', 'model_dir': '../resource/model/adapt_rnn/', 'dname': 'all', 'dpath': '../data/dataset.tsv', 'max_feature': 15000, 'over_sample': True, 'domain_name': 'corpus', 'epochs': 15, 'batch_size': 64, 'lr': 9e-05, 'max_len': 100, 'dp_rate': 0.2, 'optimizer': 'rmsprop', 'emb_path': '/data/models/glove.twitter.27B.200d.txt', 'emb_dim': 200, 'unique_domains': ['ALM', 'Baltimore', 'BLM', 'Davidson', 'Election', 'MeToo', 'Sandy'], 'bidirectional': False, 'device': device(type='cuda'), 'num_label': 11, 'tok_dir': '../resource/model/adapt_rnn', 'word_emb_path': '../resource/model/adapt_rnn/all.npy'}\n",
      "Epoch: 0, Step: 300\n",
      "\tRegular Loss: 0.31032086963273364.\n",
      "\tAdapt Loss: 0.058596358705695684.\n",
      "-------------------------------------------------\n",
      "Regular Results:  Test on Regular RNN, Domain ALM, Epoch 0, F1-micro-average 0.15915449176251165, Valid Score 0.16080402010050251\n",
      "\n",
      "Regular Results:  Test on Indomain RNN, Domain ALM, Epoch 0, F1-micro-average 0.006028796368536776, Valid Score 0.013367281985996179\n",
      "\n"
     ]
    },
    {
     "name": "stderr",
     "output_type": "stream",
     "text": [
      "\n",
      "  7%|▋         | 1/15 [00:08<01:52,  8.05s/it]\u001b[A"
     ]
    },
    {
     "name": "stdout",
     "output_type": "stream",
     "text": [
      "Adapt Results:  Test on Adapt RNN, Domain ALM, Epoch 0, F1-micro-average 0.02902757619738752, Valid Score 0.04046242774566474\n",
      "\n",
      "Epoch: 1, Step: 300\n",
      "\tRegular Loss: 0.2607569211345178.\n",
      "\tAdapt Loss: 0.05671655484459725.\n",
      "-------------------------------------------------\n"
     ]
    },
    {
     "name": "stderr",
     "output_type": "stream",
     "text": [
      "\n",
      " 13%|█▎        | 2/15 [00:15<01:43,  7.92s/it]\u001b[A"
     ]
    },
    {
     "name": "stdout",
     "output_type": "stream",
     "text": [
      "Regular Results:  Test on Regular RNN, Domain ALM, Epoch 1, F1-micro-average 0.17942888680033897, Valid Score 0.1692307692307692\n",
      "\n",
      "Adapt Results:  Test on Adapt RNN, Domain ALM, Epoch 1, F1-micro-average 0.23845269226252938, Valid Score 0.2343264310649897\n",
      "\n",
      "Epoch: 2, Step: 300\n",
      "\tRegular Loss: 0.2327296225434522.\n",
      "\tAdapt Loss: 0.056752259895651046.\n",
      "-------------------------------------------------\n"
     ]
    },
    {
     "name": "stderr",
     "output_type": "stream",
     "text": [
      "\n",
      " 20%|██        | 3/15 [00:23<01:36,  8.02s/it]\u001b[A"
     ]
    },
    {
     "name": "stdout",
     "output_type": "stream",
     "text": [
      "Regular Results:  Test on Regular RNN, Domain ALM, Epoch 2, F1-micro-average 0.3161990647808002, Valid Score 0.2848747750151882\n",
      "\n",
      "Adapt Results:  Test on Adapt RNN, Domain ALM, Epoch 2, F1-micro-average 0.361745501884241, Valid Score 0.3579313338135999\n",
      "\n",
      "Epoch: 3, Step: 300\n",
      "\tRegular Loss: 0.21629272470640581.\n",
      "\tAdapt Loss: 0.042561047849712576.\n",
      "-------------------------------------------------\n"
     ]
    },
    {
     "name": "stderr",
     "output_type": "stream",
     "text": [
      "\n",
      " 27%|██▋       | 4/15 [00:31<01:27,  7.98s/it]\u001b[A"
     ]
    },
    {
     "name": "stdout",
     "output_type": "stream",
     "text": [
      "Regular Results:  Test on Regular RNN, Domain ALM, Epoch 3, F1-micro-average 0.49915296856337843, Valid Score 0.4703786797970315\n",
      "\n",
      "Adapt Results:  Test on Adapt RNN, Domain ALM, Epoch 3, F1-micro-average 0.4807563173946446, Valid Score 0.43254841752834766\n",
      "\n",
      "Epoch: 4, Step: 300\n",
      "\tRegular Loss: 0.20577221985077146.\n",
      "\tAdapt Loss: 0.051915717159592825.\n",
      "-------------------------------------------------\n"
     ]
    },
    {
     "name": "stderr",
     "output_type": "stream",
     "text": [
      "\n",
      " 33%|███▎      | 5/15 [00:40<01:20,  8.06s/it]\u001b[A"
     ]
    },
    {
     "name": "stdout",
     "output_type": "stream",
     "text": [
      "Regular Results:  Test on Regular RNN, Domain ALM, Epoch 4, F1-micro-average 0.5653700444273952, Valid Score 0.5308275599412892\n",
      "\n",
      "Adapt Results:  Test on Adapt RNN, Domain ALM, Epoch 4, F1-micro-average 0.5800632559975981, Valid Score 0.5677455729956111\n",
      "\n",
      "Epoch: 5, Step: 300\n",
      "\tRegular Loss: 0.19703212652689595.\n",
      "\tAdapt Loss: 0.0362204191927795.\n",
      "-------------------------------------------------\n"
     ]
    },
    {
     "name": "stderr",
     "output_type": "stream",
     "text": [
      "\n",
      " 40%|████      | 6/15 [00:47<01:10,  7.80s/it]\u001b[A"
     ]
    },
    {
     "name": "stdout",
     "output_type": "stream",
     "text": [
      "Regular Results:  Test on Regular RNN, Domain ALM, Epoch 5, F1-micro-average 0.6106618491557089, Valid Score 0.588115100614396\n",
      "\n",
      "Epoch: 6, Step: 300\n",
      "\tRegular Loss: 0.19013143630320845.\n",
      "\tAdapt Loss: 0.02671503754908163.\n",
      "-------------------------------------------------\n"
     ]
    },
    {
     "name": "stderr",
     "output_type": "stream",
     "text": [
      "\n",
      " 47%|████▋     | 7/15 [00:55<01:03,  7.94s/it]\u001b[A"
     ]
    },
    {
     "name": "stdout",
     "output_type": "stream",
     "text": [
      "Regular Results:  Test on Regular RNN, Domain ALM, Epoch 6, F1-micro-average 0.6346918507921079, Valid Score 0.6243935036321595\n",
      "\n",
      "Adapt Results:  Test on Adapt RNN, Domain ALM, Epoch 6, F1-micro-average 0.6364849145925734, Valid Score 0.635311783554775\n",
      "\n",
      "Epoch: 7, Step: 300\n",
      "\tRegular Loss: 0.18473117154995072.\n",
      "\tAdapt Loss: 0.0370498215253666.\n",
      "-------------------------------------------------\n"
     ]
    },
    {
     "name": "stderr",
     "output_type": "stream",
     "text": [
      "\n",
      " 53%|█████▎    | 8/15 [01:03<00:55,  7.88s/it]\u001b[A"
     ]
    },
    {
     "name": "stdout",
     "output_type": "stream",
     "text": [
      "Regular Results:  Test on Regular RNN, Domain ALM, Epoch 7, F1-micro-average 0.6578975116392929, Valid Score 0.6415042645277197\n",
      "\n",
      "Adapt Results:  Test on Adapt RNN, Domain ALM, Epoch 7, F1-micro-average 0.6564513226878825, Valid Score 0.6480360106344599\n",
      "\n",
      "Epoch: 8, Step: 300\n",
      "\tRegular Loss: 0.17992645759519152.\n",
      "\tAdapt Loss: 0.023447399723816948.\n",
      "-------------------------------------------------\n"
     ]
    },
    {
     "name": "stderr",
     "output_type": "stream",
     "text": [
      "\n",
      " 60%|██████    | 9/15 [01:11<00:48,  8.02s/it]\u001b[A"
     ]
    },
    {
     "name": "stdout",
     "output_type": "stream",
     "text": [
      "Regular Results:  Test on Regular RNN, Domain ALM, Epoch 8, F1-micro-average 0.6641370818427076, Valid Score 0.6654548199551656\n",
      "\n",
      "Adapt Results:  Test on Adapt RNN, Domain ALM, Epoch 8, F1-micro-average 0.670427836859404, Valid Score 0.6604711182222326\n",
      "\n",
      "Epoch: 9, Step: 300\n",
      "\tRegular Loss: 0.17515816049421348.\n",
      "\tAdapt Loss: 0.02627758148352173.\n",
      "-------------------------------------------------\n"
     ]
    },
    {
     "name": "stderr",
     "output_type": "stream",
     "text": [
      "\n",
      " 67%|██████▋   | 10/15 [01:19<00:40,  8.10s/it]\u001b[A"
     ]
    },
    {
     "name": "stdout",
     "output_type": "stream",
     "text": [
      "Regular Results:  Test on Regular RNN, Domain ALM, Epoch 9, F1-micro-average 0.6699319985543805, Valid Score 0.6689212318503729\n",
      "\n",
      "Epoch: 10, Step: 300\n",
      "\tRegular Loss: 0.17148344849926292.\n",
      "\tAdapt Loss: 0.01669431564110359.\n",
      "-------------------------------------------------\n"
     ]
    },
    {
     "name": "stderr",
     "output_type": "stream",
     "text": [
      "\n",
      " 73%|███████▎  | 11/15 [01:27<00:31,  7.98s/it]\u001b[A"
     ]
    },
    {
     "name": "stdout",
     "output_type": "stream",
     "text": [
      "Adapt Results:  Test on Adapt RNN, Domain ALM, Epoch 10, F1-micro-average 0.6909559912816705, Valid Score 0.6788929318983209\n",
      "\n",
      "Epoch: 11, Step: 300\n",
      "\tRegular Loss: 0.16974238952330972.\n",
      "\tAdapt Loss: 0.020630699597868413.\n",
      "-------------------------------------------------\n"
     ]
    },
    {
     "name": "stderr",
     "output_type": "stream",
     "text": [
      "\n",
      " 80%|████████  | 12/15 [01:35<00:23,  7.98s/it]\u001b[A"
     ]
    },
    {
     "name": "stdout",
     "output_type": "stream",
     "text": [
      "Regular Results:  Test on Regular RNN, Domain ALM, Epoch 11, F1-micro-average 0.6883304497474985, Valid Score 0.6785514093868806\n",
      "\n",
      "Adapt Results:  Test on Adapt RNN, Domain ALM, Epoch 11, F1-micro-average 0.7125563534829632, Valid Score 0.6900667748529784\n",
      "\n",
      "Epoch: 12, Step: 300\n",
      "\tRegular Loss: 0.16649062238460363.\n",
      "\tAdapt Loss: 0.02408044458834139.\n",
      "-------------------------------------------------\n"
     ]
    },
    {
     "name": "stderr",
     "output_type": "stream",
     "text": [
      "\n",
      " 87%|████████▋ | 13/15 [01:43<00:16,  8.07s/it]\u001b[A"
     ]
    },
    {
     "name": "stdout",
     "output_type": "stream",
     "text": [
      "Regular Results:  Test on Regular RNN, Domain ALM, Epoch 12, F1-micro-average 0.688850594755047, Valid Score 0.6813132195432815\n",
      "\n",
      "Adapt Results:  Test on Adapt RNN, Domain ALM, Epoch 12, F1-micro-average 0.7127845457559102, Valid Score 0.693776445404913\n",
      "\n",
      "Epoch: 13, Step: 300\n",
      "\tRegular Loss: 0.16552362989547642.\n",
      "\tAdapt Loss: 0.019060417282645688.\n",
      "-------------------------------------------------\n"
     ]
    },
    {
     "name": "stderr",
     "output_type": "stream",
     "text": [
      "\n",
      " 93%|█████████▎| 14/15 [01:52<00:08,  8.11s/it]\u001b[A"
     ]
    },
    {
     "name": "stdout",
     "output_type": "stream",
     "text": [
      "Regular Results:  Test on Regular RNN, Domain ALM, Epoch 13, F1-micro-average 0.6970293749247752, Valid Score 0.6832332950726587\n",
      "\n",
      "Adapt Results:  Test on Adapt RNN, Domain ALM, Epoch 13, F1-micro-average 0.7163760624583103, Valid Score 0.7151368661622456\n",
      "\n",
      "Epoch: 14, Step: 300\n",
      "\tRegular Loss: 0.16146242754700968.\n",
      "\tAdapt Loss: 0.03473780793060496.\n",
      "-------------------------------------------------\n"
     ]
    },
    {
     "name": "stderr",
     "output_type": "stream",
     "text": [
      "\n",
      "100%|██████████| 15/15 [02:00<00:00,  8.03s/it]\u001b[A\n",
      " 14%|█▍        | 1/7 [02:00<12:03, 120.59s/it]\n",
      "  0%|          | 0/15 [00:00<?, ?it/s]\u001b[A"
     ]
    },
    {
     "name": "stdout",
     "output_type": "stream",
     "text": [
      "Regular Results:  Test on Regular RNN, Domain ALM, Epoch 14, F1-micro-average 0.7035951444106622, Valid Score 0.6946540377592627\n",
      "\n",
      "Start to train...\n",
      "{'result_path': '../resource/results/adapt_rnn.txt', 'model_dir': '../resource/model/adapt_rnn/', 'dname': 'all', 'dpath': '../data/dataset.tsv', 'max_feature': 15000, 'over_sample': True, 'domain_name': 'corpus', 'epochs': 15, 'batch_size': 64, 'lr': 9e-05, 'max_len': 100, 'dp_rate': 0.2, 'optimizer': 'rmsprop', 'emb_path': '/data/models/glove.twitter.27B.200d.txt', 'emb_dim': 200, 'unique_domains': ['ALM', 'Baltimore', 'BLM', 'Davidson', 'Election', 'MeToo', 'Sandy'], 'bidirectional': False, 'device': device(type='cuda'), 'num_label': 11, 'tok_dir': '../resource/model/adapt_rnn', 'word_emb_path': '../resource/model/adapt_rnn/all.npy'}\n",
      "Epoch: 0, Step: 300\n",
      "\tRegular Loss: 0.3164799594106864.\n",
      "\tAdapt Loss: 0.06130653060353872.\n",
      "-------------------------------------------------\n",
      "Regular Results:  Test on Regular RNN, Domain Baltimore, Epoch 0, F1-micro-average 0.4857716293147379, Valid Score 0.4472795497185741\n",
      "\n",
      "Regular Results:  Test on Indomain RNN, Domain Baltimore, Epoch 0, F1-micro-average 0.6043016148324271, Valid Score 0.5985109893255474\n",
      "\n"
     ]
    },
    {
     "name": "stderr",
     "output_type": "stream",
     "text": [
      "\n",
      "  7%|▋         | 1/15 [00:08<01:52,  8.02s/it]\u001b[A"
     ]
    },
    {
     "name": "stdout",
     "output_type": "stream",
     "text": [
      "Adapt Results:  Test on Adapt RNN, Domain Baltimore, Epoch 0, F1-micro-average 0.6173482390330925, Valid Score 0.5829254859036233\n",
      "\n",
      "Epoch: 1, Step: 300\n",
      "\tRegular Loss: 0.26941406251584177.\n",
      "\tAdapt Loss: 0.058634141181592526.\n",
      "-------------------------------------------------\n",
      "Regular Results:  Test on Regular RNN, Domain Baltimore, Epoch 1, F1-micro-average 0.6497190773698075, Valid Score 0.6287440788956639\n",
      "\n",
      "Regular Results:  Test on Indomain RNN, Domain Baltimore, Epoch 1, F1-micro-average 0.6318374984325192, Valid Score 0.6273990831494628\n",
      "\n"
     ]
    },
    {
     "name": "stderr",
     "output_type": "stream",
     "text": [
      "\n",
      " 13%|█▎        | 2/15 [00:16<01:45,  8.14s/it]\u001b[A"
     ]
    },
    {
     "name": "stdout",
     "output_type": "stream",
     "text": [
      "Adapt Results:  Test on Adapt RNN, Domain Baltimore, Epoch 1, F1-micro-average 0.6561012601906656, Valid Score 0.630381225280628\n",
      "\n",
      "Epoch: 2, Step: 300\n",
      "\tRegular Loss: 0.24171517675501167.\n",
      "\tAdapt Loss: 0.04451294015610337.\n",
      "-------------------------------------------------\n"
     ]
    },
    {
     "name": "stderr",
     "output_type": "stream",
     "text": [
      "\n",
      " 20%|██        | 3/15 [00:24<01:35,  7.97s/it]\u001b[A"
     ]
    },
    {
     "name": "stdout",
     "output_type": "stream",
     "text": [
      "Regular Results:  Test on Indomain RNN, Domain Baltimore, Epoch 2, F1-micro-average 0.6332140211872914, Valid Score 0.6296991309370953\n",
      "\n",
      "Epoch: 3, Step: 300\n",
      "\tRegular Loss: 0.21533475514266182.\n",
      "\tAdapt Loss: 0.042843007757962744.\n",
      "-------------------------------------------------\n"
     ]
    },
    {
     "name": "stderr",
     "output_type": "stream",
     "text": [
      "\n",
      " 27%|██▋       | 4/15 [00:31<01:26,  7.86s/it]\u001b[A"
     ]
    },
    {
     "name": "stdout",
     "output_type": "stream",
     "text": [
      "Epoch: 4, Step: 300\n",
      "\tRegular Loss: 0.20333599821475654.\n",
      "\tAdapt Loss: 0.04228385374494565.\n",
      "-------------------------------------------------\n"
     ]
    },
    {
     "name": "stderr",
     "output_type": "stream",
     "text": [
      "\n",
      " 33%|███▎      | 5/15 [00:39<01:18,  7.90s/it]\u001b[A"
     ]
    },
    {
     "name": "stdout",
     "output_type": "stream",
     "text": [
      "Adapt Results:  Test on Adapt RNN, Domain Baltimore, Epoch 4, F1-micro-average 0.6814924638646006, Valid Score 0.6563943919133921\n",
      "\n",
      "Epoch: 5, Step: 300\n",
      "\tRegular Loss: 0.19261327336396886.\n",
      "\tAdapt Loss: 0.06623565931603362.\n",
      "-------------------------------------------------\n"
     ]
    },
    {
     "name": "stderr",
     "output_type": "stream",
     "text": [
      "\n",
      " 40%|████      | 6/15 [00:47<01:12,  8.00s/it]\u001b[A"
     ]
    },
    {
     "name": "stdout",
     "output_type": "stream",
     "text": [
      "Epoch: 6, Step: 300\n",
      "\tRegular Loss: 0.18580839641862534.\n",
      "\tAdapt Loss: 0.025305796915857104.\n",
      "-------------------------------------------------\n"
     ]
    },
    {
     "name": "stderr",
     "output_type": "stream",
     "text": [
      "\n",
      " 47%|████▋     | 7/15 [00:56<01:05,  8.21s/it]\u001b[A"
     ]
    },
    {
     "name": "stdout",
     "output_type": "stream",
     "text": [
      "Regular Results:  Test on Regular RNN, Domain Baltimore, Epoch 6, F1-micro-average 0.6644446800094977, Valid Score 0.6301327592463702\n",
      "\n",
      "Adapt Results:  Test on Adapt RNN, Domain Baltimore, Epoch 6, F1-micro-average 0.6814947685906266, Valid Score 0.663100800612072\n",
      "\n",
      "Epoch: 7, Step: 300\n",
      "\tRegular Loss: 0.18052267221319318.\n",
      "\tAdapt Loss: 0.03181230695144679.\n",
      "-------------------------------------------------\n"
     ]
    },
    {
     "name": "stderr",
     "output_type": "stream",
     "text": [
      "\n",
      " 53%|█████▎    | 8/15 [01:04<00:56,  8.13s/it]\u001b[A"
     ]
    },
    {
     "name": "stdout",
     "output_type": "stream",
     "text": [
      "Regular Results:  Test on Regular RNN, Domain Baltimore, Epoch 7, F1-micro-average 0.6619511792203954, Valid Score 0.6317950579534222\n",
      "\n",
      "Epoch: 8, Step: 300\n",
      "\tRegular Loss: 0.17509507979467462.\n",
      "\tAdapt Loss: 0.02718836280743149.\n",
      "-------------------------------------------------\n"
     ]
    },
    {
     "name": "stderr",
     "output_type": "stream",
     "text": [
      "\n",
      " 60%|██████    | 9/15 [01:12<00:49,  8.18s/it]\u001b[A"
     ]
    },
    {
     "name": "stdout",
     "output_type": "stream",
     "text": [
      "Epoch: 9, Step: 300\n",
      "\tRegular Loss: 0.17018484012332075.\n",
      "\tAdapt Loss: 0.02622978478373087.\n",
      "-------------------------------------------------\n"
     ]
    },
    {
     "name": "stderr",
     "output_type": "stream",
     "text": [
      "\n",
      " 67%|██████▋   | 10/15 [01:20<00:40,  8.04s/it]\u001b[A"
     ]
    },
    {
     "name": "stdout",
     "output_type": "stream",
     "text": [
      "Regular Results:  Test on Regular RNN, Domain Baltimore, Epoch 9, F1-micro-average 0.6661937499658135, Valid Score 0.6473379392471453\n",
      "\n",
      "Adapt Results:  Test on Adapt RNN, Domain Baltimore, Epoch 9, F1-micro-average 0.6938927227072523, Valid Score 0.6714828259593381\n",
      "\n",
      "Epoch: 10, Step: 300\n",
      "\tRegular Loss: 0.16644948795190284.\n",
      "\tAdapt Loss: 0.023638397832695036.\n",
      "-------------------------------------------------\n"
     ]
    },
    {
     "name": "stderr",
     "output_type": "stream",
     "text": [
      "\n",
      " 73%|███████▎  | 11/15 [01:28<00:31,  7.94s/it]\u001b[A"
     ]
    },
    {
     "name": "stdout",
     "output_type": "stream",
     "text": [
      "Regular Results:  Test on Regular RNN, Domain Baltimore, Epoch 10, F1-micro-average 0.6714382092888735, Valid Score 0.6534648868113055\n",
      "\n",
      "Adapt Results:  Test on Adapt RNN, Domain Baltimore, Epoch 10, F1-micro-average 0.6957041789350463, Valid Score 0.6717336868933146\n",
      "\n",
      "Epoch: 11, Step: 300\n",
      "\tRegular Loss: 0.16377753813896465.\n",
      "\tAdapt Loss: 0.03034465174589838.\n",
      "-------------------------------------------------\n"
     ]
    },
    {
     "name": "stderr",
     "output_type": "stream",
     "text": [
      "\n",
      " 80%|████████  | 12/15 [01:35<00:23,  7.76s/it]\u001b[A"
     ]
    },
    {
     "name": "stdout",
     "output_type": "stream",
     "text": [
      "Adapt Results:  Test on Adapt RNN, Domain Baltimore, Epoch 11, F1-micro-average 0.7002576181770864, Valid Score 0.6848655756784777\n",
      "\n",
      "Epoch: 12, Step: 300\n",
      "\tRegular Loss: 0.16196107787646327.\n",
      "\tAdapt Loss: 0.024574154919861164.\n",
      "-------------------------------------------------\n"
     ]
    },
    {
     "name": "stderr",
     "output_type": "stream",
     "text": [
      "\n",
      " 87%|████████▋ | 13/15 [01:43<00:15,  7.81s/it]\u001b[A"
     ]
    },
    {
     "name": "stdout",
     "output_type": "stream",
     "text": [
      "Epoch: 13, Step: 300\n",
      "\tRegular Loss: 0.15958019890559472.\n",
      "\tAdapt Loss: 0.03336800779664635.\n",
      "-------------------------------------------------\n"
     ]
    },
    {
     "name": "stderr",
     "output_type": "stream",
     "text": [
      "\n",
      " 93%|█████████▎| 14/15 [01:51<00:07,  7.78s/it]\u001b[A"
     ]
    },
    {
     "name": "stdout",
     "output_type": "stream",
     "text": [
      "Adapt Results:  Test on Adapt RNN, Domain Baltimore, Epoch 13, F1-micro-average 0.7109332461711656, Valid Score 0.6860918423851677\n",
      "\n",
      "Epoch: 14, Step: 300\n",
      "\tRegular Loss: 0.1577142310696979.\n",
      "\tAdapt Loss: 0.019848933700236965.\n",
      "-------------------------------------------------\n"
     ]
    },
    {
     "name": "stderr",
     "output_type": "stream",
     "text": [
      "\n",
      "100%|██████████| 15/15 [01:58<00:00,  7.93s/it]\u001b[A\n",
      " 29%|██▊       | 2/7 [03:59<10:00, 120.13s/it]\n",
      "  0%|          | 0/15 [00:00<?, ?it/s]\u001b[A"
     ]
    },
    {
     "name": "stdout",
     "output_type": "stream",
     "text": [
      "Start to train...\n",
      "{'result_path': '../resource/results/adapt_rnn.txt', 'model_dir': '../resource/model/adapt_rnn/', 'dname': 'all', 'dpath': '../data/dataset.tsv', 'max_feature': 15000, 'over_sample': True, 'domain_name': 'corpus', 'epochs': 15, 'batch_size': 64, 'lr': 9e-05, 'max_len': 100, 'dp_rate': 0.2, 'optimizer': 'rmsprop', 'emb_path': '/data/models/glove.twitter.27B.200d.txt', 'emb_dim': 200, 'unique_domains': ['ALM', 'Baltimore', 'BLM', 'Davidson', 'Election', 'MeToo', 'Sandy'], 'bidirectional': False, 'device': device(type='cuda'), 'num_label': 11, 'tok_dir': '../resource/model/adapt_rnn', 'word_emb_path': '../resource/model/adapt_rnn/all.npy'}\n",
      "Epoch: 0, Step: 300\n",
      "\tRegular Loss: 0.3009003923085837.\n",
      "\tAdapt Loss: 0.041023970476391905.\n",
      "-------------------------------------------------\n",
      "Regular Results:  Test on Regular RNN, Domain BLM, Epoch 0, F1-micro-average 0.15617020342793492, Valid Score 0.15506704369241997\n",
      "\n",
      "Regular Results:  Test on Indomain RNN, Domain BLM, Epoch 0, F1-micro-average 0.011289967670407419, Valid Score 0.0076335877862595426\n",
      "\n"
     ]
    },
    {
     "name": "stderr",
     "output_type": "stream",
     "text": [
      "\n",
      "  7%|▋         | 1/15 [00:08<01:59,  8.50s/it]\u001b[A"
     ]
    },
    {
     "name": "stdout",
     "output_type": "stream",
     "text": [
      "Adapt Results:  Test on Adapt RNN, Domain BLM, Epoch 0, F1-micro-average 0.16524286399104995, Valid Score 0.15378356387306752\n",
      "\n",
      "Epoch: 1, Step: 300\n",
      "\tRegular Loss: 0.2541292006292216.\n",
      "\tAdapt Loss: 0.051916907891086564.\n",
      "-------------------------------------------------\n",
      "Regular Results:  Test on Regular RNN, Domain BLM, Epoch 1, F1-micro-average 0.21812123626617846, Valid Score 0.21193435385575124\n",
      "\n"
     ]
    },
    {
     "name": "stderr",
     "output_type": "stream",
     "text": [
      "\n",
      " 13%|█▎        | 2/15 [00:16<01:48,  8.37s/it]\u001b[A"
     ]
    },
    {
     "name": "stdout",
     "output_type": "stream",
     "text": [
      "Adapt Results:  Test on Adapt RNN, Domain BLM, Epoch 1, F1-micro-average 0.2625502109309178, Valid Score 0.2717582064116382\n",
      "\n",
      "Epoch: 2, Step: 300\n",
      "\tRegular Loss: 0.2338706175750276.\n",
      "\tAdapt Loss: 0.04378482298399523.\n",
      "-------------------------------------------------\n"
     ]
    },
    {
     "name": "stderr",
     "output_type": "stream",
     "text": [
      "\n",
      " 20%|██        | 3/15 [00:24<01:39,  8.26s/it]\u001b[A"
     ]
    },
    {
     "name": "stdout",
     "output_type": "stream",
     "text": [
      "Adapt Results:  Test on Adapt RNN, Domain BLM, Epoch 2, F1-micro-average 0.40911898359673954, Valid Score 0.3923901463691161\n",
      "\n",
      "Epoch: 3, Step: 300\n",
      "\tRegular Loss: 0.21618610070987399.\n",
      "\tAdapt Loss: 0.059674395836171915.\n",
      "-------------------------------------------------\n",
      "Regular Results:  Test on Regular RNN, Domain BLM, Epoch 3, F1-micro-average 0.35019148669289013, Valid Score 0.3258774188801412\n",
      "\n"
     ]
    },
    {
     "name": "stderr",
     "output_type": "stream",
     "text": [
      "\n",
      " 27%|██▋       | 4/15 [00:32<01:28,  8.04s/it]\u001b[A"
     ]
    },
    {
     "name": "stdout",
     "output_type": "stream",
     "text": [
      "Adapt Results:  Test on Adapt RNN, Domain BLM, Epoch 3, F1-micro-average 0.5420775125402613, Valid Score 0.5452558988774449\n",
      "\n",
      "Epoch: 4, Step: 300\n",
      "\tRegular Loss: 0.20491981313276134.\n",
      "\tAdapt Loss: 0.05440969487955404.\n",
      "-------------------------------------------------\n",
      "Regular Results:  Test on Regular RNN, Domain BLM, Epoch 4, F1-micro-average 0.4379003885784583, Valid Score 0.4417873890133265\n",
      "\n"
     ]
    },
    {
     "name": "stderr",
     "output_type": "stream",
     "text": [
      "\n",
      " 33%|███▎      | 5/15 [00:39<01:19,  7.97s/it]\u001b[A"
     ]
    },
    {
     "name": "stdout",
     "output_type": "stream",
     "text": [
      "Adapt Results:  Test on Adapt RNN, Domain BLM, Epoch 4, F1-micro-average 0.6191805156792534, Valid Score 0.6130997715156131\n",
      "\n",
      "Epoch: 5, Step: 300\n",
      "\tRegular Loss: 0.19578801209348382.\n",
      "\tAdapt Loss: 0.04319129943649634.\n",
      "-------------------------------------------------\n",
      "Regular Results:  Test on Regular RNN, Domain BLM, Epoch 5, F1-micro-average 0.49356801081052915, Valid Score 0.4931422010053886\n",
      "\n"
     ]
    },
    {
     "name": "stderr",
     "output_type": "stream",
     "text": [
      "\n",
      " 40%|████      | 6/15 [00:47<01:11,  7.91s/it]\u001b[A"
     ]
    },
    {
     "name": "stdout",
     "output_type": "stream",
     "text": [
      "Adapt Results:  Test on Adapt RNN, Domain BLM, Epoch 5, F1-micro-average 0.6799181220682283, Valid Score 0.667824759902955\n",
      "\n",
      "Epoch: 6, Step: 300\n",
      "\tRegular Loss: 0.1919040453196364.\n",
      "\tAdapt Loss: 0.057153990052863216.\n",
      "-------------------------------------------------\n",
      "Regular Results:  Test on Regular RNN, Domain BLM, Epoch 6, F1-micro-average 0.5358159277125141, Valid Score 0.5209701684218251\n",
      "\n"
     ]
    },
    {
     "name": "stderr",
     "output_type": "stream",
     "text": [
      "\n",
      " 47%|████▋     | 7/15 [00:55<01:03,  7.97s/it]\u001b[A"
     ]
    },
    {
     "name": "stdout",
     "output_type": "stream",
     "text": [
      "Adapt Results:  Test on Adapt RNN, Domain BLM, Epoch 6, F1-micro-average 0.7048788971226022, Valid Score 0.7000431459566077\n",
      "\n",
      "Epoch: 7, Step: 300\n",
      "\tRegular Loss: 0.18765660459516056.\n",
      "\tAdapt Loss: 0.0253570414863007.\n",
      "-------------------------------------------------\n",
      "Regular Results:  Test on Regular RNN, Domain BLM, Epoch 7, F1-micro-average 0.5884809226274882, Valid Score 0.5744809272890827\n",
      "\n"
     ]
    },
    {
     "name": "stderr",
     "output_type": "stream",
     "text": [
      "\n",
      " 53%|█████▎    | 8/15 [01:04<00:56,  8.05s/it]\u001b[A"
     ]
    },
    {
     "name": "stdout",
     "output_type": "stream",
     "text": [
      "Adapt Results:  Test on Adapt RNN, Domain BLM, Epoch 7, F1-micro-average 0.7284760799006654, Valid Score 0.7241894098932141\n",
      "\n",
      "Epoch: 8, Step: 300\n",
      "\tRegular Loss: 0.18222821340509426.\n",
      "\tAdapt Loss: 0.06172492293226362.\n",
      "-------------------------------------------------\n",
      "Regular Results:  Test on Regular RNN, Domain BLM, Epoch 8, F1-micro-average 0.6140781793027438, Valid Score 0.5944448332503118\n",
      "\n"
     ]
    },
    {
     "name": "stderr",
     "output_type": "stream",
     "text": [
      "\n",
      " 60%|██████    | 9/15 [01:12<00:48,  8.16s/it]\u001b[A"
     ]
    },
    {
     "name": "stdout",
     "output_type": "stream",
     "text": [
      "Adapt Results:  Test on Adapt RNN, Domain BLM, Epoch 8, F1-micro-average 0.7400785480364478, Valid Score 0.7411408468941417\n",
      "\n",
      "Epoch: 9, Step: 300\n",
      "\tRegular Loss: 0.17795521793175378.\n",
      "\tAdapt Loss: 0.03334483966553132.\n",
      "-------------------------------------------------\n",
      "Regular Results:  Test on Regular RNN, Domain BLM, Epoch 9, F1-micro-average 0.6366780008303182, Valid Score 0.6205848639138433\n",
      "\n"
     ]
    },
    {
     "name": "stderr",
     "output_type": "stream",
     "text": [
      "\n",
      " 67%|██████▋   | 10/15 [01:20<00:41,  8.22s/it]\u001b[A"
     ]
    },
    {
     "name": "stdout",
     "output_type": "stream",
     "text": [
      "Adapt Results:  Test on Adapt RNN, Domain BLM, Epoch 9, F1-micro-average 0.7498249041121625, Valid Score 0.7549501381518169\n",
      "\n",
      "Epoch: 10, Step: 300\n",
      "\tRegular Loss: 0.17452116273467327.\n",
      "\tAdapt Loss: 0.05240077040223188.\n",
      "-------------------------------------------------\n",
      "Regular Results:  Test on Regular RNN, Domain BLM, Epoch 10, F1-micro-average 0.6618156300877327, Valid Score 0.6492001804870239\n",
      "\n"
     ]
    },
    {
     "name": "stderr",
     "output_type": "stream",
     "text": [
      "\n",
      " 73%|███████▎  | 11/15 [01:29<00:33,  8.31s/it]\u001b[A"
     ]
    },
    {
     "name": "stdout",
     "output_type": "stream",
     "text": [
      "Adapt Results:  Test on Adapt RNN, Domain BLM, Epoch 10, F1-micro-average 0.7622988975692825, Valid Score 0.7624579792501128\n",
      "\n",
      "Epoch: 11, Step: 300\n",
      "\tRegular Loss: 0.17159703836785598.\n",
      "\tAdapt Loss: 0.027251076237901895.\n",
      "-------------------------------------------------\n"
     ]
    },
    {
     "name": "stderr",
     "output_type": "stream",
     "text": [
      "\n",
      " 80%|████████  | 12/15 [01:36<00:24,  8.12s/it]\u001b[A"
     ]
    },
    {
     "name": "stdout",
     "output_type": "stream",
     "text": [
      "Adapt Results:  Test on Adapt RNN, Domain BLM, Epoch 11, F1-micro-average 0.7798283663246127, Valid Score 0.7767693918283256\n",
      "\n",
      "Epoch: 12, Step: 300\n",
      "\tRegular Loss: 0.16917112415217087.\n",
      "\tAdapt Loss: 0.02312477223537986.\n",
      "-------------------------------------------------\n",
      "Regular Results:  Test on Regular RNN, Domain BLM, Epoch 12, F1-micro-average 0.6800843027557232, Valid Score 0.6759460047324953\n",
      "\n"
     ]
    },
    {
     "name": "stderr",
     "output_type": "stream",
     "text": [
      "\n",
      " 87%|████████▋ | 13/15 [01:44<00:16,  8.06s/it]\u001b[A"
     ]
    },
    {
     "name": "stdout",
     "output_type": "stream",
     "text": [
      "Adapt Results:  Test on Adapt RNN, Domain BLM, Epoch 12, F1-micro-average 0.7884146502068429, Valid Score 0.7898069162175878\n",
      "\n",
      "Epoch: 13, Step: 300\n",
      "\tRegular Loss: 0.1666550458566691.\n",
      "\tAdapt Loss: 0.027034175907110058.\n",
      "-------------------------------------------------\n"
     ]
    },
    {
     "name": "stderr",
     "output_type": "stream",
     "text": [
      "\n",
      " 93%|█████████▎| 14/15 [01:52<00:07,  7.83s/it]\u001b[A"
     ]
    },
    {
     "name": "stdout",
     "output_type": "stream",
     "text": [
      "Adapt Results:  Test on Adapt RNN, Domain BLM, Epoch 13, F1-micro-average 0.796623280723016, Valid Score 0.8037685838953273\n",
      "\n",
      "Epoch: 14, Step: 300\n",
      "\tRegular Loss: 0.16427913191805646.\n",
      "\tAdapt Loss: 0.04377680808998818.\n",
      "-------------------------------------------------\n"
     ]
    },
    {
     "name": "stderr",
     "output_type": "stream",
     "text": [
      "\n",
      "100%|██████████| 15/15 [01:59<00:00,  7.95s/it]\u001b[A\n",
      " 43%|████▎     | 3/7 [05:59<07:59, 119.90s/it]\n",
      "  0%|          | 0/15 [00:00<?, ?it/s]\u001b[A"
     ]
    },
    {
     "name": "stdout",
     "output_type": "stream",
     "text": [
      "Start to train...\n",
      "{'result_path': '../resource/results/adapt_rnn.txt', 'model_dir': '../resource/model/adapt_rnn/', 'dname': 'all', 'dpath': '../data/dataset.tsv', 'max_feature': 15000, 'over_sample': True, 'domain_name': 'corpus', 'epochs': 15, 'batch_size': 64, 'lr': 9e-05, 'max_len': 100, 'dp_rate': 0.2, 'optimizer': 'rmsprop', 'emb_path': '/data/models/glove.twitter.27B.200d.txt', 'emb_dim': 200, 'unique_domains': ['ALM', 'Baltimore', 'BLM', 'Davidson', 'Election', 'MeToo', 'Sandy'], 'bidirectional': False, 'device': device(type='cuda'), 'num_label': 11, 'tok_dir': '../resource/model/adapt_rnn', 'word_emb_path': '../resource/model/adapt_rnn/all.npy'}\n",
      "Epoch: 0, Step: 300\n",
      "\tRegular Loss: 0.335354083301221.\n",
      "\tAdapt Loss: 0.023747866289485928.\n",
      "-------------------------------------------------\n",
      "Regular Results:  Test on Regular RNN, Domain Davidson, Epoch 0, F1-micro-average 0.8007230615979772, Valid Score 0.7863192889503494\n",
      "\n",
      "Regular Results:  Test on Indomain RNN, Domain Davidson, Epoch 0, F1-micro-average 0.951287659259722, Valid Score 0.9444288717972256\n",
      "\n"
     ]
    },
    {
     "name": "stderr",
     "output_type": "stream",
     "text": [
      "\n",
      "  7%|▋         | 1/15 [00:08<01:59,  8.55s/it]\u001b[A"
     ]
    },
    {
     "name": "stdout",
     "output_type": "stream",
     "text": [
      "Adapt Results:  Test on Adapt RNN, Domain Davidson, Epoch 0, F1-micro-average 0.9554169625431509, Valid Score 0.9495735301789349\n",
      "\n",
      "Epoch: 1, Step: 300\n",
      "\tRegular Loss: 0.2948527258891996.\n",
      "\tAdapt Loss: 0.021087185550864748.\n",
      "-------------------------------------------------\n"
     ]
    },
    {
     "name": "stderr",
     "output_type": "stream",
     "text": [
      "\n",
      " 13%|█▎        | 2/15 [00:16<01:49,  8.43s/it]\u001b[A"
     ]
    },
    {
     "name": "stdout",
     "output_type": "stream",
     "text": [
      "Regular Results:  Test on Regular RNN, Domain Davidson, Epoch 1, F1-micro-average 0.8928537438203464, Valid Score 0.8740953180854442\n",
      "\n",
      "Regular Results:  Test on Indomain RNN, Domain Davidson, Epoch 1, F1-micro-average 0.955285122671176, Valid Score 0.9495735301789348\n",
      "\n",
      "Epoch: 2, Step: 300\n",
      "\tRegular Loss: 0.25783401881143503.\n",
      "\tAdapt Loss: 0.016070950142049116.\n",
      "-------------------------------------------------\n"
     ]
    },
    {
     "name": "stderr",
     "output_type": "stream",
     "text": [
      "\n",
      " 20%|██        | 3/15 [00:24<01:40,  8.35s/it]\u001b[A"
     ]
    },
    {
     "name": "stdout",
     "output_type": "stream",
     "text": [
      "Regular Results:  Test on Regular RNN, Domain Davidson, Epoch 2, F1-micro-average 0.9230992260525258, Valid Score 0.9082870958850096\n",
      "\n",
      "Regular Results:  Test on Indomain RNN, Domain Davidson, Epoch 2, F1-micro-average 0.9554169625431509, Valid Score 0.9495735301789349\n",
      "\n",
      "Epoch: 3, Step: 300\n",
      "\tRegular Loss: 0.2386918298627847.\n",
      "\tAdapt Loss: 0.012260155954964434.\n",
      "-------------------------------------------------\n"
     ]
    },
    {
     "name": "stderr",
     "output_type": "stream",
     "text": [
      "\n",
      " 27%|██▋       | 4/15 [00:32<01:31,  8.28s/it]\u001b[A"
     ]
    },
    {
     "name": "stdout",
     "output_type": "stream",
     "text": [
      "Epoch: 4, Step: 300\n",
      "\tRegular Loss: 0.2231805736935416.\n",
      "\tAdapt Loss: 0.0122621276530366.\n",
      "-------------------------------------------------\n"
     ]
    },
    {
     "name": "stderr",
     "output_type": "stream",
     "text": [
      "\n",
      " 33%|███▎      | 5/15 [00:39<01:18,  7.89s/it]\u001b[A"
     ]
    },
    {
     "name": "stdout",
     "output_type": "stream",
     "text": [
      "Epoch: 5, Step: 300\n",
      "\tRegular Loss: 0.214320495625667.\n",
      "\tAdapt Loss: 0.013344868762338181.\n",
      "-------------------------------------------------\n"
     ]
    },
    {
     "name": "stderr",
     "output_type": "stream",
     "text": [
      "\n",
      " 40%|████      | 6/15 [00:47<01:09,  7.70s/it]\u001b[A"
     ]
    },
    {
     "name": "stdout",
     "output_type": "stream",
     "text": [
      "Regular Results:  Test on Regular RNN, Domain Davidson, Epoch 5, F1-micro-average 0.9352267323647193, Valid Score 0.9187689167557895\n",
      "\n",
      "Epoch: 6, Step: 300\n",
      "\tRegular Loss: 0.2049541039225271.\n",
      "\tAdapt Loss: 0.00896609790524177.\n",
      "-------------------------------------------------\n"
     ]
    },
    {
     "name": "stderr",
     "output_type": "stream",
     "text": [
      "\n",
      " 47%|████▋     | 7/15 [00:54<01:00,  7.53s/it]\u001b[A"
     ]
    },
    {
     "name": "stdout",
     "output_type": "stream",
     "text": [
      "Epoch: 7, Step: 300\n",
      "\tRegular Loss: 0.19859098808907988.\n",
      "\tAdapt Loss: 0.006830591283757178.\n",
      "-------------------------------------------------\n"
     ]
    },
    {
     "name": "stderr",
     "output_type": "stream",
     "text": [
      "\n",
      " 53%|█████▎    | 8/15 [01:01<00:51,  7.40s/it]\u001b[A"
     ]
    },
    {
     "name": "stdout",
     "output_type": "stream",
     "text": [
      "Epoch: 8, Step: 300\n",
      "\tRegular Loss: 0.19499191201208438.\n",
      "\tAdapt Loss: 0.011119869491240116.\n",
      "-------------------------------------------------\n"
     ]
    },
    {
     "name": "stderr",
     "output_type": "stream",
     "text": [
      "\n",
      " 60%|██████    | 9/15 [01:08<00:44,  7.39s/it]\u001b[A"
     ]
    },
    {
     "name": "stdout",
     "output_type": "stream",
     "text": [
      "Epoch: 9, Step: 300\n",
      "\tRegular Loss: 0.1896093833288085.\n",
      "\tAdapt Loss: 0.011522858739332405.\n",
      "-------------------------------------------------\n"
     ]
    },
    {
     "name": "stderr",
     "output_type": "stream",
     "text": [
      "\n",
      " 67%|██████▋   | 10/15 [01:16<00:36,  7.37s/it]\u001b[A"
     ]
    },
    {
     "name": "stdout",
     "output_type": "stream",
     "text": [
      "Epoch: 10, Step: 300\n",
      "\tRegular Loss: 0.18733677837341728.\n",
      "\tAdapt Loss: 0.015447952827915203.\n",
      "-------------------------------------------------\n"
     ]
    },
    {
     "name": "stderr",
     "output_type": "stream",
     "text": [
      "\n",
      " 73%|███████▎  | 11/15 [01:23<00:29,  7.48s/it]\u001b[A"
     ]
    },
    {
     "name": "stdout",
     "output_type": "stream",
     "text": [
      "Epoch: 11, Step: 300\n",
      "\tRegular Loss: 0.18448850227847843.\n",
      "\tAdapt Loss: 0.011479812349344408.\n",
      "-------------------------------------------------\n"
     ]
    },
    {
     "name": "stderr",
     "output_type": "stream",
     "text": [
      "\n",
      " 80%|████████  | 12/15 [01:30<00:22,  7.37s/it]\u001b[A"
     ]
    },
    {
     "name": "stdout",
     "output_type": "stream",
     "text": [
      "Epoch: 12, Step: 300\n",
      "\tRegular Loss: 0.18132574371127194.\n",
      "\tAdapt Loss: 0.008080918434697925.\n",
      "-------------------------------------------------\n"
     ]
    },
    {
     "name": "stderr",
     "output_type": "stream",
     "text": [
      "\n",
      " 87%|████████▋ | 13/15 [01:38<00:14,  7.43s/it]\u001b[A"
     ]
    },
    {
     "name": "stdout",
     "output_type": "stream",
     "text": [
      "Epoch: 13, Step: 300\n",
      "\tRegular Loss: 0.1774687609353731.\n",
      "\tAdapt Loss: 0.00976393960317306.\n",
      "-------------------------------------------------\n"
     ]
    },
    {
     "name": "stderr",
     "output_type": "stream",
     "text": [
      "\n",
      " 93%|█████████▎| 14/15 [01:46<00:07,  7.56s/it]\u001b[A"
     ]
    },
    {
     "name": "stdout",
     "output_type": "stream",
     "text": [
      "Epoch: 14, Step: 300\n",
      "\tRegular Loss: 0.1759400624422932.\n",
      "\tAdapt Loss: 0.005463436060272578.\n",
      "-------------------------------------------------\n"
     ]
    },
    {
     "name": "stderr",
     "output_type": "stream",
     "text": [
      "\n",
      "100%|██████████| 15/15 [01:54<00:00,  7.61s/it]\u001b[A\n",
      " 57%|█████▋    | 4/7 [07:53<05:54, 118.22s/it]\n",
      "  0%|          | 0/15 [00:00<?, ?it/s]\u001b[A"
     ]
    },
    {
     "name": "stdout",
     "output_type": "stream",
     "text": [
      "Start to train...\n",
      "{'result_path': '../resource/results/adapt_rnn.txt', 'model_dir': '../resource/model/adapt_rnn/', 'dname': 'all', 'dpath': '../data/dataset.tsv', 'max_feature': 15000, 'over_sample': True, 'domain_name': 'corpus', 'epochs': 15, 'batch_size': 64, 'lr': 9e-05, 'max_len': 100, 'dp_rate': 0.2, 'optimizer': 'rmsprop', 'emb_path': '/data/models/glove.twitter.27B.200d.txt', 'emb_dim': 200, 'unique_domains': ['ALM', 'Baltimore', 'BLM', 'Davidson', 'Election', 'MeToo', 'Sandy'], 'bidirectional': False, 'device': device(type='cuda'), 'num_label': 11, 'tok_dir': '../resource/model/adapt_rnn', 'word_emb_path': '../resource/model/adapt_rnn/all.npy'}\n",
      "Epoch: 0, Step: 300\n",
      "\tRegular Loss: 0.31629965298397594.\n",
      "\tAdapt Loss: 0.06223594747557989.\n",
      "-------------------------------------------------\n",
      "Regular Results:  Test on Regular RNN, Domain Election, Epoch 0, F1-micro-average 0.4039275072332658, Valid Score 0.3846780940939223\n",
      "\n",
      "Regular Results:  Test on Indomain RNN, Domain Election, Epoch 0, F1-micro-average 0.5259201930949843, Valid Score 0.5258663773951632\n",
      "\n"
     ]
    },
    {
     "name": "stderr",
     "output_type": "stream",
     "text": [
      "\n",
      "  7%|▋         | 1/15 [00:07<01:48,  7.76s/it]\u001b[A"
     ]
    },
    {
     "name": "stdout",
     "output_type": "stream",
     "text": [
      "Adapt Results:  Test on Adapt RNN, Domain Election, Epoch 0, F1-micro-average 0.5117705881916625, Valid Score 0.4935307250691049\n",
      "\n",
      "Epoch: 1, Step: 300\n",
      "\tRegular Loss: 0.2641389792741731.\n",
      "\tAdapt Loss: 0.055135006821432776.\n",
      "-------------------------------------------------\n",
      "Regular Results:  Test on Indomain RNN, Domain Election, Epoch 1, F1-micro-average 0.5494713521053664, Valid Score 0.54692576382973\n",
      "\n"
     ]
    },
    {
     "name": "stderr",
     "output_type": "stream",
     "text": [
      "\n",
      " 13%|█▎        | 2/15 [00:14<01:38,  7.57s/it]\u001b[A"
     ]
    },
    {
     "name": "stdout",
     "output_type": "stream",
     "text": [
      "Adapt Results:  Test on Adapt RNN, Domain Election, Epoch 1, F1-micro-average 0.5114205462771334, Valid Score 0.5141353589351303\n",
      "\n",
      "Epoch: 2, Step: 300\n",
      "\tRegular Loss: 0.23602792001839887.\n",
      "\tAdapt Loss: 0.04882637323483676.\n",
      "-------------------------------------------------\n"
     ]
    },
    {
     "name": "stderr",
     "output_type": "stream",
     "text": [
      "\n",
      " 20%|██        | 3/15 [00:22<01:31,  7.60s/it]\u001b[A"
     ]
    },
    {
     "name": "stdout",
     "output_type": "stream",
     "text": [
      "Adapt Results:  Test on Adapt RNN, Domain Election, Epoch 2, F1-micro-average 0.5322280359354176, Valid Score 0.5372933182332955\n",
      "\n",
      "Epoch: 3, Step: 300\n",
      "\tRegular Loss: 0.21794775598666993.\n",
      "\tAdapt Loss: 0.023608850111002937.\n",
      "-------------------------------------------------\n",
      "Regular Results:  Test on Regular RNN, Domain Election, Epoch 3, F1-micro-average 0.4073858776182214, Valid Score 0.41342890932348614\n",
      "\n"
     ]
    },
    {
     "name": "stderr",
     "output_type": "stream",
     "text": [
      "\n",
      " 27%|██▋       | 4/15 [00:30<01:25,  7.76s/it]\u001b[A"
     ]
    },
    {
     "name": "stdout",
     "output_type": "stream",
     "text": [
      "Adapt Results:  Test on Adapt RNN, Domain Election, Epoch 3, F1-micro-average 0.5662509393566011, Valid Score 0.5800685292482767\n",
      "\n",
      "Epoch: 4, Step: 300\n",
      "\tRegular Loss: 0.2044901331001738.\n",
      "\tAdapt Loss: 0.03843193767326219.\n",
      "-------------------------------------------------\n",
      "Regular Results:  Test on Regular RNN, Domain Election, Epoch 4, F1-micro-average 0.4841216325093355, Valid Score 0.5038262885203268\n",
      "\n"
     ]
    },
    {
     "name": "stderr",
     "output_type": "stream",
     "text": [
      "\n",
      " 33%|███▎      | 5/15 [00:38<01:18,  7.84s/it]\u001b[A"
     ]
    },
    {
     "name": "stdout",
     "output_type": "stream",
     "text": [
      "Adapt Results:  Test on Adapt RNN, Domain Election, Epoch 4, F1-micro-average 0.5926396868937903, Valid Score 0.5985984137622056\n",
      "\n",
      "Epoch: 5, Step: 300\n",
      "\tRegular Loss: 0.19560625426396974.\n",
      "\tAdapt Loss: 0.029814103717275237.\n",
      "-------------------------------------------------\n",
      "Regular Results:  Test on Regular RNN, Domain Election, Epoch 5, F1-micro-average 0.5280251683492595, Valid Score 0.5435510887772195\n",
      "\n"
     ]
    },
    {
     "name": "stderr",
     "output_type": "stream",
     "text": [
      "\n",
      " 40%|████      | 6/15 [00:46<01:11,  7.97s/it]\u001b[A"
     ]
    },
    {
     "name": "stdout",
     "output_type": "stream",
     "text": [
      "Adapt Results:  Test on Adapt RNN, Domain Election, Epoch 5, F1-micro-average 0.6230049508207773, Valid Score 0.6458570915109535\n",
      "\n",
      "Epoch: 6, Step: 300\n",
      "\tRegular Loss: 0.19070129146013545.\n",
      "\tAdapt Loss: 0.03230629404666416.\n",
      "-------------------------------------------------\n",
      "Regular Results:  Test on Regular RNN, Domain Election, Epoch 6, F1-micro-average 0.5284047437350319, Valid Score 0.5618762315172292\n",
      "\n"
     ]
    },
    {
     "name": "stderr",
     "output_type": "stream",
     "text": [
      "\n",
      " 47%|████▋     | 7/15 [00:55<01:03,  8.00s/it]\u001b[A"
     ]
    },
    {
     "name": "stdout",
     "output_type": "stream",
     "text": [
      "Adapt Results:  Test on Adapt RNN, Domain Election, Epoch 6, F1-micro-average 0.6426994637410878, Valid Score 0.6623736181596444\n",
      "\n",
      "Epoch: 7, Step: 300\n",
      "\tRegular Loss: 0.18371251515078782.\n",
      "\tAdapt Loss: 0.019691410372374065.\n",
      "-------------------------------------------------\n",
      "Regular Results:  Test on Regular RNN, Domain Election, Epoch 7, F1-micro-average 0.5776560560946767, Valid Score 0.610210130286883\n",
      "\n"
     ]
    },
    {
     "name": "stderr",
     "output_type": "stream",
     "text": [
      "\n",
      " 53%|█████▎    | 8/15 [01:02<00:55,  7.95s/it]\u001b[A"
     ]
    },
    {
     "name": "stdout",
     "output_type": "stream",
     "text": [
      "Adapt Results:  Test on Adapt RNN, Domain Election, Epoch 7, F1-micro-average 0.6574952159890337, Valid Score 0.677101965181193\n",
      "\n",
      "Epoch: 8, Step: 300\n",
      "\tRegular Loss: 0.17908785296634977.\n",
      "\tAdapt Loss: 0.029261809161112356.\n",
      "-------------------------------------------------\n",
      "Regular Results:  Test on Regular RNN, Domain Election, Epoch 8, F1-micro-average 0.5931109735257752, Valid Score 0.6155875045955371\n",
      "\n"
     ]
    },
    {
     "name": "stderr",
     "output_type": "stream",
     "text": [
      "\n",
      " 60%|██████    | 9/15 [01:10<00:47,  7.97s/it]\u001b[A"
     ]
    },
    {
     "name": "stdout",
     "output_type": "stream",
     "text": [
      "Adapt Results:  Test on Adapt RNN, Domain Election, Epoch 8, F1-micro-average 0.6713344359171605, Valid Score 0.695020908446701\n",
      "\n",
      "Epoch: 9, Step: 300\n",
      "\tRegular Loss: 0.17429800663279538.\n",
      "\tAdapt Loss: 0.0336448742677009.\n",
      "-------------------------------------------------\n",
      "Regular Results:  Test on Regular RNN, Domain Election, Epoch 9, F1-micro-average 0.6057157668997352, Valid Score 0.6236346694322508\n",
      "\n"
     ]
    },
    {
     "name": "stderr",
     "output_type": "stream",
     "text": [
      "\n",
      " 67%|██████▋   | 10/15 [01:18<00:38,  7.78s/it]\u001b[A"
     ]
    },
    {
     "name": "stdout",
     "output_type": "stream",
     "text": [
      "Adapt Results:  Test on Adapt RNN, Domain Election, Epoch 9, F1-micro-average 0.67374112235236, Valid Score 0.6974990915094669\n",
      "\n",
      "Epoch: 10, Step: 300\n",
      "\tRegular Loss: 0.17136726417018724.\n",
      "\tAdapt Loss: 0.02771617295498963.\n",
      "-------------------------------------------------\n",
      "Regular Results:  Test on Indomain RNN, Domain Election, Epoch 10, F1-micro-average 0.5504554840259734, Valid Score 0.5469257638297302\n",
      "\n"
     ]
    },
    {
     "name": "stderr",
     "output_type": "stream",
     "text": [
      "\n",
      " 73%|███████▎  | 11/15 [01:26<00:31,  7.80s/it]\u001b[A"
     ]
    },
    {
     "name": "stdout",
     "output_type": "stream",
     "text": [
      "Adapt Results:  Test on Adapt RNN, Domain Election, Epoch 10, F1-micro-average 0.6869121955300561, Valid Score 0.7082562758006935\n",
      "\n",
      "Epoch: 11, Step: 300\n",
      "\tRegular Loss: 0.16834722890014267.\n",
      "\tAdapt Loss: 0.05062958701479672.\n",
      "-------------------------------------------------\n"
     ]
    },
    {
     "name": "stderr",
     "output_type": "stream",
     "text": [
      "\n",
      " 80%|████████  | 12/15 [01:34<00:23,  7.90s/it]\u001b[A"
     ]
    },
    {
     "name": "stdout",
     "output_type": "stream",
     "text": [
      "Regular Results:  Test on Regular RNN, Domain Election, Epoch 11, F1-micro-average 0.6153968193683234, Valid Score 0.6446178591193696\n",
      "\n",
      "Epoch: 12, Step: 300\n",
      "\tRegular Loss: 0.16668203908739693.\n",
      "\tAdapt Loss: 0.03313441844378595.\n",
      "-------------------------------------------------\n"
     ]
    },
    {
     "name": "stderr",
     "output_type": "stream",
     "text": [
      "\n",
      " 87%|████████▋ | 13/15 [01:42<00:15,  7.89s/it]\u001b[A"
     ]
    },
    {
     "name": "stdout",
     "output_type": "stream",
     "text": [
      "Adapt Results:  Test on Adapt RNN, Domain Election, Epoch 12, F1-micro-average 0.6977430411997093, Valid Score 0.7172107599895534\n",
      "\n",
      "Epoch: 13, Step: 300\n",
      "\tRegular Loss: 0.16367672440716594.\n",
      "\tAdapt Loss: 0.01904452071243594.\n",
      "-------------------------------------------------\n"
     ]
    },
    {
     "name": "stderr",
     "output_type": "stream",
     "text": [
      "\n",
      " 93%|█████████▎| 14/15 [01:49<00:07,  7.81s/it]\u001b[A"
     ]
    },
    {
     "name": "stdout",
     "output_type": "stream",
     "text": [
      "Epoch: 14, Step: 300\n",
      "\tRegular Loss: 0.16157039492530284.\n",
      "\tAdapt Loss: 0.022668571115480703.\n",
      "-------------------------------------------------\n"
     ]
    },
    {
     "name": "stderr",
     "output_type": "stream",
     "text": [
      "\n",
      "100%|██████████| 15/15 [01:57<00:00,  7.83s/it]\u001b[A\n",
      " 71%|███████▏  | 5/7 [09:50<03:56, 118.05s/it]\n",
      "  0%|          | 0/15 [00:00<?, ?it/s]\u001b[A"
     ]
    },
    {
     "name": "stdout",
     "output_type": "stream",
     "text": [
      "Adapt Results:  Test on Adapt RNN, Domain Election, Epoch 14, F1-micro-average 0.7000077840402323, Valid Score 0.7193424816951947\n",
      "\n",
      "Start to train...\n",
      "{'result_path': '../resource/results/adapt_rnn.txt', 'model_dir': '../resource/model/adapt_rnn/', 'dname': 'all', 'dpath': '../data/dataset.tsv', 'max_feature': 15000, 'over_sample': True, 'domain_name': 'corpus', 'epochs': 15, 'batch_size': 64, 'lr': 9e-05, 'max_len': 100, 'dp_rate': 0.2, 'optimizer': 'rmsprop', 'emb_path': '/data/models/glove.twitter.27B.200d.txt', 'emb_dim': 200, 'unique_domains': ['ALM', 'Baltimore', 'BLM', 'Davidson', 'Election', 'MeToo', 'Sandy'], 'bidirectional': False, 'device': device(type='cuda'), 'num_label': 11, 'tok_dir': '../resource/model/adapt_rnn', 'word_emb_path': '../resource/model/adapt_rnn/all.npy'}\n",
      "Epoch: 0, Step: 300\n",
      "\tRegular Loss: 0.30196446299156876.\n",
      "\tAdapt Loss: 0.08829665494668128.\n",
      "-------------------------------------------------\n",
      "Regular Results:  Test on Regular RNN, Domain MeToo, Epoch 0, F1-micro-average 0.23551981432177496, Valid Score 0.24893577257719543\n",
      "\n",
      "Regular Results:  Test on Indomain RNN, Domain MeToo, Epoch 0, F1-micro-average 0.04653655927054449, Valid Score 0.05300663503618274\n",
      "\n"
     ]
    },
    {
     "name": "stderr",
     "output_type": "stream",
     "text": [
      "\n",
      "  7%|▋         | 1/15 [00:08<01:52,  8.02s/it]\u001b[A"
     ]
    },
    {
     "name": "stdout",
     "output_type": "stream",
     "text": [
      "Adapt Results:  Test on Adapt RNN, Domain MeToo, Epoch 0, F1-micro-average 0.07070355896537753, Valid Score 0.07554374896231114\n",
      "\n",
      "Epoch: 1, Step: 300\n",
      "\tRegular Loss: 0.25201303786613616.\n",
      "\tAdapt Loss: 0.05520818678297078.\n",
      "-------------------------------------------------\n",
      "Regular Results:  Test on Regular RNN, Domain MeToo, Epoch 1, F1-micro-average 0.28638861900386337, Valid Score 0.3099195482816447\n",
      "\n"
     ]
    },
    {
     "name": "stderr",
     "output_type": "stream",
     "text": [
      "\n",
      " 13%|█▎        | 2/15 [00:15<01:43,  8.00s/it]\u001b[A"
     ]
    },
    {
     "name": "stdout",
     "output_type": "stream",
     "text": [
      "Adapt Results:  Test on Adapt RNN, Domain MeToo, Epoch 1, F1-micro-average 0.2502714998514528, Valid Score 0.24930733732956625\n",
      "\n",
      "Epoch: 2, Step: 300\n",
      "\tRegular Loss: 0.23135411481920667.\n",
      "\tAdapt Loss: 0.03454161756532731.\n",
      "-------------------------------------------------\n",
      "Regular Results:  Test on Regular RNN, Domain MeToo, Epoch 2, F1-micro-average 0.3449502355572067, Valid Score 0.3688104678116582\n",
      "\n"
     ]
    },
    {
     "name": "stderr",
     "output_type": "stream",
     "text": [
      "\n",
      " 20%|██        | 3/15 [00:23<01:34,  7.90s/it]\u001b[A"
     ]
    },
    {
     "name": "stdout",
     "output_type": "stream",
     "text": [
      "Adapt Results:  Test on Adapt RNN, Domain MeToo, Epoch 2, F1-micro-average 0.30586225397059724, Valid Score 0.30758467470761447\n",
      "\n",
      "Epoch: 3, Step: 300\n",
      "\tRegular Loss: 0.20887731713710037.\n",
      "\tAdapt Loss: 0.034268731443192875.\n",
      "-------------------------------------------------\n",
      "Regular Results:  Test on Regular RNN, Domain MeToo, Epoch 3, F1-micro-average 0.3795510494776999, Valid Score 0.3942003204822495\n",
      "\n"
     ]
    },
    {
     "name": "stderr",
     "output_type": "stream",
     "text": [
      "\n",
      " 27%|██▋       | 4/15 [00:31<01:25,  7.77s/it]\u001b[A"
     ]
    },
    {
     "name": "stdout",
     "output_type": "stream",
     "text": [
      "Adapt Results:  Test on Adapt RNN, Domain MeToo, Epoch 3, F1-micro-average 0.3405803012557764, Valid Score 0.35446116190528937\n",
      "\n",
      "Epoch: 4, Step: 300\n",
      "\tRegular Loss: 0.1947854341462601.\n",
      "\tAdapt Loss: 0.023547584998523476.\n",
      "-------------------------------------------------\n",
      "Regular Results:  Test on Regular RNN, Domain MeToo, Epoch 4, F1-micro-average 0.41438798306633595, Valid Score 0.4170438510820141\n",
      "\n"
     ]
    },
    {
     "name": "stderr",
     "output_type": "stream",
     "text": [
      "\n",
      " 33%|███▎      | 5/15 [00:39<01:18,  7.85s/it]\u001b[A"
     ]
    },
    {
     "name": "stdout",
     "output_type": "stream",
     "text": [
      "Adapt Results:  Test on Adapt RNN, Domain MeToo, Epoch 4, F1-micro-average 0.372669324589458, Valid Score 0.37468340301716063\n",
      "\n",
      "Epoch: 5, Step: 300\n",
      "\tRegular Loss: 0.1859125526145447.\n",
      "\tAdapt Loss: 0.02652640275013605.\n",
      "-------------------------------------------------\n",
      "Regular Results:  Test on Regular RNN, Domain MeToo, Epoch 5, F1-micro-average 0.4368887048954073, Valid Score 0.4283172343670565\n",
      "\n"
     ]
    },
    {
     "name": "stderr",
     "output_type": "stream",
     "text": [
      "\n",
      " 40%|████      | 6/15 [00:46<01:10,  7.82s/it]\u001b[A"
     ]
    },
    {
     "name": "stdout",
     "output_type": "stream",
     "text": [
      "Adapt Results:  Test on Adapt RNN, Domain MeToo, Epoch 5, F1-micro-average 0.4071747500608235, Valid Score 0.4114219504570885\n",
      "\n",
      "Epoch: 6, Step: 300\n",
      "\tRegular Loss: 0.1779261413602734.\n",
      "\tAdapt Loss: 0.018155062119430087.\n",
      "-------------------------------------------------\n",
      "Regular Results:  Test on Regular RNN, Domain MeToo, Epoch 6, F1-micro-average 0.45096976921576326, Valid Score 0.4540199208601778\n",
      "\n"
     ]
    },
    {
     "name": "stderr",
     "output_type": "stream",
     "text": [
      "\n",
      " 47%|████▋     | 7/15 [00:54<01:02,  7.83s/it]\u001b[A"
     ]
    },
    {
     "name": "stdout",
     "output_type": "stream",
     "text": [
      "Adapt Results:  Test on Adapt RNN, Domain MeToo, Epoch 6, F1-micro-average 0.43591467891178654, Valid Score 0.43937234210225284\n",
      "\n",
      "Epoch: 7, Step: 300\n",
      "\tRegular Loss: 0.1713871777651714.\n",
      "\tAdapt Loss: 0.022561290715991264.\n",
      "-------------------------------------------------\n"
     ]
    },
    {
     "name": "stderr",
     "output_type": "stream",
     "text": [
      "\n",
      " 53%|█████▎    | 8/15 [01:02<00:54,  7.80s/it]\u001b[A"
     ]
    },
    {
     "name": "stdout",
     "output_type": "stream",
     "text": [
      "Regular Results:  Test on Regular RNN, Domain MeToo, Epoch 7, F1-micro-average 0.4628830187470899, Valid Score 0.46450568016730215\n",
      "\n",
      "Epoch: 8, Step: 300\n",
      "\tRegular Loss: 0.16690046864985628.\n",
      "\tAdapt Loss: 0.04539332259755792.\n",
      "-------------------------------------------------\n",
      "Regular Results:  Test on Regular RNN, Domain MeToo, Epoch 8, F1-micro-average 0.4643685652882792, Valid Score 0.4655630318275179\n",
      "\n"
     ]
    },
    {
     "name": "stderr",
     "output_type": "stream",
     "text": [
      "\n",
      " 60%|██████    | 9/15 [01:10<00:46,  7.80s/it]\u001b[A"
     ]
    },
    {
     "name": "stdout",
     "output_type": "stream",
     "text": [
      "Adapt Results:  Test on Adapt RNN, Domain MeToo, Epoch 8, F1-micro-average 0.481887915491711, Valid Score 0.47619780836361775\n",
      "\n",
      "Epoch: 9, Step: 300\n",
      "\tRegular Loss: 0.1625570959328021.\n",
      "\tAdapt Loss: 0.022903592641344696.\n",
      "-------------------------------------------------\n",
      "Regular Results:  Test on Regular RNN, Domain MeToo, Epoch 9, F1-micro-average 0.47751492709024723, Valid Score 0.4724172661354782\n",
      "\n"
     ]
    },
    {
     "name": "stderr",
     "output_type": "stream",
     "text": [
      "\n",
      " 67%|██████▋   | 10/15 [01:17<00:38,  7.73s/it]\u001b[A"
     ]
    },
    {
     "name": "stdout",
     "output_type": "stream",
     "text": [
      "Adapt Results:  Test on Adapt RNN, Domain MeToo, Epoch 9, F1-micro-average 0.503784201630114, Valid Score 0.49442178238908613\n",
      "\n",
      "Epoch: 10, Step: 300\n",
      "\tRegular Loss: 0.15861007791519957.\n",
      "\tAdapt Loss: 0.02592844258919606.\n",
      "-------------------------------------------------\n",
      "Regular Results:  Test on Regular RNN, Domain MeToo, Epoch 10, F1-micro-average 0.49417426892821537, Valid Score 0.48679128301907304\n",
      "\n"
     ]
    },
    {
     "name": "stderr",
     "output_type": "stream",
     "text": [
      "\n",
      " 73%|███████▎  | 11/15 [01:25<00:30,  7.60s/it]\u001b[A"
     ]
    },
    {
     "name": "stdout",
     "output_type": "stream",
     "text": [
      "Adapt Results:  Test on Adapt RNN, Domain MeToo, Epoch 10, F1-micro-average 0.5145344000237153, Valid Score 0.507288495338073\n",
      "\n",
      "Epoch: 11, Step: 300\n",
      "\tRegular Loss: 0.15632064261804784.\n",
      "\tAdapt Loss: 0.02459903184225492.\n",
      "-------------------------------------------------\n",
      "Regular Results:  Test on Regular RNN, Domain MeToo, Epoch 11, F1-micro-average 0.499824610567677, Valid Score 0.49171155952094026\n",
      "\n"
     ]
    },
    {
     "name": "stderr",
     "output_type": "stream",
     "text": [
      "\n",
      " 80%|████████  | 12/15 [01:32<00:22,  7.46s/it]\u001b[A"
     ]
    },
    {
     "name": "stdout",
     "output_type": "stream",
     "text": [
      "Adapt Results:  Test on Adapt RNN, Domain MeToo, Epoch 11, F1-micro-average 0.5310850376959892, Valid Score 0.5311825369422909\n",
      "\n",
      "Epoch: 12, Step: 300\n",
      "\tRegular Loss: 0.15368820986775464.\n",
      "\tAdapt Loss: 0.03053153661447902.\n",
      "-------------------------------------------------\n",
      "Regular Results:  Test on Regular RNN, Domain MeToo, Epoch 12, F1-micro-average 0.504034886944657, Valid Score 0.5086528306452429\n",
      "\n"
     ]
    },
    {
     "name": "stderr",
     "output_type": "stream",
     "text": [
      "\n",
      " 87%|████████▋ | 13/15 [01:39<00:14,  7.43s/it]\u001b[A"
     ]
    },
    {
     "name": "stdout",
     "output_type": "stream",
     "text": [
      "Adapt Results:  Test on Adapt RNN, Domain MeToo, Epoch 12, F1-micro-average 0.5479229360036211, Valid Score 0.5400887224333218\n",
      "\n",
      "Epoch: 13, Step: 300\n",
      "\tRegular Loss: 0.15063433574382648.\n",
      "\tAdapt Loss: 0.016425892605486502.\n",
      "-------------------------------------------------\n",
      "Regular Results:  Test on Regular RNN, Domain MeToo, Epoch 13, F1-micro-average 0.5181189483000789, Valid Score 0.520264772090143\n",
      "\n"
     ]
    },
    {
     "name": "stderr",
     "output_type": "stream",
     "text": [
      "\n",
      " 93%|█████████▎| 14/15 [01:46<00:07,  7.35s/it]\u001b[A"
     ]
    },
    {
     "name": "stdout",
     "output_type": "stream",
     "text": [
      "Adapt Results:  Test on Adapt RNN, Domain MeToo, Epoch 13, F1-micro-average 0.5557181808275345, Valid Score 0.5489498840392509\n",
      "\n",
      "Epoch: 14, Step: 300\n",
      "\tRegular Loss: 0.1482868430226348.\n",
      "\tAdapt Loss: 0.018539752207844953.\n",
      "-------------------------------------------------\n",
      "Regular Results:  Test on Regular RNN, Domain MeToo, Epoch 14, F1-micro-average 0.5241716639923862, Valid Score 0.5266510198545807\n",
      "\n"
     ]
    },
    {
     "name": "stderr",
     "output_type": "stream",
     "text": [
      "\n",
      "100%|██████████| 15/15 [01:54<00:00,  7.66s/it]\u001b[A\n",
      " 86%|████████▌ | 6/7 [11:46<01:57, 117.16s/it]\n",
      "  0%|          | 0/15 [00:00<?, ?it/s]\u001b[A"
     ]
    },
    {
     "name": "stdout",
     "output_type": "stream",
     "text": [
      "Adapt Results:  Test on Adapt RNN, Domain MeToo, Epoch 14, F1-micro-average 0.5650798128199676, Valid Score 0.5649081463303484\n",
      "\n",
      "Start to train...\n",
      "{'result_path': '../resource/results/adapt_rnn.txt', 'model_dir': '../resource/model/adapt_rnn/', 'dname': 'all', 'dpath': '../data/dataset.tsv', 'max_feature': 15000, 'over_sample': True, 'domain_name': 'corpus', 'epochs': 15, 'batch_size': 64, 'lr': 9e-05, 'max_len': 100, 'dp_rate': 0.2, 'optimizer': 'rmsprop', 'emb_path': '/data/models/glove.twitter.27B.200d.txt', 'emb_dim': 200, 'unique_domains': ['ALM', 'Baltimore', 'BLM', 'Davidson', 'Election', 'MeToo', 'Sandy'], 'bidirectional': False, 'device': device(type='cuda'), 'num_label': 11, 'tok_dir': '../resource/model/adapt_rnn', 'word_emb_path': '../resource/model/adapt_rnn/all.npy'}\n",
      "Epoch: 0, Step: 300\n",
      "\tRegular Loss: 0.30810202237379514.\n",
      "\tAdapt Loss: 0.012288755205060755.\n",
      "-------------------------------------------------\n"
     ]
    },
    {
     "name": "stderr",
     "output_type": "stream",
     "text": [
      "\n",
      "  7%|▋         | 1/15 [00:07<01:51,  7.97s/it]\u001b[A"
     ]
    },
    {
     "name": "stdout",
     "output_type": "stream",
     "text": [
      "Regular Results:  Test on Regular RNN, Domain Sandy, Epoch 0, F1-micro-average 0.13551317948786, Valid Score 0.12598425196850396\n",
      "\n",
      "Regular Results:  Test on Indomain RNN, Domain Sandy, Epoch 0, F1-micro-average 0.004467134652201658, Valid Score 0.005063291139240506\n",
      "\n",
      "Epoch: 1, Step: 300\n",
      "\tRegular Loss: 0.26089894479493364.\n",
      "\tAdapt Loss: 0.01195484631388538.\n",
      "-------------------------------------------------\n"
     ]
    },
    {
     "name": "stderr",
     "output_type": "stream",
     "text": [
      "\n",
      " 13%|█▎        | 2/15 [00:15<01:42,  7.85s/it]\u001b[A"
     ]
    },
    {
     "name": "stdout",
     "output_type": "stream",
     "text": [
      "Regular Results:  Test on Regular RNN, Domain Sandy, Epoch 1, F1-micro-average 0.18053220354735017, Valid Score 0.1845574387947269\n",
      "\n",
      "Adapt Results:  Test on Adapt RNN, Domain Sandy, Epoch 1, F1-micro-average 0.006795316820615403, Valid Score 0.0025940337224383916\n",
      "\n",
      "Epoch: 2, Step: 300\n",
      "\tRegular Loss: 0.23622065653832647.\n",
      "\tAdapt Loss: 0.012651621702860459.\n",
      "-------------------------------------------------\n"
     ]
    },
    {
     "name": "stderr",
     "output_type": "stream",
     "text": [
      "\n",
      " 20%|██        | 3/15 [00:23<01:33,  7.80s/it]\u001b[A"
     ]
    },
    {
     "name": "stdout",
     "output_type": "stream",
     "text": [
      "Regular Results:  Test on Regular RNN, Domain Sandy, Epoch 2, F1-micro-average 0.20527796506045165, Valid Score 0.1849162838939102\n",
      "\n",
      "Adapt Results:  Test on Adapt RNN, Domain Sandy, Epoch 2, F1-micro-average 0.07787691468904491, Valid Score 0.040438079191238416\n",
      "\n",
      "Epoch: 3, Step: 300\n",
      "\tRegular Loss: 0.21512889337302046.\n",
      "\tAdapt Loss: 0.011090613559717653.\n",
      "-------------------------------------------------\n"
     ]
    },
    {
     "name": "stderr",
     "output_type": "stream",
     "text": [
      "\n",
      " 27%|██▋       | 4/15 [00:31<01:27,  7.94s/it]\u001b[A"
     ]
    },
    {
     "name": "stdout",
     "output_type": "stream",
     "text": [
      "Regular Results:  Test on Regular RNN, Domain Sandy, Epoch 3, F1-micro-average 0.28035660417288666, Valid Score 0.25015105740181265\n",
      "\n",
      "Adapt Results:  Test on Adapt RNN, Domain Sandy, Epoch 3, F1-micro-average 0.19289965246906846, Valid Score 0.16323214417608387\n",
      "\n",
      "Epoch: 4, Step: 300\n",
      "\tRegular Loss: 0.20466714701383218.\n",
      "\tAdapt Loss: 0.009613493127915452.\n",
      "-------------------------------------------------\n"
     ]
    },
    {
     "name": "stderr",
     "output_type": "stream",
     "text": [
      "\n",
      " 33%|███▎      | 5/15 [00:39<01:18,  7.83s/it]\u001b[A"
     ]
    },
    {
     "name": "stdout",
     "output_type": "stream",
     "text": [
      "Regular Results:  Test on Regular RNN, Domain Sandy, Epoch 4, F1-micro-average 0.362151843310462, Valid Score 0.34588503740372817\n",
      "\n",
      "Adapt Results:  Test on Adapt RNN, Domain Sandy, Epoch 4, F1-micro-average 0.28449283251981705, Valid Score 0.2763304335975652\n",
      "\n",
      "Epoch: 5, Step: 300\n",
      "\tRegular Loss: 0.1918948651647251.\n",
      "\tAdapt Loss: 0.010759299045484328.\n",
      "-------------------------------------------------\n"
     ]
    },
    {
     "name": "stderr",
     "output_type": "stream",
     "text": [
      "\n",
      " 40%|████      | 6/15 [00:46<01:10,  7.85s/it]\u001b[A"
     ]
    },
    {
     "name": "stdout",
     "output_type": "stream",
     "text": [
      "Regular Results:  Test on Regular RNN, Domain Sandy, Epoch 5, F1-micro-average 0.4224850337235817, Valid Score 0.4120591039084842\n",
      "\n",
      "Adapt Results:  Test on Adapt RNN, Domain Sandy, Epoch 5, F1-micro-average 0.34329646991552937, Valid Score 0.32546427447277304\n",
      "\n",
      "Epoch: 6, Step: 300\n",
      "\tRegular Loss: 0.18484831519697195.\n",
      "\tAdapt Loss: 0.00708953393824349.\n",
      "-------------------------------------------------\n"
     ]
    },
    {
     "name": "stderr",
     "output_type": "stream",
     "text": [
      "\n",
      " 47%|████▋     | 7/15 [00:55<01:03,  7.93s/it]\u001b[A"
     ]
    },
    {
     "name": "stdout",
     "output_type": "stream",
     "text": [
      "Regular Results:  Test on Regular RNN, Domain Sandy, Epoch 6, F1-micro-average 0.46056083651728313, Valid Score 0.45766404223200485\n",
      "\n",
      "Adapt Results:  Test on Adapt RNN, Domain Sandy, Epoch 6, F1-micro-average 0.33822485217852966, Valid Score 0.3454462242562929\n",
      "\n",
      "Epoch: 7, Step: 300\n",
      "\tRegular Loss: 0.17942671089176324.\n",
      "\tAdapt Loss: 0.0073883296067879045.\n",
      "-------------------------------------------------\n"
     ]
    },
    {
     "name": "stderr",
     "output_type": "stream",
     "text": [
      "\n",
      " 53%|█████▎    | 8/15 [01:03<00:55,  7.93s/it]\u001b[A"
     ]
    },
    {
     "name": "stdout",
     "output_type": "stream",
     "text": [
      "Regular Results:  Test on Regular RNN, Domain Sandy, Epoch 7, F1-micro-average 0.4847920300046671, Valid Score 0.4577329465021019\n",
      "\n",
      "Adapt Results:  Test on Adapt RNN, Domain Sandy, Epoch 7, F1-micro-average 0.43921265004534304, Valid Score 0.4149233282394477\n",
      "\n",
      "Epoch: 8, Step: 300\n",
      "\tRegular Loss: 0.1758344360562258.\n",
      "\tAdapt Loss: 0.006817468955642559.\n",
      "-------------------------------------------------\n"
     ]
    },
    {
     "name": "stderr",
     "output_type": "stream",
     "text": [
      "\n",
      " 60%|██████    | 9/15 [01:10<00:47,  7.84s/it]\u001b[A"
     ]
    },
    {
     "name": "stdout",
     "output_type": "stream",
     "text": [
      "Regular Results:  Test on Regular RNN, Domain Sandy, Epoch 8, F1-micro-average 0.4830304561104981, Valid Score 0.469902830048266\n",
      "\n",
      "Adapt Results:  Test on Adapt RNN, Domain Sandy, Epoch 8, F1-micro-average 0.4669646689891087, Valid Score 0.4505650752700781\n",
      "\n",
      "Epoch: 9, Step: 300\n",
      "\tRegular Loss: 0.1709780839838063.\n",
      "\tAdapt Loss: 0.0068464507410717365.\n",
      "-------------------------------------------------\n"
     ]
    },
    {
     "name": "stderr",
     "output_type": "stream",
     "text": [
      "\n",
      " 67%|██████▋   | 10/15 [01:18<00:39,  7.98s/it]\u001b[A"
     ]
    },
    {
     "name": "stdout",
     "output_type": "stream",
     "text": [
      "Regular Results:  Test on Regular RNN, Domain Sandy, Epoch 9, F1-micro-average 0.5041256649444368, Valid Score 0.4944676943218397\n",
      "\n",
      "Epoch: 10, Step: 300\n",
      "\tRegular Loss: 0.16836451516297965.\n",
      "\tAdapt Loss: 0.006514821531857515.\n",
      "-------------------------------------------------\n"
     ]
    },
    {
     "name": "stderr",
     "output_type": "stream",
     "text": [
      "\n",
      " 73%|███████▎  | 11/15 [01:26<00:31,  7.84s/it]\u001b[A"
     ]
    },
    {
     "name": "stdout",
     "output_type": "stream",
     "text": [
      "Epoch: 11, Step: 300\n",
      "\tRegular Loss: 0.16404634216596123.\n",
      "\tAdapt Loss: 0.00430727745189743.\n",
      "-------------------------------------------------\n"
     ]
    },
    {
     "name": "stderr",
     "output_type": "stream",
     "text": [
      "\n",
      " 80%|████████  | 12/15 [01:33<00:22,  7.65s/it]\u001b[A"
     ]
    },
    {
     "name": "stdout",
     "output_type": "stream",
     "text": [
      "Regular Results:  Test on Regular RNN, Domain Sandy, Epoch 11, F1-micro-average 0.5081067914717512, Valid Score 0.49785965012414035\n",
      "\n",
      "Adapt Results:  Test on Adapt RNN, Domain Sandy, Epoch 11, F1-micro-average 0.49821334211400364, Valid Score 0.48668396918714074\n",
      "\n",
      "Epoch: 12, Step: 300\n",
      "\tRegular Loss: 0.16156087498926244.\n",
      "\tAdapt Loss: 0.004610524411882549.\n",
      "-------------------------------------------------\n"
     ]
    },
    {
     "name": "stderr",
     "output_type": "stream",
     "text": [
      "\n",
      " 87%|████████▋ | 13/15 [01:41<00:15,  7.83s/it]\u001b[A"
     ]
    },
    {
     "name": "stdout",
     "output_type": "stream",
     "text": [
      "Regular Results:  Test on Regular RNN, Domain Sandy, Epoch 12, F1-micro-average 0.5246975679293635, Valid Score 0.5263285289910881\n",
      "\n",
      "Epoch: 13, Step: 300\n",
      "\tRegular Loss: 0.15988537448882265.\n",
      "\tAdapt Loss: 0.005870514790267619.\n",
      "-------------------------------------------------\n"
     ]
    },
    {
     "name": "stderr",
     "output_type": "stream",
     "text": [
      "\n",
      " 93%|█████████▎| 14/15 [01:50<00:07,  8.00s/it]\u001b[A"
     ]
    },
    {
     "name": "stdout",
     "output_type": "stream",
     "text": [
      "Adapt Results:  Test on Adapt RNN, Domain Sandy, Epoch 13, F1-micro-average 0.5064899456420467, Valid Score 0.4996511701655356\n",
      "\n",
      "Epoch: 14, Step: 300\n",
      "\tRegular Loss: 0.1563475104265435.\n",
      "\tAdapt Loss: 0.004354099706712603.\n",
      "-------------------------------------------------\n"
     ]
    },
    {
     "name": "stderr",
     "output_type": "stream",
     "text": [
      "\n",
      "100%|██████████| 15/15 [01:58<00:00,  7.91s/it]\u001b[A\n",
      "100%|██████████| 7/7 [13:44<00:00, 117.84s/it]\n"
     ]
    }
   ],
   "source": [
    "print('Run over domains...')\n",
    "for didx, domain in enumerate(tqdm(params['unique_domains'])):\n",
    "    wfile.write('Working on Domain {}, Domain index {} \\n'.format(domain, didx))\n",
    "    in_domain_indices = [item for item in range(len(all_corpus['corpus'])) if all_corpus['corpus'][item] == didx]\n",
    "    out_domain_indices = [item for item in range(len(all_corpus['corpus'])) if all_corpus['corpus'][item] != didx]\n",
    "\n",
    "    train_corpus = {\n",
    "        'docs': [all_corpus['docs'][item] for item in out_domain_indices],\n",
    "        'labels': [all_corpus['labels'][item] for item in out_domain_indices],\n",
    "        'corpus': [all_corpus['corpus'][item] for item in out_domain_indices],\n",
    "    }\n",
    "    domain_corpus = {\n",
    "        'docs': [item for item in train_corpus['docs']],\n",
    "        'labels': [item for item in train_corpus['labels']],\n",
    "        'corpus': [0] * len(train_corpus['docs']),  # first collect documents from out of domain\n",
    "    }\n",
    "    in_domain_corpus = {\n",
    "        'docs': [all_corpus['docs'][item] for item in in_domain_indices],\n",
    "        'labels': [all_corpus['labels'][item] for item in in_domain_indices],\n",
    "        'corpus': [all_corpus['corpus'][item] for item in in_domain_indices],\n",
    "    }\n",
    "#     print(len(domain_corpus['docs']))\n",
    "#     print(len(domain_corpus['corpus']))\n",
    "#     print()\n",
    "    domain_corpus['docs'].extend(in_domain_corpus['docs'])\n",
    "    domain_corpus['labels'].extend(in_domain_corpus['labels'])\n",
    "    domain_corpus['corpus'].extend([1] * len(in_domain_corpus['docs']))\n",
    "\n",
    "    # 10% for training, 10% for valid, the rest for testing\n",
    "    test_indices, val_indices, train_indices = data_split(in_domain_corpus)\n",
    "    in_domain_train = {\n",
    "        'docs': [in_domain_corpus['docs'][item] for item in train_indices],\n",
    "        'labels': [in_domain_corpus['labels'][item] for item in train_indices],\n",
    "        'corpus': [in_domain_corpus['corpus'][item] for item in train_indices]\n",
    "    }\n",
    "    train_corpus['docs'].extend(in_domain_train['docs'])\n",
    "    train_corpus['labels'].extend(in_domain_train['labels'])\n",
    "    train_corpus['corpus'].extend(in_domain_train['corpus'])\n",
    "\n",
    "    valid_corpus = {\n",
    "        'docs': [in_domain_corpus['docs'][item] for item in val_indices],\n",
    "        'labels': [in_domain_corpus['labels'][item] for item in val_indices],\n",
    "        'corpus': [in_domain_corpus['corpus'][item] for item in val_indices]\n",
    "    }\n",
    "    test_corpus = {\n",
    "        'docs': [in_domain_corpus['docs'][item] for item in test_indices],\n",
    "        'labels': [in_domain_corpus['labels'][item] for item in test_indices],\n",
    "        'corpus': [in_domain_corpus['corpus'][item] for item in test_indices]\n",
    "    }\n",
    "\n",
    "    # start to iteratively train and test the proposed approach.\n",
    "    train_data = TorchDataset(train_corpus, params['domain_name'])\n",
    "    valid_data = TorchDataset(valid_corpus, params['domain_name'])\n",
    "    test_data = TorchDataset(test_corpus, params['domain_name'])\n",
    "    in_domain_train_data = TorchDataset(in_domain_train, params['domain_name'])\n",
    "    domain_data = TorchDataset(domain_corpus, params['domain_name'])\n",
    "\n",
    "    train_data_loader = DataLoader(\n",
    "        train_data, batch_size=params['batch_size'], shuffle=True,\n",
    "        collate_fn=DataEncoder(params, mtype='rnn')\n",
    "    )\n",
    "    valid_data_loader = DataLoader(\n",
    "        valid_data, batch_size=params['batch_size'], shuffle=True,\n",
    "        collate_fn=DataEncoder(params, mtype='rnn')\n",
    "    )\n",
    "    test_data_loader = DataLoader(\n",
    "        test_data, batch_size=params['batch_size'], shuffle=True,\n",
    "        collate_fn=DataEncoder(params, mtype='rnn')\n",
    "    )\n",
    "    in_domain_train_data_loader = DataLoader(\n",
    "        in_domain_train_data, batch_size=params['batch_size'], shuffle=True,\n",
    "        collate_fn=DataEncoder(params, mtype='rnn')\n",
    "    )\n",
    "    domain_data_loader = DataLoader(\n",
    "        domain_data, batch_size=params['batch_size'], shuffle=True,\n",
    "        collate_fn=DataEncoder(params, mtype='rnn')\n",
    "    )\n",
    "\n",
    "    regular_model = RegularRNN(params)\n",
    "    regular_model = regular_model.to(device)\n",
    "    criterion = nn.BCEWithLogitsLoss().to(device)\n",
    "    regular_optim = torch.optim.RMSprop(regular_model.parameters(), lr=params['lr'])\n",
    "    \n",
    "    indomain_model = RegularRNN(params)\n",
    "    indomain_model = indomain_model.to(device)\n",
    "    indomain_optim = torch.optim.RMSprop(indomain_model.parameters(), lr=params['lr'])\n",
    "\n",
    "    adapt_model = AdaptRNN(params)\n",
    "    adapt_model = adapt_model.to(device)\n",
    "    domain_criterion = nn.CrossEntropyLoss().to(device)\n",
    "    criterion_adapt = nn.BCEWithLogitsLoss(reduction='none').to(device)\n",
    "    pred_params = [param for name, param in adapt_model.named_parameters() if 'domain' not in name]\n",
    "    adapt_pred_optim = torch.optim.RMSprop(pred_params, lr=params['lr'])\n",
    "    domain_params = [param for name, param in adapt_model.named_parameters() if 'domain' in name]\n",
    "    adapt_domain_optim = torch.optim.RMSprop(domain_params, lr=params['lr'])\n",
    "\n",
    "    # train the networks\n",
    "    print('Start to train...')\n",
    "    print(params)\n",
    "    best_valid_regular = 0.\n",
    "    best_valid_adapt = 0.\n",
    "    best_valid_indomain = 0.\n",
    "\n",
    "    for epoch in tqdm(range(params['epochs'])):\n",
    "        train_loss_regular = 0.\n",
    "        train_loss_adapt = 0.\n",
    "        adapt_model.train()\n",
    "        regular_model.train()\n",
    "        indomain_model.train()\n",
    "        \n",
    "        # train indomain model for comparison\n",
    "        for step, train_batch in enumerate(in_domain_train_data_loader):\n",
    "            train_batch = tuple(t.to(device) for t in train_batch)\n",
    "            input_docs, input_labels, input_domains = train_batch\n",
    "            indomain_optim.zero_grad()\n",
    "            \n",
    "            # indomain models\n",
    "            indomain_preds = indomain_model(**{'input_docs': input_docs})\n",
    "            loss = criterion(indomain_preds, input_labels)\n",
    "            loss.backward()\n",
    "            indomain_optim.step()\n",
    "            \n",
    "        # train discriminator first\n",
    "        for step, train_batch in enumerate(domain_data_loader):\n",
    "            train_batch = tuple(t.to(device) for t in train_batch)\n",
    "            input_docs, input_labels, input_domains = train_batch\n",
    "            adapt_domain_optim.zero_grad()\n",
    "            domain_preds = adapt_model.discriminator(**{\n",
    "                'input_docs': input_docs\n",
    "            })\n",
    "            domain_loss = domain_criterion(domain_preds, input_domains)\n",
    "            domain_loss.backward()\n",
    "            adapt_domain_optim.step()\n",
    "\n",
    "        # train predictor\n",
    "        for step, train_batch in enumerate(train_data_loader):\n",
    "            train_batch = tuple(t.to(device) for t in train_batch)\n",
    "            input_docs, input_labels, input_domains = train_batch\n",
    "            regular_optim.zero_grad()\n",
    "            adapt_pred_optim.zero_grad()\n",
    "            # adapt_domain_optim.zero_grad()\n",
    "\n",
    "            # regular models\n",
    "            regular_preds = regular_model(**{\n",
    "                'input_docs': input_docs\n",
    "            })\n",
    "            loss = criterion(regular_preds, input_labels)\n",
    "            train_loss_regular += loss.item()\n",
    "            loss_avg_regular = train_loss_regular / (step + 1)\n",
    "\n",
    "            # adapt models\n",
    "            adapt_preds = adapt_model(**{\n",
    "                'input_docs': input_docs\n",
    "            })\n",
    "            loss_adapt = criterion_adapt(adapt_preds, input_labels)\n",
    "            domain_preds = torch.sigmoid(adapt_model.discriminator(**{'input_docs': input_docs}))\n",
    "            loss_adapt = loss_adapt.mean(axis=1)\n",
    "            loss_adapt = domain_preds[:, 1] * loss_adapt\n",
    "            loss_adapt = loss_adapt.mean()\n",
    "            train_loss_adapt += loss_adapt.item()\n",
    "            loss_avg_adapt = train_loss_adapt / (step + 1)\n",
    "\n",
    "            if (step + 1) % 301 == 0:\n",
    "                print('Epoch: {}, Step: {}'.format(epoch, step))\n",
    "                print('\\tRegular Loss: {}.'.format(loss_avg_regular))\n",
    "                print('\\tAdapt Loss: {}.'.format(loss_avg_adapt))\n",
    "                print('-------------------------------------------------')\n",
    "\n",
    "            loss_adapt.backward()\n",
    "            loss.backward()\n",
    "            # torch.nn.utils.clip_grad_norm_(rnn_model.parameters(), 0.5)\n",
    "            regular_optim.step()\n",
    "            adapt_pred_optim.step()\n",
    "\n",
    "        # fit on in domain corpus.\n",
    "        for _ in range(3):\n",
    "            for step, train_batch in enumerate(in_domain_train_data_loader):\n",
    "                train_batch = tuple(t.to(device) for t in train_batch)\n",
    "                input_docs, input_labels, input_domains = train_batch\n",
    "                adapt_pred_optim.zero_grad()\n",
    "                adapt_preds = adapt_model(**{\n",
    "                    'input_docs': input_docs\n",
    "                })\n",
    "                loss_adapt = criterion_adapt(adapt_preds, input_labels)\n",
    "                loss_adapt = loss_adapt.mean()\n",
    "                loss_adapt.backward()\n",
    "                adapt_pred_optim.step()\n",
    "        \n",
    "        # evaluate on valid data\n",
    "        regular_model.eval()\n",
    "        adapt_model.eval()\n",
    "        indomain_model.eval()\n",
    "        y_preds_regular = []\n",
    "        y_preds_adapt = []\n",
    "        y_preds_indomain = []\n",
    "        y_trues = []\n",
    "        for valid_batch in valid_data_loader:\n",
    "            valid_batch = tuple(t.to(device) for t in valid_batch)\n",
    "            input_docs, input_labels, input_domains = valid_batch\n",
    "            with torch.no_grad():\n",
    "                preds_regular = regular_model(**{'input_docs': input_docs})\n",
    "                preds_adapt = adapt_model(**{'input_docs': input_docs})\n",
    "                preds_indomain = indomain_model(**{'input_docs': input_docs})\n",
    "\n",
    "            logits_regular = (torch.sigmoid(preds_regular) > .5).long().cpu().numpy()\n",
    "            logits_adapt = (torch.sigmoid(preds_adapt) > .5).long().cpu().numpy()\n",
    "            logits_indomain = (torch.sigmoid(preds_indomain) > .5).long().cpu().numpy()\n",
    "            \n",
    "            y_preds_regular.extend(logits_regular)\n",
    "            y_preds_adapt.extend(logits_adapt)\n",
    "            y_preds_indomain.extend(logits_indomain)\n",
    "            y_trues.extend(input_labels.to('cpu').numpy())\n",
    "\n",
    "        eval_score_regular = micro_f1_average(y_preds=y_preds_regular, y_truths=y_trues)\n",
    "        eval_score_adapt = micro_f1_average(y_preds=y_preds_adapt, y_truths=y_trues)\n",
    "        eval_score_indomain = micro_f1_average(y_preds=y_preds_indomain, y_truths=y_trues)\n",
    "\n",
    "        # test for regular model\n",
    "        if eval_score_regular > best_valid_regular:\n",
    "            best_valid_regular = eval_score_regular\n",
    "            torch.save(regular_model, params['model_dir'] + 'regular_model_moral.pth')\n",
    "\n",
    "            # test\n",
    "            y_preds = []\n",
    "            y_trues = []\n",
    "            # evaluate on the test set\n",
    "            for test_batch in test_data_loader:\n",
    "                test_batch = tuple(t.to(device) for t in test_batch)\n",
    "                input_docs, input_labels, input_domains = test_batch\n",
    "\n",
    "                with torch.no_grad():\n",
    "                    preds_regular = regular_model(**{\n",
    "                        'input_docs': input_docs,\n",
    "                    })\n",
    "                logits_regular = (torch.sigmoid(preds_regular) > .5).long().cpu().numpy()\n",
    "                y_preds.extend(logits_regular)\n",
    "                y_trues.extend(input_labels.to('cpu').numpy())\n",
    "\n",
    "            test_score_regular = micro_f1_average(y_preds=y_preds, y_truths=y_trues)\n",
    "            regular_results = 'Test on Regular RNN, Domain {}, Epoch {}, F1-micro-average {}, Valid Score {}\\n'.format(\n",
    "                    domain, epoch, test_score_regular, best_valid_regular)\n",
    "            print('Regular Results: ', regular_results)\n",
    "            wfile.write(regular_results)\n",
    "        \n",
    "        # test for indomain model\n",
    "        if eval_score_indomain > best_valid_indomain:\n",
    "            best_valid_indomain = eval_score_indomain\n",
    "            torch.save(indomain_model, params['model_dir'] + 'regular_model_moral.pth')\n",
    "\n",
    "            # test\n",
    "            y_preds = []\n",
    "            y_trues = []\n",
    "            # evaluate on the test set\n",
    "            for test_batch in test_data_loader:\n",
    "                test_batch = tuple(t.to(device) for t in test_batch)\n",
    "                input_docs, input_labels, input_domains = test_batch\n",
    "\n",
    "                with torch.no_grad():\n",
    "                    preds_indomain = indomain_model(**{\n",
    "                        'input_docs': input_docs,\n",
    "                    })\n",
    "                logits_indomain = (torch.sigmoid(preds_indomain) > .5).long().cpu().numpy()\n",
    "                y_preds.extend(logits_indomain)\n",
    "                y_trues.extend(input_labels.to('cpu').numpy())\n",
    "\n",
    "            test_score_indomain = micro_f1_average(y_preds=y_preds, y_truths=y_trues)\n",
    "            indomain_results = 'Test on Indomain RNN, Domain {}, Epoch {}, F1-micro-average {}, Valid Score {}\\n'.format(\n",
    "                    domain, epoch, test_score_indomain, best_valid_indomain)\n",
    "            print('Regular Results: ', indomain_results)\n",
    "            wfile.write(indomain_results)\n",
    "\n",
    "        if eval_score_adapt > best_valid_adapt:\n",
    "            best_valid_adapt = eval_score_adapt\n",
    "            torch.save(adapt_model, params['model_dir'] + 'adapt_model_moral.pth')\n",
    "\n",
    "            # test\n",
    "            y_preds = []\n",
    "            y_trues = []\n",
    "            # evaluate on the test set\n",
    "            for test_batch in test_data_loader:\n",
    "                test_batch = tuple(t.to(device) for t in test_batch)\n",
    "                input_docs, input_labels, input_domains = test_batch\n",
    "\n",
    "                with torch.no_grad():\n",
    "                    preds_adapt = adapt_model(**{\n",
    "                        'input_docs': input_docs,\n",
    "                    })\n",
    "                logits_adapt = (torch.sigmoid(preds_adapt) > .5).long().cpu().numpy()\n",
    "                y_preds.extend(logits_adapt)\n",
    "                y_trues.extend(input_labels.to('cpu').numpy())\n",
    "\n",
    "            test_score_adapt = micro_f1_average(y_preds=y_preds, y_truths=y_trues)\n",
    "            test_score_adapt = 'Test on Adapt RNN, Domain {}, Epoch {}, F1-micro-average {}, Valid Score {}\\n'.format(\n",
    "                    domain, epoch, test_score_adapt, best_valid_adapt)\n",
    "            print('Adapt Results: ', test_score_adapt)\n",
    "            wfile.write(test_score_adapt)"
   ]
  },
  {
   "cell_type": "code",
   "execution_count": null,
   "metadata": {},
   "outputs": [],
   "source": []
  },
  {
   "cell_type": "code",
   "execution_count": 45,
   "metadata": {
    "scrolled": false
   },
   "outputs": [
    {
     "name": "stderr",
     "output_type": "stream",
     "text": [
      "\r",
      "  0%|          | 0/15 [00:00<?, ?it/s]"
     ]
    },
    {
     "name": "stdout",
     "output_type": "stream",
     "text": [
      "Start to train...\n",
      "{'result_path': '../resource/results/adapt_rnn.txt', 'model_dir': '../resource/model/adapt_rnn/', 'dname': 'all', 'dpath': '../data/dataset.tsv', 'max_feature': 15000, 'over_sample': True, 'domain_name': 'corpus', 'epochs': 15, 'batch_size': 64, 'lr': 9e-05, 'max_len': 100, 'dp_rate': 0.2, 'optimizer': 'rmsprop', 'emb_path': '/data/models/glove.twitter.27B.200d.txt', 'emb_dim': 200, 'unique_domains': ['ALM', 'Baltimore', 'BLM', 'Davidson', 'Election', 'MeToo', 'Sandy'], 'bidirectional': False, 'device': device(type='cuda'), 'num_label': 11, 'tok_dir': '../resource/model/adapt_rnn', 'word_emb_path': '../resource/model/adapt_rnn/all.npy'}\n",
      "Epoch: 0, Step: 300\n",
      "\tRegular Loss: 0.317661074407869.\n",
      "\tAdapt Loss: 0.0052796135118163105.\n",
      "-------------------------------------------------\n"
     ]
    },
    {
     "name": "stderr",
     "output_type": "stream",
     "text": [
      "\r",
      "  7%|▋         | 1/15 [00:08<01:53,  8.09s/it]"
     ]
    },
    {
     "name": "stdout",
     "output_type": "stream",
     "text": [
      "Regular Results:  Test on Regular RNN, Domain vaccine, Epoch 0, F1-micro-average 0.6302521008403361, Valid Score 0.5798319327731093\n",
      "\n",
      "Regular Results:  Test on Indomain RNN, Domain vaccine, Epoch 0, F1-micro-average 0.013029315960912051, Valid Score 0.2039614873047069\n",
      "\n",
      "Adapt Results:  Test on Adapt RNN, Domain vaccine, Epoch 0, F1-micro-average 0.64, Valid Score 0.588\n",
      "\n",
      "Epoch: 1, Step: 300\n",
      "\tRegular Loss: 0.26428249676362225.\n",
      "\tAdapt Loss: 0.003782039640882854.\n",
      "-------------------------------------------------\n"
     ]
    },
    {
     "name": "stderr",
     "output_type": "stream",
     "text": [
      "\r",
      " 13%|█▎        | 2/15 [00:15<01:44,  8.03s/it]"
     ]
    },
    {
     "name": "stdout",
     "output_type": "stream",
     "text": [
      "Regular Results:  Test on Regular RNN, Domain vaccine, Epoch 1, F1-micro-average 0.6134453781512604, Valid Score 0.5810526315789474\n",
      "\n",
      "Epoch: 2, Step: 300\n",
      "\tRegular Loss: 0.23555533998828393.\n",
      "\tAdapt Loss: 0.003177719348128823.\n",
      "-------------------------------------------------\n"
     ]
    },
    {
     "name": "stderr",
     "output_type": "stream",
     "text": [
      "\r",
      " 20%|██        | 3/15 [00:24<01:37,  8.16s/it]"
     ]
    },
    {
     "name": "stdout",
     "output_type": "stream",
     "text": [
      "Adapt Results:  Test on Adapt RNN, Domain vaccine, Epoch 2, F1-micro-average 0.60813704496788, Valid Score 0.5995623632385121\n",
      "\n",
      "Epoch: 3, Step: 300\n",
      "\tRegular Loss: 0.21653244983516262.\n",
      "\tAdapt Loss: 0.002635785109716223.\n",
      "-------------------------------------------------\n"
     ]
    },
    {
     "name": "stderr",
     "output_type": "stream",
     "text": [
      "\r",
      " 27%|██▋       | 4/15 [00:33<01:31,  8.30s/it]"
     ]
    },
    {
     "name": "stdout",
     "output_type": "stream",
     "text": [
      "Adapt Results:  Test on Adapt RNN, Domain vaccine, Epoch 3, F1-micro-average 0.628930817610063, Valid Score 0.6147186147186148\n",
      "\n",
      "Epoch: 4, Step: 300\n",
      "\tRegular Loss: 0.20355725659682505.\n",
      "\tAdapt Loss: 0.0023430743072169564.\n",
      "-------------------------------------------------\n"
     ]
    },
    {
     "name": "stderr",
     "output_type": "stream",
     "text": [
      "\r",
      " 33%|███▎      | 5/15 [00:41<01:23,  8.33s/it]"
     ]
    },
    {
     "name": "stdout",
     "output_type": "stream",
     "text": [
      "Adapt Results:  Test on Adapt RNN, Domain vaccine, Epoch 4, F1-micro-average 0.6403326403326403, Valid Score 0.632034632034632\n",
      "\n",
      "Epoch: 5, Step: 300\n",
      "\tRegular Loss: 0.19530692716373557.\n",
      "\tAdapt Loss: 0.002175519029583559.\n",
      "-------------------------------------------------\n"
     ]
    },
    {
     "name": "stderr",
     "output_type": "stream",
     "text": [
      "\r",
      " 40%|████      | 6/15 [00:50<01:15,  8.44s/it]"
     ]
    },
    {
     "name": "stdout",
     "output_type": "stream",
     "text": [
      "Adapt Results:  Test on Adapt RNN, Domain vaccine, Epoch 5, F1-micro-average 0.6185707037196051, Valid Score 0.6772768273479184\n",
      "\n",
      "Epoch: 6, Step: 300\n",
      "\tRegular Loss: 0.1863716407570728.\n",
      "\tAdapt Loss: 0.0020496059799693725.\n",
      "-------------------------------------------------\n"
     ]
    },
    {
     "name": "stderr",
     "output_type": "stream",
     "text": [
      "\r",
      " 47%|████▋     | 7/15 [00:58<01:07,  8.48s/it]"
     ]
    },
    {
     "name": "stdout",
     "output_type": "stream",
     "text": [
      "Regular Results:  Test on Regular RNN, Domain vaccine, Epoch 6, F1-micro-average 0.5586522697721747, Valid Score 0.5822922324823466\n",
      "\n",
      "Epoch: 7, Step: 300\n",
      "\tRegular Loss: 0.18187160091938767.\n",
      "\tAdapt Loss: 0.0017497157709915933.\n",
      "-------------------------------------------------\n"
     ]
    },
    {
     "name": "stderr",
     "output_type": "stream",
     "text": [
      "\r",
      " 53%|█████▎    | 8/15 [01:06<00:58,  8.38s/it]"
     ]
    },
    {
     "name": "stdout",
     "output_type": "stream",
     "text": [
      "Regular Results:  Test on Regular RNN, Domain vaccine, Epoch 7, F1-micro-average 0.5776601879176418, Valid Score 0.5984876745475626\n",
      "\n",
      "Adapt Results:  Test on Adapt RNN, Domain vaccine, Epoch 7, F1-micro-average 0.625988787343522, Valid Score 0.7264861711952559\n",
      "\n",
      "Epoch: 8, Step: 300\n",
      "\tRegular Loss: 0.17637925104940452.\n",
      "\tAdapt Loss: 0.0019668092952338837.\n",
      "-------------------------------------------------\n"
     ]
    },
    {
     "name": "stderr",
     "output_type": "stream",
     "text": [
      "\r",
      " 60%|██████    | 9/15 [01:15<00:50,  8.45s/it]"
     ]
    },
    {
     "name": "stdout",
     "output_type": "stream",
     "text": [
      "Regular Results:  Test on Regular RNN, Domain vaccine, Epoch 8, F1-micro-average 0.5726126443876202, Valid Score 0.6069983597594314\n",
      "\n",
      "Adapt Results:  Test on Adapt RNN, Domain vaccine, Epoch 8, F1-micro-average 0.6265325040368398, Valid Score 0.7313703672774793\n",
      "\n",
      "Epoch: 9, Step: 300\n",
      "\tRegular Loss: 0.17257978207744237.\n",
      "\tAdapt Loss: 0.0013957574436219836.\n",
      "-------------------------------------------------\n"
     ]
    },
    {
     "name": "stderr",
     "output_type": "stream",
     "text": [
      "\r",
      " 67%|██████▋   | 10/15 [01:23<00:41,  8.38s/it]"
     ]
    },
    {
     "name": "stdout",
     "output_type": "stream",
     "text": [
      "Adapt Results:  Test on Adapt RNN, Domain vaccine, Epoch 9, F1-micro-average 0.5727312243419463, Valid Score 0.8067840088743294\n",
      "\n",
      "Epoch: 10, Step: 300\n",
      "\tRegular Loss: 0.16922557467836083.\n",
      "\tAdapt Loss: 0.001306030434881959.\n",
      "-------------------------------------------------\n"
     ]
    },
    {
     "name": "stderr",
     "output_type": "stream",
     "text": [
      "\r",
      " 73%|███████▎  | 11/15 [01:31<00:32,  8.06s/it]"
     ]
    },
    {
     "name": "stdout",
     "output_type": "stream",
     "text": [
      "Epoch: 11, Step: 300\n",
      "\tRegular Loss: 0.16780814238857986.\n",
      "\tAdapt Loss: 0.0016110492581107106.\n",
      "-------------------------------------------------\n"
     ]
    },
    {
     "name": "stderr",
     "output_type": "stream",
     "text": [
      "\r",
      " 80%|████████  | 12/15 [01:38<00:23,  7.99s/it]"
     ]
    },
    {
     "name": "stdout",
     "output_type": "stream",
     "text": [
      "Adapt Results:  Test on Adapt RNN, Domain vaccine, Epoch 11, F1-micro-average 0.62, Valid Score 0.8277933449050076\n",
      "\n",
      "Epoch: 12, Step: 300\n",
      "\tRegular Loss: 0.1652937072555092.\n",
      "\tAdapt Loss: 0.0010117488623940173.\n",
      "-------------------------------------------------\n"
     ]
    },
    {
     "name": "stderr",
     "output_type": "stream",
     "text": [
      "\r",
      " 87%|████████▋ | 13/15 [01:47<00:16,  8.09s/it]"
     ]
    },
    {
     "name": "stdout",
     "output_type": "stream",
     "text": [
      "Adapt Results:  Test on Adapt RNN, Domain vaccine, Epoch 12, F1-micro-average 0.5366562717750135, Valid Score 0.8656438494889078\n",
      "\n",
      "Epoch: 13, Step: 300\n",
      "\tRegular Loss: 0.1623596150762219.\n",
      "\tAdapt Loss: 0.0008858666341713911.\n",
      "-------------------------------------------------\n"
     ]
    },
    {
     "name": "stderr",
     "output_type": "stream",
     "text": [
      "\r",
      " 93%|█████████▎| 14/15 [01:54<00:07,  7.96s/it]"
     ]
    },
    {
     "name": "stdout",
     "output_type": "stream",
     "text": [
      "Epoch: 14, Step: 300\n",
      "\tRegular Loss: 0.16003708489412485.\n",
      "\tAdapt Loss: 0.0007664241384311837.\n",
      "-------------------------------------------------\n"
     ]
    },
    {
     "name": "stderr",
     "output_type": "stream",
     "text": [
      "100%|██████████| 15/15 [02:03<00:00,  8.22s/it]"
     ]
    },
    {
     "name": "stdout",
     "output_type": "stream",
     "text": [
      "Adapt Results:  Test on Adapt RNN, Domain vaccine, Epoch 14, F1-micro-average 0.6300361319398577, Valid Score 0.8765464248381596\n",
      "\n"
     ]
    },
    {
     "name": "stderr",
     "output_type": "stream",
     "text": [
      "\n"
     ]
    }
   ],
   "source": [
    "# vaccine experiments\n",
    "vaccine_data = {\n",
    "    'docs': [],\n",
    "    'labels': [],\n",
    "}\n",
    "wfile.write('\\nVaccine Evaluation---\\n')\n",
    "\n",
    "for idx, row in vaccine_df.iterrows():\n",
    "    encode_label = [0] * params['num_label']\n",
    "    for label_index, _ in enumerate(all_labels):\n",
    "        if np.isnan(np.array(row[all_labels[label_index]], dtype=np.float32)):\n",
    "            continue\n",
    "        if int(row[all_labels[label_index]]) == 1:\n",
    "            encode_label[label_index] = 1\n",
    "    if sum(encode_label) == 0:\n",
    "        encode_label[-1] = 1\n",
    "    vaccine_data['docs'].append(row['text'])\n",
    "    vaccine_data['labels'].append(encode_label)\n",
    "vaccine_train = {\n",
    "    'docs': [item for item in vaccine_data['docs'][:250]],\n",
    "    'labels': [item for item in vaccine_data['labels'][:250]],\n",
    "    'corpus': [1] * 250\n",
    "}\n",
    "vaccine_test = {\n",
    "    'docs': [item for item in vaccine_data['docs'][250:]],\n",
    "    'labels': [item for item in vaccine_data['labels'][250:]],\n",
    "    'corpus': [1] * 250\n",
    "}\n",
    "all_train = {\n",
    "    'docs': all_data.text.to_list(),\n",
    "    'labels': all_data.labels.to_list(),\n",
    "    'corpus': [0] * len(all_data.labels.to_list())\n",
    "}\n",
    "all_train['docs'].extend([item for item in vaccine_data['docs'][:250]])\n",
    "all_train['labels'].extend([item for item in vaccine_data['labels'][:250]])\n",
    "all_train['corpus'].extend([1] * 250)\n",
    "\n",
    "all_data_corpus = {\n",
    "    'docs': all_data.text.to_list(),\n",
    "    'labels': all_data.labels.to_list() + vaccine_data['labels'],\n",
    "    'corpus': [0] * len(all_data.labels.to_list())\n",
    "}\n",
    "all_data_corpus['docs'].extend([item for item in vaccine_data['docs']])\n",
    "all_data_corpus['labels'].extend([item for item in vaccine_data['labels']])\n",
    "all_data_corpus['corpus'].extend([1] * 500)\n",
    "\n",
    "vaccine_train_data = TorchDataset(vaccine_train, domain_name=params['domain_name'])\n",
    "vaccine_test_data = TorchDataset(vaccine_test, domain_name=params['domain_name'])\n",
    "all_train_data = TorchDataset(all_train, domain_name=params['domain_name'])\n",
    "all_data_torch = TorchDataset(all_data_corpus, domain_name=params['domain_name'])\n",
    "\n",
    "train_data_loader = DataLoader(\n",
    "    all_train_data, batch_size=params['batch_size'], shuffle=True,\n",
    "    collate_fn=DataEncoder(params, mtype='rnn')\n",
    ")\n",
    "valid_data_loader = DataLoader(\n",
    "    vaccine_train_data, batch_size=params['batch_size'], shuffle=True,\n",
    "    collate_fn=DataEncoder(params, mtype='rnn')\n",
    ")\n",
    "test_data_loader = DataLoader(\n",
    "    vaccine_test_data, batch_size=params['batch_size'], shuffle=True,\n",
    "    collate_fn=DataEncoder(params, mtype='rnn')\n",
    ")\n",
    "all_data_loader = DataLoader(\n",
    "    all_data_torch, batch_size=params['batch_size'], shuffle=True,\n",
    "    collate_fn=DataEncoder(params, mtype='rnn')\n",
    ")\n",
    "\n",
    "regular_model = RegularRNN(params)\n",
    "regular_model = regular_model.to(device)\n",
    "criterion = nn.BCEWithLogitsLoss().to(device)\n",
    "domain_criterion = nn.CrossEntropyLoss().to(device)\n",
    "regular_optim = torch.optim.RMSprop(regular_model.parameters(), lr=params['lr'])\n",
    "\n",
    "indomain_model = RegularRNN(params)\n",
    "indomain_model = indomain_model.to(device)\n",
    "indomain_optim = torch.optim.RMSprop(indomain_model.parameters(), lr=params['lr'])\n",
    "\n",
    "adapt_model = AdaptRNN(params)\n",
    "adapt_model = adapt_model.to(device)\n",
    "criterion_adapt = nn.BCEWithLogitsLoss(reduction='none').to(device)\n",
    "pred_params = [param for name, param in adapt_model.named_parameters() if 'domain' not in name]\n",
    "adapt_pred_optim = torch.optim.RMSprop(pred_params, lr=params['lr'])\n",
    "domain_params = [param for name, param in adapt_model.named_parameters() if 'domain' in name]\n",
    "adapt_domain_optim = torch.optim.RMSprop(domain_params, lr=params['lr'])\n",
    "\n",
    "# train the networks\n",
    "print('Start to train...')\n",
    "print(params)\n",
    "best_valid_regular = 0.\n",
    "best_valid_adapt = 0.\n",
    "best_valid_indomain = 0.\n",
    "\n",
    "for epoch in tqdm(range(params['epochs'])):\n",
    "    train_loss_regular = 0.\n",
    "    train_loss_adapt = 0.\n",
    "    adapt_model.train()\n",
    "    regular_model.train()\n",
    "    indomain_model.train()\n",
    "    \n",
    "    # train indomain model for comparison\n",
    "    for step, train_batch in enumerate(in_domain_train_data_loader):\n",
    "        train_batch = tuple(t.to(device) for t in train_batch)\n",
    "        input_docs, input_labels, input_domains = train_batch\n",
    "        indomain_optim.zero_grad()\n",
    "        # indomain models\n",
    "        indomain_preds = indomain_model(**{'input_docs': input_docs})\n",
    "        loss = criterion(indomain_preds, input_labels)\n",
    "        loss.backward()\n",
    "        indomain_optim.step()\n",
    "\n",
    "    # train discriminator first\n",
    "    for step, train_batch in enumerate(all_data_loader):\n",
    "        train_batch = tuple(t.to(device) for t in train_batch)\n",
    "        input_docs, input_labels, input_domains = train_batch\n",
    "        adapt_domain_optim.zero_grad()\n",
    "        domain_preds = adapt_model.discriminator(**{'input_docs': input_docs})\n",
    "        domain_loss = domain_criterion(domain_preds, input_domains)\n",
    "        domain_loss.backward()\n",
    "        adapt_domain_optim.step()\n",
    "\n",
    "    # train predictor\n",
    "    for step, train_batch in enumerate(train_data_loader):\n",
    "        train_batch = tuple(t.to(device) for t in train_batch)\n",
    "        input_docs, input_labels, input_domains = train_batch\n",
    "        regular_optim.zero_grad()\n",
    "        adapt_pred_optim.zero_grad()\n",
    "        # adapt_domain_optim.zero_grad()\n",
    "\n",
    "        # regular models\n",
    "        regular_preds = regular_model(**{\n",
    "            'input_docs': input_docs\n",
    "        })\n",
    "        loss = criterion(regular_preds, input_labels)\n",
    "        train_loss_regular += loss.item()\n",
    "        loss_avg_regular = train_loss_regular / (step + 1)\n",
    "\n",
    "        # adapt models\n",
    "        adapt_preds = adapt_model(**{\n",
    "            'input_docs': input_docs\n",
    "        })\n",
    "        loss_adapt = criterion_adapt(adapt_preds, input_labels)\n",
    "        domain_preds = torch.sigmoid(adapt_model.discriminator(**{'input_docs': input_docs}))\n",
    "        loss_adapt = loss_adapt.mean(axis=1)\n",
    "        loss_adapt = domain_preds[:, 1] * loss_adapt\n",
    "        loss_adapt = loss_adapt.mean()\n",
    "        train_loss_adapt += loss_adapt.item()\n",
    "        loss_avg_adapt = train_loss_adapt / (step + 1)\n",
    "\n",
    "        if (step + 1) % 301 == 0:\n",
    "            print('Epoch: {}, Step: {}'.format(epoch, step))\n",
    "            print('\\tRegular Loss: {}.'.format(loss_avg_regular))\n",
    "            print('\\tAdapt Loss: {}.'.format(loss_avg_adapt))\n",
    "            print('-------------------------------------------------')\n",
    "\n",
    "        loss_adapt.backward()\n",
    "        loss.backward()\n",
    "        # torch.nn.utils.clip_grad_norm_(rnn_model.parameters(), 0.5)\n",
    "        regular_optim.step()\n",
    "        adapt_pred_optim.step()\n",
    "\n",
    "    # fit on in domain corpus.\n",
    "    for _ in range(5):\n",
    "        for step, train_batch in enumerate(valid_data_loader):\n",
    "            train_batch = tuple(t.to(device) for t in train_batch)\n",
    "            input_docs, input_labels, input_domains = train_batch\n",
    "            adapt_pred_optim.zero_grad()\n",
    "            adapt_preds = adapt_model(**{'input_docs': input_docs})\n",
    "            loss_adapt = criterion_adapt(adapt_preds, input_labels)\n",
    "            loss_adapt = loss_adapt.mean()\n",
    "            loss_adapt.backward()\n",
    "            adapt_pred_optim.step()\n",
    "\n",
    "    # evaluate on valid data\n",
    "    regular_model.eval()\n",
    "    adapt_model.eval()\n",
    "    indomain_model.eval()\n",
    "    y_preds_regular = []\n",
    "    y_preds_adapt = []\n",
    "    y_preds_indomain = []\n",
    "    y_trues = []\n",
    "\n",
    "    for valid_batch in valid_data_loader:\n",
    "        valid_batch = tuple(t.to(device) for t in valid_batch)\n",
    "        input_docs, input_labels, input_domains = valid_batch\n",
    "        with torch.no_grad():\n",
    "            preds_regular = regular_model(**{'input_docs': input_docs})\n",
    "            preds_adapt = adapt_model(**{'input_docs': input_docs})\n",
    "            preds_indomain = indomain_model(**{'input_docs': input_docs})\n",
    "\n",
    "        logits_regular = (torch.sigmoid(preds_regular) > .5).long().cpu().numpy()\n",
    "        logits_adapt = (torch.sigmoid(preds_adapt) > .5).long().cpu().numpy()\n",
    "        logits_indomain = (torch.sigmoid(preds_indomain) > .4).long().cpu().numpy()\n",
    "\n",
    "        y_preds_regular.extend(logits_regular)\n",
    "        y_preds_adapt.extend(logits_adapt)\n",
    "        y_preds_indomain.extend(logits_indomain)\n",
    "        y_trues.extend(input_labels.to('cpu').numpy())\n",
    "\n",
    "    eval_score_regular = micro_f1_average(y_preds=y_preds_regular, y_truths=y_trues)\n",
    "    eval_score_adapt = micro_f1_average(y_preds=y_preds_adapt, y_truths=y_trues)\n",
    "    eval_score_indomain = micro_f1_average(y_preds=y_preds_indomain, y_truths=y_trues)\n",
    "\n",
    "    # test for regular model\n",
    "    if eval_score_regular > best_valid_regular:\n",
    "        best_valid_regular = eval_score_regular\n",
    "        torch.save(regular_model, params['model_dir'] + 'regular_model_moral.pth')\n",
    "\n",
    "        # test\n",
    "        y_preds = []\n",
    "        y_trues = []\n",
    "        # evaluate on the test set\n",
    "        for test_batch in test_data_loader:\n",
    "            test_batch = tuple(t.to(device) for t in test_batch)\n",
    "            input_docs, input_labels, input_domains = test_batch\n",
    "\n",
    "            with torch.no_grad():\n",
    "                preds_regular = regular_model(**{\n",
    "                    'input_docs': input_docs,\n",
    "                })\n",
    "            logits_regular = (torch.sigmoid(preds_regular) > .5).long().cpu().numpy()\n",
    "            y_preds.extend(logits_regular)\n",
    "            y_trues.extend(input_labels.to('cpu').numpy())\n",
    "\n",
    "        test_score_regular = micro_f1_average(y_preds=y_preds, y_truths=y_trues)\n",
    "        regular_results = 'Test on Regular RNN, Domain {}, Epoch {}, F1-micro-average {}, Valid Score {}\\n'.format(\n",
    "                'vaccine', epoch, test_score_regular, best_valid_regular)\n",
    "        print('Regular Results: ', regular_results)\n",
    "        wfile.write(regular_results)\n",
    "\n",
    "    # test for indomain model\n",
    "    if eval_score_indomain > best_valid_indomain:\n",
    "        best_valid_indomain = eval_score_indomain\n",
    "        torch.save(indomain_model, params['model_dir'] + 'regular_model_moral.pth')\n",
    "\n",
    "        # test\n",
    "        y_preds = []\n",
    "        y_trues = []\n",
    "        # evaluate on the test set\n",
    "        for test_batch in test_data_loader:\n",
    "            test_batch = tuple(t.to(device) for t in test_batch)\n",
    "            input_docs, input_labels, input_domains = test_batch\n",
    "\n",
    "            with torch.no_grad():\n",
    "                preds_indomain = indomain_model(**{\n",
    "                    'input_docs': input_docs,\n",
    "                })\n",
    "            logits_indomain = (torch.sigmoid(preds_indomain) > .5).long().cpu().numpy()\n",
    "            y_preds.extend(logits_indomain)\n",
    "            y_trues.extend(input_labels.to('cpu').numpy())\n",
    "\n",
    "        test_score_indomain = micro_f1_average(y_preds=y_preds, y_truths=y_trues)\n",
    "        indomain_results = 'Test on Indomain RNN, Domain {}, Epoch {}, F1-micro-average {}, Valid Score {}\\n'.format(\n",
    "                'vaccine', epoch, test_score_indomain, best_valid_indomain)\n",
    "        print('Regular Results: ', indomain_results)\n",
    "        wfile.write(indomain_results)\n",
    "\n",
    "    if eval_score_adapt > best_valid_adapt:\n",
    "        best_valid_adapt = eval_score_adapt\n",
    "        torch.save(adapt_model, params['model_dir'] + 'adapt_model_moral.pth')\n",
    "\n",
    "        # test\n",
    "        y_preds = []\n",
    "        y_trues = []\n",
    "        # evaluate on the test set\n",
    "        for test_batch in test_data_loader:\n",
    "            test_batch = tuple(t.to(device) for t in test_batch)\n",
    "            input_docs, input_labels, input_domains = test_batch\n",
    "\n",
    "            with torch.no_grad():\n",
    "                preds_adapt = adapt_model(**{\n",
    "                    'input_docs': input_docs,\n",
    "                })\n",
    "            logits_adapt = (torch.sigmoid(preds_adapt) > .5).long().cpu().numpy()\n",
    "            y_preds.extend(logits_adapt)\n",
    "            y_trues.extend(input_labels.to('cpu').numpy())\n",
    "\n",
    "        test_score_adapt = micro_f1_average(y_preds=y_preds, y_truths=y_trues)\n",
    "        test_score_adapt = 'Test on Adapt RNN, Domain {}, Epoch {}, F1-micro-average {}, Valid Score {}\\n'.format(\n",
    "                'vaccine', epoch, test_score_adapt, best_valid_adapt)\n",
    "        print('Adapt Results: ', test_score_adapt)\n",
    "        wfile.write(test_score_adapt)\n",
    "\n",
    "wfile.write('\\n\\n\\n')\n",
    "wfile.close()"
   ]
  },
  {
   "cell_type": "code",
   "execution_count": null,
   "metadata": {},
   "outputs": [],
   "source": []
  },
  {
   "cell_type": "code",
   "execution_count": 21,
   "metadata": {
    "scrolled": true
   },
   "outputs": [
    {
     "name": "stderr",
     "output_type": "stream",
     "text": [
      "  0%|          | 0/7 [00:00<?, ?it/s]\n",
      "  0%|          | 0/15 [00:00<?, ?it/s]\u001b[A"
     ]
    },
    {
     "name": "stdout",
     "output_type": "stream",
     "text": [
      "Run over domains...\n",
      "Start to train...\n",
      "{'result_path': '../resource/results/adapt_rnn.txt', 'model_dir': '../resource/model/adapt_rnn/', 'dname': 'all', 'dpath': '../data/dataset.tsv', 'max_feature': 15000, 'over_sample': True, 'domain_name': 'corpus', 'epochs': 15, 'batch_size': 64, 'lr': 9e-05, 'max_len': 100, 'dp_rate': 0.2, 'optimizer': 'rmsprop', 'emb_path': '/data/models/glove.twitter.27B.200d.txt', 'emb_dim': 200, 'unique_domains': ['ALM', 'Baltimore', 'BLM', 'Davidson', 'Election', 'MeToo', 'Sandy'], 'bidirectional': False, 'device': device(type='cuda'), 'num_label': 11, 'tok_dir': '../resource/model/adapt_rnn', 'word_emb_path': '../resource/model/adapt_rnn/all.npy'}\n",
      "Epoch: 0, Step: 300\n",
      "\tRegular Loss: 0.31097682592678705.\n",
      "\tAdapt Loss: 0.04207866304736597.\n",
      "-------------------------------------------------\n"
     ]
    },
    {
     "name": "stderr",
     "output_type": "stream",
     "text": [
      "\n",
      "  7%|▋         | 1/15 [00:07<01:50,  7.86s/it]\u001b[A"
     ]
    },
    {
     "name": "stdout",
     "output_type": "stream",
     "text": [
      "Regular Results:  Test on Regular RNN, Domain ALM, Epoch 0, F1-micro-average 0.19519343493552171, Valid Score 0.1895734597156398\n",
      "\n",
      "Epoch: 1, Step: 300\n",
      "\tRegular Loss: 0.261501947312656.\n",
      "\tAdapt Loss: 0.038549502067688694.\n",
      "-------------------------------------------------\n"
     ]
    },
    {
     "name": "stderr",
     "output_type": "stream",
     "text": [
      "\n",
      " 13%|█▎        | 2/15 [00:15<01:41,  7.80s/it]\u001b[A"
     ]
    },
    {
     "name": "stdout",
     "output_type": "stream",
     "text": [
      "Adapt Results:  Test on Adapt RNN, Domain ALM, Epoch 1, F1-micro-average 0.18526693516808232, Valid Score 0.18055399798138388\n",
      "\n",
      "Epoch: 2, Step: 300\n",
      "\tRegular Loss: 0.23882428380936088.\n",
      "\tAdapt Loss: 0.0317780838790427.\n",
      "-------------------------------------------------\n"
     ]
    },
    {
     "name": "stderr",
     "output_type": "stream",
     "text": [
      "\n",
      " 20%|██        | 3/15 [00:23<01:35,  7.96s/it]\u001b[A"
     ]
    },
    {
     "name": "stdout",
     "output_type": "stream",
     "text": [
      "Regular Results:  Test on Regular RNN, Domain ALM, Epoch 2, F1-micro-average 0.2841187189398122, Valid Score 0.24995393969170301\n",
      "\n",
      "Adapt Results:  Test on Adapt RNN, Domain ALM, Epoch 2, F1-micro-average 0.3860589410491623, Valid Score 0.36835148102753745\n",
      "\n",
      "Epoch: 3, Step: 300\n",
      "\tRegular Loss: 0.2177481260212553.\n",
      "\tAdapt Loss: 0.03158306193683433.\n",
      "-------------------------------------------------\n"
     ]
    },
    {
     "name": "stderr",
     "output_type": "stream",
     "text": [
      "\n",
      " 27%|██▋       | 4/15 [00:32<01:29,  8.10s/it]\u001b[A"
     ]
    },
    {
     "name": "stdout",
     "output_type": "stream",
     "text": [
      "Regular Results:  Test on Regular RNN, Domain ALM, Epoch 3, F1-micro-average 0.48255449663068706, Valid Score 0.452188712215863\n",
      "\n",
      "Adapt Results:  Test on Adapt RNN, Domain ALM, Epoch 3, F1-micro-average 0.5018139678605493, Valid Score 0.48217919514047086\n",
      "\n",
      "Epoch: 4, Step: 300\n",
      "\tRegular Loss: 0.20634837864443314.\n",
      "\tAdapt Loss: 0.05548430692119852.\n",
      "-------------------------------------------------\n"
     ]
    },
    {
     "name": "stderr",
     "output_type": "stream",
     "text": [
      "\n",
      " 33%|███▎      | 5/15 [00:40<01:21,  8.14s/it]\u001b[A"
     ]
    },
    {
     "name": "stdout",
     "output_type": "stream",
     "text": [
      "Regular Results:  Test on Regular RNN, Domain ALM, Epoch 4, F1-micro-average 0.5612200909315697, Valid Score 0.5317380041939065\n",
      "\n",
      "Adapt Results:  Test on Adapt RNN, Domain ALM, Epoch 4, F1-micro-average 0.5616830950381824, Valid Score 0.5167657982909534\n",
      "\n",
      "Epoch: 5, Step: 300\n",
      "\tRegular Loss: 0.1982428543393398.\n",
      "\tAdapt Loss: 0.04028955408282256.\n",
      "-------------------------------------------------\n"
     ]
    },
    {
     "name": "stderr",
     "output_type": "stream",
     "text": [
      "\n",
      " 40%|████      | 6/15 [00:49<01:14,  8.33s/it]\u001b[A"
     ]
    },
    {
     "name": "stdout",
     "output_type": "stream",
     "text": [
      "Regular Results:  Test on Regular RNN, Domain ALM, Epoch 5, F1-micro-average 0.6098762310076224, Valid Score 0.5961768947935077\n",
      "\n",
      "Adapt Results:  Test on Adapt RNN, Domain ALM, Epoch 5, F1-micro-average 0.6165876201113676, Valid Score 0.59097853828815\n",
      "\n",
      "Epoch: 6, Step: 300\n",
      "\tRegular Loss: 0.19100822562791184.\n",
      "\tAdapt Loss: 0.03287403994669946.\n",
      "-------------------------------------------------\n"
     ]
    },
    {
     "name": "stderr",
     "output_type": "stream",
     "text": [
      "\n",
      " 47%|████▋     | 7/15 [00:57<01:06,  8.36s/it]\u001b[A"
     ]
    },
    {
     "name": "stdout",
     "output_type": "stream",
     "text": [
      "Regular Results:  Test on Regular RNN, Domain ALM, Epoch 6, F1-micro-average 0.6355138704650529, Valid Score 0.6112099616404548\n",
      "\n",
      "Adapt Results:  Test on Adapt RNN, Domain ALM, Epoch 6, F1-micro-average 0.65288074223542, Valid Score 0.6163311744030102\n",
      "\n",
      "Epoch: 7, Step: 300\n",
      "\tRegular Loss: 0.1858422229456347.\n",
      "\tAdapt Loss: 0.024187117403503076.\n",
      "-------------------------------------------------\n"
     ]
    },
    {
     "name": "stderr",
     "output_type": "stream",
     "text": [
      "\n",
      " 53%|█████▎    | 8/15 [01:05<00:56,  8.11s/it]\u001b[A"
     ]
    },
    {
     "name": "stdout",
     "output_type": "stream",
     "text": [
      "Regular Results:  Test on Regular RNN, Domain ALM, Epoch 7, F1-micro-average 0.6508387648591015, Valid Score 0.6503202334482889\n",
      "\n",
      "Adapt Results:  Test on Adapt RNN, Domain ALM, Epoch 7, F1-micro-average 0.6590988570288883, Valid Score 0.6268564488943135\n",
      "\n",
      "Epoch: 8, Step: 300\n",
      "\tRegular Loss: 0.1799324461788038.\n",
      "\tAdapt Loss: 0.025033374805857374.\n",
      "-------------------------------------------------\n"
     ]
    },
    {
     "name": "stderr",
     "output_type": "stream",
     "text": [
      "\n",
      " 60%|██████    | 9/15 [01:13<00:49,  8.24s/it]\u001b[A"
     ]
    },
    {
     "name": "stdout",
     "output_type": "stream",
     "text": [
      "Adapt Results:  Test on Adapt RNN, Domain ALM, Epoch 8, F1-micro-average 0.6750475707101576, Valid Score 0.6611138624368571\n",
      "\n",
      "Epoch: 9, Step: 300\n",
      "\tRegular Loss: 0.17518900131862425.\n",
      "\tAdapt Loss: 0.020533390216331347.\n",
      "-------------------------------------------------\n"
     ]
    },
    {
     "name": "stderr",
     "output_type": "stream",
     "text": [
      "\n",
      " 67%|██████▋   | 10/15 [01:22<00:41,  8.24s/it]\u001b[A"
     ]
    },
    {
     "name": "stdout",
     "output_type": "stream",
     "text": [
      "Regular Results:  Test on Regular RNN, Domain ALM, Epoch 9, F1-micro-average 0.6740634598519936, Valid Score 0.6626435246286203\n",
      "\n",
      "Epoch: 10, Step: 300\n",
      "\tRegular Loss: 0.17165033021737572.\n",
      "\tAdapt Loss: 0.01960478445199439.\n",
      "-------------------------------------------------\n"
     ]
    },
    {
     "name": "stderr",
     "output_type": "stream",
     "text": [
      "\n",
      " 73%|███████▎  | 11/15 [01:30<00:33,  8.27s/it]\u001b[A"
     ]
    },
    {
     "name": "stdout",
     "output_type": "stream",
     "text": [
      "Regular Results:  Test on Regular RNN, Domain ALM, Epoch 10, F1-micro-average 0.6822480112289324, Valid Score 0.6649826532644355\n",
      "\n",
      "Adapt Results:  Test on Adapt RNN, Domain ALM, Epoch 10, F1-micro-average 0.6982699745608334, Valid Score 0.668304076402609\n",
      "\n",
      "Epoch: 11, Step: 300\n",
      "\tRegular Loss: 0.17058832520167297.\n",
      "\tAdapt Loss: 0.030620105595535217.\n",
      "-------------------------------------------------\n"
     ]
    },
    {
     "name": "stderr",
     "output_type": "stream",
     "text": [
      "\n",
      " 80%|████████  | 12/15 [01:38<00:25,  8.37s/it]\u001b[A"
     ]
    },
    {
     "name": "stdout",
     "output_type": "stream",
     "text": [
      "Regular Results:  Test on Regular RNN, Domain ALM, Epoch 11, F1-micro-average 0.6983452280172052, Valid Score 0.6796809387876502\n",
      "\n",
      "Adapt Results:  Test on Adapt RNN, Domain ALM, Epoch 11, F1-micro-average 0.7033880189689533, Valid Score 0.6987000928505106\n",
      "\n",
      "Epoch: 12, Step: 300\n",
      "\tRegular Loss: 0.16801501867482035.\n",
      "\tAdapt Loss: 0.02733572373519407.\n",
      "-------------------------------------------------\n"
     ]
    },
    {
     "name": "stderr",
     "output_type": "stream",
     "text": [
      "\n",
      " 87%|████████▋ | 13/15 [01:46<00:16,  8.18s/it]\u001b[A"
     ]
    },
    {
     "name": "stdout",
     "output_type": "stream",
     "text": [
      "Epoch: 13, Step: 300\n",
      "\tRegular Loss: 0.16499765024232707.\n",
      "\tAdapt Loss: 0.01895488359256836.\n",
      "-------------------------------------------------\n"
     ]
    },
    {
     "name": "stderr",
     "output_type": "stream",
     "text": [
      "\n",
      " 93%|█████████▎| 14/15 [01:54<00:08,  8.20s/it]\u001b[A"
     ]
    },
    {
     "name": "stdout",
     "output_type": "stream",
     "text": [
      "Regular Results:  Test on Regular RNN, Domain ALM, Epoch 13, F1-micro-average 0.7069576967573561, Valid Score 0.68868023883544\n",
      "\n",
      "Epoch: 14, Step: 300\n",
      "\tRegular Loss: 0.162477195460931.\n",
      "\tAdapt Loss: 0.05055997089987181.\n",
      "-------------------------------------------------\n"
     ]
    },
    {
     "name": "stderr",
     "output_type": "stream",
     "text": [
      "\n",
      "100%|██████████| 15/15 [02:02<00:00,  8.18s/it]\u001b[A\n",
      " 14%|█▍        | 1/7 [02:02<12:16, 122.82s/it]\n",
      "  0%|          | 0/15 [00:00<?, ?it/s]\u001b[A"
     ]
    },
    {
     "name": "stdout",
     "output_type": "stream",
     "text": [
      "Start to train...\n",
      "{'result_path': '../resource/results/adapt_rnn.txt', 'model_dir': '../resource/model/adapt_rnn/', 'dname': 'all', 'dpath': '../data/dataset.tsv', 'max_feature': 15000, 'over_sample': True, 'domain_name': 'corpus', 'epochs': 15, 'batch_size': 64, 'lr': 9e-05, 'max_len': 100, 'dp_rate': 0.2, 'optimizer': 'rmsprop', 'emb_path': '/data/models/glove.twitter.27B.200d.txt', 'emb_dim': 200, 'unique_domains': ['ALM', 'Baltimore', 'BLM', 'Davidson', 'Election', 'MeToo', 'Sandy'], 'bidirectional': False, 'device': device(type='cuda'), 'num_label': 11, 'tok_dir': '../resource/model/adapt_rnn', 'word_emb_path': '../resource/model/adapt_rnn/all.npy'}\n",
      "Epoch: 0, Step: 300\n",
      "\tRegular Loss: 0.31793226227411797.\n",
      "\tAdapt Loss: 0.04405182414994485.\n",
      "-------------------------------------------------\n"
     ]
    },
    {
     "name": "stderr",
     "output_type": "stream",
     "text": [
      "\n",
      "  7%|▋         | 1/15 [00:07<01:51,  7.99s/it]\u001b[A"
     ]
    },
    {
     "name": "stdout",
     "output_type": "stream",
     "text": [
      "Regular Results:  Test on Regular RNN, Domain Baltimore, Epoch 0, F1-micro-average 0.537511201075914, Valid Score 0.48640789177725646\n",
      "\n",
      "Adapt Results:  Test on Adapt RNN, Domain Baltimore, Epoch 0, F1-micro-average 0.6226152550502423, Valid Score 0.5939967300275826\n",
      "\n",
      "Epoch: 1, Step: 300\n",
      "\tRegular Loss: 0.2715599124514779.\n",
      "\tAdapt Loss: 0.04475029774529989.\n",
      "-------------------------------------------------\n"
     ]
    },
    {
     "name": "stderr",
     "output_type": "stream",
     "text": [
      "\n",
      " 13%|█▎        | 2/15 [00:16<01:44,  8.01s/it]\u001b[A"
     ]
    },
    {
     "name": "stdout",
     "output_type": "stream",
     "text": [
      "Regular Results:  Test on Regular RNN, Domain Baltimore, Epoch 1, F1-micro-average 0.5796868783460253, Valid Score 0.5483996960594246\n",
      "\n",
      "Adapt Results:  Test on Adapt RNN, Domain Baltimore, Epoch 1, F1-micro-average 0.6368105244405343, Valid Score 0.5973605414640244\n",
      "\n",
      "Epoch: 2, Step: 300\n",
      "\tRegular Loss: 0.2434393893246635.\n",
      "\tAdapt Loss: 0.0578781319070496.\n",
      "-------------------------------------------------\n"
     ]
    },
    {
     "name": "stderr",
     "output_type": "stream",
     "text": [
      "\n",
      " 20%|██        | 3/15 [00:23<01:35,  7.98s/it]\u001b[A"
     ]
    },
    {
     "name": "stdout",
     "output_type": "stream",
     "text": [
      "Regular Results:  Test on Regular RNN, Domain Baltimore, Epoch 2, F1-micro-average 0.6333719180579411, Valid Score 0.6007154349915107\n",
      "\n",
      "Adapt Results:  Test on Adapt RNN, Domain Baltimore, Epoch 2, F1-micro-average 0.6353570834593641, Valid Score 0.6063743040434891\n",
      "\n",
      "Epoch: 3, Step: 300\n",
      "\tRegular Loss: 0.21927196272583896.\n",
      "\tAdapt Loss: 0.068367561851427.\n",
      "-------------------------------------------------\n"
     ]
    },
    {
     "name": "stderr",
     "output_type": "stream",
     "text": [
      "\n",
      " 27%|██▋       | 4/15 [00:32<01:29,  8.09s/it]\u001b[A"
     ]
    },
    {
     "name": "stdout",
     "output_type": "stream",
     "text": [
      "Regular Results:  Test on Regular RNN, Domain Baltimore, Epoch 3, F1-micro-average 0.654958887910914, Valid Score 0.626939771341031\n",
      "\n",
      "Adapt Results:  Test on Adapt RNN, Domain Baltimore, Epoch 3, F1-micro-average 0.6705276173345275, Valid Score 0.634631360291488\n",
      "\n",
      "Epoch: 4, Step: 300\n",
      "\tRegular Loss: 0.2033868929080393.\n",
      "\tAdapt Loss: 0.039068537965367404.\n",
      "-------------------------------------------------\n"
     ]
    },
    {
     "name": "stderr",
     "output_type": "stream",
     "text": [
      "\n",
      " 33%|███▎      | 5/15 [00:40<01:20,  8.01s/it]\u001b[A"
     ]
    },
    {
     "name": "stdout",
     "output_type": "stream",
     "text": [
      "Adapt Results:  Test on Adapt RNN, Domain Baltimore, Epoch 4, F1-micro-average 0.6785582364992335, Valid Score 0.6506101145297047\n",
      "\n",
      "Epoch: 5, Step: 300\n",
      "\tRegular Loss: 0.19473303646542306.\n",
      "\tAdapt Loss: 0.047962478835420354.\n",
      "-------------------------------------------------\n"
     ]
    },
    {
     "name": "stderr",
     "output_type": "stream",
     "text": [
      "\n",
      " 40%|████      | 6/15 [00:47<01:10,  7.80s/it]\u001b[A"
     ]
    },
    {
     "name": "stdout",
     "output_type": "stream",
     "text": [
      "Epoch: 6, Step: 300\n",
      "\tRegular Loss: 0.18610417758705608.\n",
      "\tAdapt Loss: 0.06407809568154456.\n",
      "-------------------------------------------------\n"
     ]
    },
    {
     "name": "stderr",
     "output_type": "stream",
     "text": [
      "\n",
      " 47%|████▋     | 7/15 [00:55<01:03,  7.90s/it]\u001b[A"
     ]
    },
    {
     "name": "stdout",
     "output_type": "stream",
     "text": [
      "Adapt Results:  Test on Adapt RNN, Domain Baltimore, Epoch 6, F1-micro-average 0.6759651870351087, Valid Score 0.65699991198956\n",
      "\n",
      "Epoch: 7, Step: 300\n",
      "\tRegular Loss: 0.17890647870559628.\n",
      "\tAdapt Loss: 0.03233375419488183.\n",
      "-------------------------------------------------\n"
     ]
    },
    {
     "name": "stderr",
     "output_type": "stream",
     "text": [
      "\n",
      " 53%|█████▎    | 8/15 [01:04<00:56,  8.07s/it]\u001b[A"
     ]
    },
    {
     "name": "stdout",
     "output_type": "stream",
     "text": [
      "Regular Results:  Test on Regular RNN, Domain Baltimore, Epoch 7, F1-micro-average 0.6589921808176238, Valid Score 0.6309676752611997\n",
      "\n",
      "Adapt Results:  Test on Adapt RNN, Domain Baltimore, Epoch 7, F1-micro-average 0.6850928203888295, Valid Score 0.6677452988897151\n",
      "\n",
      "Epoch: 8, Step: 300\n",
      "\tRegular Loss: 0.1759662112326321.\n",
      "\tAdapt Loss: 0.027175460004578794.\n",
      "-------------------------------------------------\n"
     ]
    },
    {
     "name": "stderr",
     "output_type": "stream",
     "text": [
      "\n",
      " 60%|██████    | 9/15 [01:12<00:48,  8.08s/it]\u001b[A"
     ]
    },
    {
     "name": "stdout",
     "output_type": "stream",
     "text": [
      "Regular Results:  Test on Regular RNN, Domain Baltimore, Epoch 8, F1-micro-average 0.6507003078256683, Valid Score 0.631256556076743\n",
      "\n",
      "Adapt Results:  Test on Adapt RNN, Domain Baltimore, Epoch 8, F1-micro-average 0.6870922249313114, Valid Score 0.6687339606501284\n",
      "\n",
      "Epoch: 9, Step: 300\n",
      "\tRegular Loss: 0.17183663730704507.\n",
      "\tAdapt Loss: 0.02325918315677746.\n",
      "-------------------------------------------------\n"
     ]
    },
    {
     "name": "stderr",
     "output_type": "stream",
     "text": [
      "\n",
      " 67%|██████▋   | 10/15 [01:20<00:40,  8.15s/it]\u001b[A"
     ]
    },
    {
     "name": "stdout",
     "output_type": "stream",
     "text": [
      "Regular Results:  Test on Regular RNN, Domain Baltimore, Epoch 9, F1-micro-average 0.6709925016479399, Valid Score 0.6465552075660812\n",
      "\n",
      "Adapt Results:  Test on Adapt RNN, Domain Baltimore, Epoch 9, F1-micro-average 0.6943074985742299, Valid Score 0.6720723768960613\n",
      "\n",
      "Epoch: 10, Step: 300\n",
      "\tRegular Loss: 0.1670489808748727.\n",
      "\tAdapt Loss: 0.026602220641096366.\n",
      "-------------------------------------------------\n"
     ]
    },
    {
     "name": "stderr",
     "output_type": "stream",
     "text": [
      "\n",
      " 73%|███████▎  | 11/15 [01:28<00:32,  8.20s/it]\u001b[A"
     ]
    },
    {
     "name": "stdout",
     "output_type": "stream",
     "text": [
      "Regular Results:  Test on Regular RNN, Domain Baltimore, Epoch 10, F1-micro-average 0.6676555065237334, Valid Score 0.6528786866567332\n",
      "\n",
      "Adapt Results:  Test on Adapt RNN, Domain Baltimore, Epoch 10, F1-micro-average 0.6968044218787366, Valid Score 0.6740900586460593\n",
      "\n",
      "Epoch: 11, Step: 300\n",
      "\tRegular Loss: 0.16444633284775523.\n",
      "\tAdapt Loss: 0.02225878719314685.\n",
      "-------------------------------------------------\n"
     ]
    },
    {
     "name": "stderr",
     "output_type": "stream",
     "text": [
      "\n",
      " 80%|████████  | 12/15 [01:36<00:24,  8.15s/it]\u001b[A"
     ]
    },
    {
     "name": "stdout",
     "output_type": "stream",
     "text": [
      "Adapt Results:  Test on Adapt RNN, Domain Baltimore, Epoch 11, F1-micro-average 0.7001746800660935, Valid Score 0.6788103907788414\n",
      "\n",
      "Epoch: 12, Step: 300\n",
      "\tRegular Loss: 0.1622772699723212.\n",
      "\tAdapt Loss: 0.05915108256264778.\n",
      "-------------------------------------------------\n"
     ]
    },
    {
     "name": "stderr",
     "output_type": "stream",
     "text": [
      "\n",
      " 87%|████████▋ | 13/15 [01:45<00:16,  8.18s/it]\u001b[A"
     ]
    },
    {
     "name": "stdout",
     "output_type": "stream",
     "text": [
      "Adapt Results:  Test on Adapt RNN, Domain Baltimore, Epoch 12, F1-micro-average 0.7019223672497866, Valid Score 0.6855772990477859\n",
      "\n",
      "Epoch: 13, Step: 300\n",
      "\tRegular Loss: 0.15934413522976973.\n",
      "\tAdapt Loss: 0.0190758936639343.\n",
      "-------------------------------------------------\n"
     ]
    },
    {
     "name": "stderr",
     "output_type": "stream",
     "text": [
      "\n",
      " 93%|█████████▎| 14/15 [01:52<00:08,  8.03s/it]\u001b[A"
     ]
    },
    {
     "name": "stdout",
     "output_type": "stream",
     "text": [
      "Epoch: 14, Step: 300\n",
      "\tRegular Loss: 0.15683678421269223.\n",
      "\tAdapt Loss: 0.05409769442217097.\n",
      "-------------------------------------------------\n"
     ]
    },
    {
     "name": "stderr",
     "output_type": "stream",
     "text": [
      "\n",
      "100%|██████████| 15/15 [02:00<00:00,  8.04s/it]\u001b[A\n",
      " 29%|██▊       | 2/7 [04:03<10:11, 122.22s/it]\n",
      "  0%|          | 0/15 [00:00<?, ?it/s]\u001b[A"
     ]
    },
    {
     "name": "stdout",
     "output_type": "stream",
     "text": [
      "Start to train...\n",
      "{'result_path': '../resource/results/adapt_rnn.txt', 'model_dir': '../resource/model/adapt_rnn/', 'dname': 'all', 'dpath': '../data/dataset.tsv', 'max_feature': 15000, 'over_sample': True, 'domain_name': 'corpus', 'epochs': 15, 'batch_size': 64, 'lr': 9e-05, 'max_len': 100, 'dp_rate': 0.2, 'optimizer': 'rmsprop', 'emb_path': '/data/models/glove.twitter.27B.200d.txt', 'emb_dim': 200, 'unique_domains': ['ALM', 'Baltimore', 'BLM', 'Davidson', 'Election', 'MeToo', 'Sandy'], 'bidirectional': False, 'device': device(type='cuda'), 'num_label': 11, 'tok_dir': '../resource/model/adapt_rnn', 'word_emb_path': '../resource/model/adapt_rnn/all.npy'}\n",
      "Epoch: 0, Step: 300\n",
      "\tRegular Loss: 0.3025365312927189.\n",
      "\tAdapt Loss: 0.08846198460489413.\n",
      "-------------------------------------------------\n",
      "Regular Results:  Test on Regular RNN, Domain BLM, Epoch 0, F1-micro-average 0.24153156234166556, Valid Score 0.23361625156532626\n",
      "\n"
     ]
    },
    {
     "name": "stderr",
     "output_type": "stream",
     "text": [
      "\n",
      "  7%|▋         | 1/15 [00:08<01:57,  8.38s/it]\u001b[A"
     ]
    },
    {
     "name": "stdout",
     "output_type": "stream",
     "text": [
      "Adapt Results:  Test on Adapt RNN, Domain BLM, Epoch 0, F1-micro-average 0.1430345634274443, Valid Score 0.15857832794110752\n",
      "\n",
      "Epoch: 1, Step: 300\n",
      "\tRegular Loss: 0.2544860254193461.\n",
      "\tAdapt Loss: 0.05960554627089009.\n",
      "-------------------------------------------------\n",
      "Regular Results:  Test on Regular RNN, Domain BLM, Epoch 1, F1-micro-average 0.2533307847560697, Valid Score 0.256633016157516\n",
      "\n"
     ]
    },
    {
     "name": "stderr",
     "output_type": "stream",
     "text": [
      "\n",
      " 13%|█▎        | 2/15 [00:16<01:47,  8.26s/it]\u001b[A"
     ]
    },
    {
     "name": "stdout",
     "output_type": "stream",
     "text": [
      "Adapt Results:  Test on Adapt RNN, Domain BLM, Epoch 1, F1-micro-average 0.26867149319003075, Valid Score 0.2697062605083572\n",
      "\n",
      "Epoch: 2, Step: 300\n",
      "\tRegular Loss: 0.23818345026320398.\n",
      "\tAdapt Loss: 0.04679552156886587.\n",
      "-------------------------------------------------\n"
     ]
    },
    {
     "name": "stderr",
     "output_type": "stream",
     "text": [
      "\n",
      " 20%|██        | 3/15 [00:23<01:36,  8.01s/it]\u001b[A"
     ]
    },
    {
     "name": "stdout",
     "output_type": "stream",
     "text": [
      "Adapt Results:  Test on Adapt RNN, Domain BLM, Epoch 2, F1-micro-average 0.4833133507542777, Valid Score 0.4693736721994245\n",
      "\n",
      "Epoch: 3, Step: 300\n",
      "\tRegular Loss: 0.21767281139411798.\n",
      "\tAdapt Loss: 0.032248601571121485.\n",
      "-------------------------------------------------\n",
      "Regular Results:  Test on Regular RNN, Domain BLM, Epoch 3, F1-micro-average 0.35898182792068245, Valid Score 0.37249508840864437\n",
      "\n"
     ]
    },
    {
     "name": "stderr",
     "output_type": "stream",
     "text": [
      "\n",
      " 27%|██▋       | 4/15 [00:31<01:26,  7.89s/it]\u001b[A"
     ]
    },
    {
     "name": "stdout",
     "output_type": "stream",
     "text": [
      "Adapt Results:  Test on Adapt RNN, Domain BLM, Epoch 3, F1-micro-average 0.5958351231953148, Valid Score 0.6007911999088074\n",
      "\n",
      "Epoch: 4, Step: 300\n",
      "\tRegular Loss: 0.20617439293386136.\n",
      "\tAdapt Loss: 0.03694634456991951.\n",
      "-------------------------------------------------\n",
      "Regular Results:  Test on Regular RNN, Domain BLM, Epoch 4, F1-micro-average 0.45167304511568507, Valid Score 0.4564014123231754\n",
      "\n"
     ]
    },
    {
     "name": "stderr",
     "output_type": "stream",
     "text": [
      "\n",
      " 33%|███▎      | 5/15 [00:39<01:18,  7.82s/it]\u001b[A"
     ]
    },
    {
     "name": "stdout",
     "output_type": "stream",
     "text": [
      "Adapt Results:  Test on Adapt RNN, Domain BLM, Epoch 4, F1-micro-average 0.6618567068608348, Valid Score 0.6674266686593047\n",
      "\n",
      "Epoch: 5, Step: 300\n",
      "\tRegular Loss: 0.1986178227041251.\n",
      "\tAdapt Loss: 0.028976704881981362.\n",
      "-------------------------------------------------\n",
      "Regular Results:  Test on Regular RNN, Domain BLM, Epoch 5, F1-micro-average 0.5058841904267771, Valid Score 0.48829587416786996\n",
      "\n"
     ]
    },
    {
     "name": "stderr",
     "output_type": "stream",
     "text": [
      "\n",
      " 40%|████      | 6/15 [00:47<01:10,  7.86s/it]\u001b[A"
     ]
    },
    {
     "name": "stdout",
     "output_type": "stream",
     "text": [
      "Adapt Results:  Test on Adapt RNN, Domain BLM, Epoch 5, F1-micro-average 0.6881145012078826, Valid Score 0.678620104496941\n",
      "\n",
      "Epoch: 6, Step: 300\n",
      "\tRegular Loss: 0.1917476400832005.\n",
      "\tAdapt Loss: 0.06263392537436216.\n",
      "-------------------------------------------------\n",
      "Regular Results:  Test on Regular RNN, Domain BLM, Epoch 6, F1-micro-average 0.5326316471091342, Valid Score 0.5198002691059019\n",
      "\n"
     ]
    },
    {
     "name": "stderr",
     "output_type": "stream",
     "text": [
      "\n",
      " 47%|████▋     | 7/15 [00:55<01:03,  7.90s/it]\u001b[A"
     ]
    },
    {
     "name": "stdout",
     "output_type": "stream",
     "text": [
      "Adapt Results:  Test on Adapt RNN, Domain BLM, Epoch 6, F1-micro-average 0.6947920439608362, Valid Score 0.6889936998107549\n",
      "\n",
      "Epoch: 7, Step: 300\n",
      "\tRegular Loss: 0.18788127314014688.\n",
      "\tAdapt Loss: 0.042151965850660965.\n",
      "-------------------------------------------------\n",
      "Regular Results:  Test on Regular RNN, Domain BLM, Epoch 7, F1-micro-average 0.593995356052264, Valid Score 0.590191384045944\n",
      "\n"
     ]
    },
    {
     "name": "stderr",
     "output_type": "stream",
     "text": [
      "\n",
      " 53%|█████▎    | 8/15 [01:03<00:56,  8.00s/it]\u001b[A"
     ]
    },
    {
     "name": "stdout",
     "output_type": "stream",
     "text": [
      "Adapt Results:  Test on Adapt RNN, Domain BLM, Epoch 7, F1-micro-average 0.7223823626652904, Valid Score 0.721119726145824\n",
      "\n",
      "Epoch: 8, Step: 300\n",
      "\tRegular Loss: 0.18268128447358395.\n",
      "\tAdapt Loss: 0.03230551036811152.\n",
      "-------------------------------------------------\n",
      "Regular Results:  Test on Regular RNN, Domain BLM, Epoch 8, F1-micro-average 0.6341756746970082, Valid Score 0.6368082946347067\n",
      "\n"
     ]
    },
    {
     "name": "stderr",
     "output_type": "stream",
     "text": [
      "\n",
      " 60%|██████    | 9/15 [01:11<00:49,  8.21s/it]\u001b[A"
     ]
    },
    {
     "name": "stdout",
     "output_type": "stream",
     "text": [
      "Adapt Results:  Test on Adapt RNN, Domain BLM, Epoch 8, F1-micro-average 0.730775918222873, Valid Score 0.7338193112295842\n",
      "\n",
      "Epoch: 9, Step: 300\n",
      "\tRegular Loss: 0.17933600098884778.\n",
      "\tAdapt Loss: 0.028857123057212546.\n",
      "-------------------------------------------------\n",
      "Regular Results:  Test on Regular RNN, Domain BLM, Epoch 9, F1-micro-average 0.6464506889554446, Valid Score 0.6460926782798995\n",
      "\n"
     ]
    },
    {
     "name": "stderr",
     "output_type": "stream",
     "text": [
      "\n",
      " 67%|██████▋   | 10/15 [01:20<00:41,  8.33s/it]\u001b[A"
     ]
    },
    {
     "name": "stdout",
     "output_type": "stream",
     "text": [
      "Adapt Results:  Test on Adapt RNN, Domain BLM, Epoch 9, F1-micro-average 0.7440868193458043, Valid Score 0.7497548289678305\n",
      "\n",
      "Epoch: 10, Step: 300\n",
      "\tRegular Loss: 0.17525262699966812.\n",
      "\tAdapt Loss: 0.03398092842329776.\n",
      "-------------------------------------------------\n",
      "Regular Results:  Test on Regular RNN, Domain BLM, Epoch 10, F1-micro-average 0.6538671037173462, Valid Score 0.6503379527379793\n",
      "\n"
     ]
    },
    {
     "name": "stderr",
     "output_type": "stream",
     "text": [
      "\n",
      " 73%|███████▎  | 11/15 [01:28<00:33,  8.30s/it]\u001b[A"
     ]
    },
    {
     "name": "stdout",
     "output_type": "stream",
     "text": [
      "Adapt Results:  Test on Adapt RNN, Domain BLM, Epoch 10, F1-micro-average 0.7642261114314173, Valid Score 0.7796191263910283\n",
      "\n",
      "Epoch: 11, Step: 300\n",
      "\tRegular Loss: 0.17246446407019497.\n",
      "\tAdapt Loss: 0.027033073338757322.\n",
      "-------------------------------------------------\n"
     ]
    },
    {
     "name": "stderr",
     "output_type": "stream",
     "text": [
      "\n",
      " 80%|████████  | 12/15 [01:36<00:24,  8.19s/it]\u001b[A"
     ]
    },
    {
     "name": "stdout",
     "output_type": "stream",
     "text": [
      "Adapt Results:  Test on Adapt RNN, Domain BLM, Epoch 11, F1-micro-average 0.7744909207334252, Valid Score 0.7816247832214621\n",
      "\n",
      "Epoch: 12, Step: 300\n",
      "\tRegular Loss: 0.16950911323097456.\n",
      "\tAdapt Loss: 0.022134316076471955.\n",
      "-------------------------------------------------\n",
      "Regular Results:  Test on Regular RNN, Domain BLM, Epoch 12, F1-micro-average 0.6860902569400897, Valid Score 0.6756343416931194\n",
      "\n"
     ]
    },
    {
     "name": "stderr",
     "output_type": "stream",
     "text": [
      "\n",
      " 87%|████████▋ | 13/15 [01:44<00:16,  8.18s/it]\u001b[A"
     ]
    },
    {
     "name": "stdout",
     "output_type": "stream",
     "text": [
      "Adapt Results:  Test on Adapt RNN, Domain BLM, Epoch 12, F1-micro-average 0.7844660372029499, Valid Score 0.7877673835825104\n",
      "\n",
      "Epoch: 13, Step: 300\n",
      "\tRegular Loss: 0.1676454512136323.\n",
      "\tAdapt Loss: 0.05251453524808155.\n",
      "-------------------------------------------------\n",
      "Regular Results:  Test on Regular RNN, Domain BLM, Epoch 13, F1-micro-average 0.6884981289516654, Valid Score 0.6804610854942957\n",
      "\n"
     ]
    },
    {
     "name": "stderr",
     "output_type": "stream",
     "text": [
      "\n",
      " 93%|█████████▎| 14/15 [01:53<00:08,  8.29s/it]\u001b[A"
     ]
    },
    {
     "name": "stdout",
     "output_type": "stream",
     "text": [
      "Adapt Results:  Test on Adapt RNN, Domain BLM, Epoch 13, F1-micro-average 0.7910174999710287, Valid Score 0.7903424547115848\n",
      "\n",
      "Epoch: 14, Step: 300\n",
      "\tRegular Loss: 0.16569512260712657.\n",
      "\tAdapt Loss: 0.02685228533473522.\n",
      "-------------------------------------------------\n",
      "Regular Results:  Test on Regular RNN, Domain BLM, Epoch 14, F1-micro-average 0.6906726323247704, Valid Score 0.6826479854294345\n",
      "\n"
     ]
    },
    {
     "name": "stderr",
     "output_type": "stream",
     "text": [
      "\n",
      "100%|██████████| 15/15 [02:01<00:00,  8.11s/it]\u001b[A\n",
      " 43%|████▎     | 3/7 [06:05<08:08, 122.10s/it]\n",
      "  0%|          | 0/15 [00:00<?, ?it/s]\u001b[A"
     ]
    },
    {
     "name": "stdout",
     "output_type": "stream",
     "text": [
      "Adapt Results:  Test on Adapt RNN, Domain BLM, Epoch 14, F1-micro-average 0.7997673452497587, Valid Score 0.7984870648879061\n",
      "\n",
      "Start to train...\n",
      "{'result_path': '../resource/results/adapt_rnn.txt', 'model_dir': '../resource/model/adapt_rnn/', 'dname': 'all', 'dpath': '../data/dataset.tsv', 'max_feature': 15000, 'over_sample': True, 'domain_name': 'corpus', 'epochs': 15, 'batch_size': 64, 'lr': 9e-05, 'max_len': 100, 'dp_rate': 0.2, 'optimizer': 'rmsprop', 'emb_path': '/data/models/glove.twitter.27B.200d.txt', 'emb_dim': 200, 'unique_domains': ['ALM', 'Baltimore', 'BLM', 'Davidson', 'Election', 'MeToo', 'Sandy'], 'bidirectional': False, 'device': device(type='cuda'), 'num_label': 11, 'tok_dir': '../resource/model/adapt_rnn', 'word_emb_path': '../resource/model/adapt_rnn/all.npy'}\n",
      "Epoch: 0, Step: 300\n",
      "\tRegular Loss: 0.3376856663100347.\n",
      "\tAdapt Loss: 0.045083342157180524.\n",
      "-------------------------------------------------\n",
      "Regular Results:  Test on Regular RNN, Domain Davidson, Epoch 0, F1-micro-average 0.7686531648270752, Valid Score 0.766725880864442\n",
      "\n"
     ]
    },
    {
     "name": "stderr",
     "output_type": "stream",
     "text": [
      "\n",
      "  7%|▋         | 1/15 [00:09<02:09,  9.28s/it]\u001b[A"
     ]
    },
    {
     "name": "stdout",
     "output_type": "stream",
     "text": [
      "Adapt Results:  Test on Adapt RNN, Domain Davidson, Epoch 0, F1-micro-average 0.9554169625431509, Valid Score 0.9495735301789348\n",
      "\n",
      "Epoch: 1, Step: 300\n",
      "\tRegular Loss: 0.2960011569962549.\n",
      "\tAdapt Loss: 0.028559205725640555.\n",
      "-------------------------------------------------\n",
      "Regular Results:  Test on Regular RNN, Domain Davidson, Epoch 1, F1-micro-average 0.9194583215375987, Valid Score 0.9070467463117575\n",
      "\n"
     ]
    },
    {
     "name": "stderr",
     "output_type": "stream",
     "text": [
      "\n",
      " 13%|█▎        | 2/15 [00:25<02:29, 11.49s/it]\u001b[A"
     ]
    },
    {
     "name": "stdout",
     "output_type": "stream",
     "text": [
      "Adapt Results:  Test on Adapt RNN, Domain Davidson, Epoch 1, F1-micro-average 0.9552748268335626, Valid Score 0.9495735301789349\n",
      "\n",
      "Epoch: 2, Step: 300\n",
      "\tRegular Loss: 0.2579079042142412.\n",
      "\tAdapt Loss: 0.033869963034096354.\n",
      "-------------------------------------------------\n"
     ]
    },
    {
     "name": "stderr",
     "output_type": "stream",
     "text": [
      "\n",
      " 20%|██        | 3/15 [00:41<02:33, 12.80s/it]\u001b[A"
     ]
    },
    {
     "name": "stdout",
     "output_type": "stream",
     "text": [
      "Epoch: 3, Step: 300\n",
      "\tRegular Loss: 0.2431739670691696.\n",
      "\tAdapt Loss: 0.015153804051371112.\n",
      "-------------------------------------------------\n"
     ]
    },
    {
     "name": "stderr",
     "output_type": "stream",
     "text": [
      "\n",
      " 27%|██▋       | 4/15 [00:58<02:32, 13.85s/it]\u001b[A"
     ]
    },
    {
     "name": "stdout",
     "output_type": "stream",
     "text": [
      "Regular Results:  Test on Regular RNN, Domain Davidson, Epoch 3, F1-micro-average 0.9294522436672227, Valid Score 0.9171022736442687\n",
      "\n",
      "Epoch: 4, Step: 300\n",
      "\tRegular Loss: 0.22738484800653996.\n",
      "\tAdapt Loss: 0.016031437729828776.\n",
      "-------------------------------------------------\n"
     ]
    },
    {
     "name": "stderr",
     "output_type": "stream",
     "text": [
      "\n",
      " 33%|███▎      | 5/15 [01:09<02:11, 13.19s/it]\u001b[A"
     ]
    },
    {
     "name": "stdout",
     "output_type": "stream",
     "text": [
      "Epoch: 5, Step: 300\n",
      "\tRegular Loss: 0.21780121732391788.\n",
      "\tAdapt Loss: 0.015443446125488642.\n",
      "-------------------------------------------------\n"
     ]
    },
    {
     "name": "stderr",
     "output_type": "stream",
     "text": [
      "\n",
      " 40%|████      | 6/15 [01:26<02:07, 14.12s/it]\u001b[A"
     ]
    },
    {
     "name": "stdout",
     "output_type": "stream",
     "text": [
      "Regular Results:  Test on Regular RNN, Domain Davidson, Epoch 5, F1-micro-average 0.9319452943991621, Valid Score 0.9199678875437106\n",
      "\n",
      "Epoch: 6, Step: 300\n",
      "\tRegular Loss: 0.20738960842159498.\n",
      "\tAdapt Loss: 0.01701085455406247.\n",
      "-------------------------------------------------\n"
     ]
    },
    {
     "name": "stderr",
     "output_type": "stream",
     "text": [
      "\n",
      " 47%|████▋     | 7/15 [01:41<01:57, 14.64s/it]\u001b[A"
     ]
    },
    {
     "name": "stdout",
     "output_type": "stream",
     "text": [
      "Epoch: 7, Step: 300\n",
      "\tRegular Loss: 0.20140314057617884.\n",
      "\tAdapt Loss: 0.010983583387420622.\n",
      "-------------------------------------------------\n"
     ]
    },
    {
     "name": "stderr",
     "output_type": "stream",
     "text": [
      "\n",
      " 53%|█████▎    | 8/15 [01:57<01:45, 15.02s/it]\u001b[A"
     ]
    },
    {
     "name": "stdout",
     "output_type": "stream",
     "text": [
      "Epoch: 8, Step: 300\n",
      "\tRegular Loss: 0.19548155243610624.\n",
      "\tAdapt Loss: 0.01245259628027826.\n",
      "-------------------------------------------------\n"
     ]
    },
    {
     "name": "stderr",
     "output_type": "stream",
     "text": [
      "\n",
      " 60%|██████    | 9/15 [02:09<01:23, 13.97s/it]\u001b[A"
     ]
    },
    {
     "name": "stdout",
     "output_type": "stream",
     "text": [
      "Epoch: 9, Step: 300\n",
      "\tRegular Loss: 0.19116785543107512.\n",
      "\tAdapt Loss: 0.010363123263619172.\n",
      "-------------------------------------------------\n"
     ]
    },
    {
     "name": "stderr",
     "output_type": "stream",
     "text": [
      "\n",
      " 67%|██████▋   | 10/15 [02:25<01:12, 14.51s/it]\u001b[A"
     ]
    },
    {
     "name": "stdout",
     "output_type": "stream",
     "text": [
      "Epoch: 10, Step: 300\n",
      "\tRegular Loss: 0.18676866204833667.\n",
      "\tAdapt Loss: 0.01689316136793441.\n",
      "-------------------------------------------------\n"
     ]
    },
    {
     "name": "stderr",
     "output_type": "stream",
     "text": [
      "\n",
      " 73%|███████▎  | 11/15 [02:40<00:59, 14.87s/it]\u001b[A"
     ]
    },
    {
     "name": "stdout",
     "output_type": "stream",
     "text": [
      "Epoch: 11, Step: 300\n",
      "\tRegular Loss: 0.1847628733743465.\n",
      "\tAdapt Loss: 0.010747164774042526.\n",
      "-------------------------------------------------\n"
     ]
    },
    {
     "name": "stderr",
     "output_type": "stream",
     "text": [
      "\n",
      " 80%|████████  | 12/15 [02:56<00:45, 15.14s/it]\u001b[A"
     ]
    },
    {
     "name": "stdout",
     "output_type": "stream",
     "text": [
      "Epoch: 12, Step: 300\n",
      "\tRegular Loss: 0.18280582674516.\n",
      "\tAdapt Loss: 0.008055772126475937.\n",
      "-------------------------------------------------\n"
     ]
    },
    {
     "name": "stderr",
     "output_type": "stream",
     "text": [
      "\n",
      " 87%|████████▋ | 13/15 [03:09<00:28, 14.39s/it]\u001b[A"
     ]
    },
    {
     "name": "stdout",
     "output_type": "stream",
     "text": [
      "Epoch: 13, Step: 300\n",
      "\tRegular Loss: 0.17877531873427358.\n",
      "\tAdapt Loss: 0.012612741700438567.\n",
      "-------------------------------------------------\n"
     ]
    },
    {
     "name": "stderr",
     "output_type": "stream",
     "text": [
      "\n",
      " 93%|█████████▎| 14/15 [03:24<00:14, 14.53s/it]\u001b[A"
     ]
    },
    {
     "name": "stdout",
     "output_type": "stream",
     "text": [
      "Epoch: 14, Step: 300\n",
      "\tRegular Loss: 0.1777770409849395.\n",
      "\tAdapt Loss: 0.009061523315580283.\n",
      "-------------------------------------------------\n"
     ]
    },
    {
     "name": "stderr",
     "output_type": "stream",
     "text": [
      "\n",
      "100%|██████████| 15/15 [03:40<00:00, 14.69s/it]\u001b[A\n",
      " 57%|█████▋    | 4/7 [09:46<07:34, 151.64s/it]\n",
      "  0%|          | 0/15 [00:00<?, ?it/s]\u001b[A"
     ]
    },
    {
     "name": "stdout",
     "output_type": "stream",
     "text": [
      "Start to train...\n",
      "{'result_path': '../resource/results/adapt_rnn.txt', 'model_dir': '../resource/model/adapt_rnn/', 'dname': 'all', 'dpath': '../data/dataset.tsv', 'max_feature': 15000, 'over_sample': True, 'domain_name': 'corpus', 'epochs': 15, 'batch_size': 64, 'lr': 9e-05, 'max_len': 100, 'dp_rate': 0.2, 'optimizer': 'rmsprop', 'emb_path': '/data/models/glove.twitter.27B.200d.txt', 'emb_dim': 200, 'unique_domains': ['ALM', 'Baltimore', 'BLM', 'Davidson', 'Election', 'MeToo', 'Sandy'], 'bidirectional': False, 'device': device(type='cuda'), 'num_label': 11, 'tok_dir': '../resource/model/adapt_rnn', 'word_emb_path': '../resource/model/adapt_rnn/all.npy'}\n",
      "Epoch: 0, Step: 300\n",
      "\tRegular Loss: 0.3156826572857822.\n",
      "\tAdapt Loss: 0.10274813435600445.\n",
      "-------------------------------------------------\n",
      "Regular Results:  Test on Regular RNN, Domain Election, Epoch 0, F1-micro-average 0.3900660627641571, Valid Score 0.36762481089258703\n",
      "\n"
     ]
    },
    {
     "name": "stderr",
     "output_type": "stream",
     "text": [
      "\n",
      "  7%|▋         | 1/15 [00:16<03:57, 16.96s/it]\u001b[A"
     ]
    },
    {
     "name": "stdout",
     "output_type": "stream",
     "text": [
      "Adapt Results:  Test on Adapt RNN, Domain Election, Epoch 0, F1-micro-average 0.507805625742329, Valid Score 0.4896162414067511\n",
      "\n",
      "Epoch: 1, Step: 300\n",
      "\tRegular Loss: 0.2649183644111766.\n",
      "\tAdapt Loss: 0.05461358150275443.\n",
      "-------------------------------------------------\n"
     ]
    },
    {
     "name": "stderr",
     "output_type": "stream",
     "text": [
      "\n",
      " 13%|█▎        | 2/15 [00:29<03:21, 15.49s/it]\u001b[A"
     ]
    },
    {
     "name": "stdout",
     "output_type": "stream",
     "text": [
      "Adapt Results:  Test on Adapt RNN, Domain Election, Epoch 1, F1-micro-average 0.5473635386078849, Valid Score 0.5398883689462706\n",
      "\n",
      "Epoch: 2, Step: 300\n",
      "\tRegular Loss: 0.24137203905273513.\n",
      "\tAdapt Loss: 0.04372348053461293.\n",
      "-------------------------------------------------\n"
     ]
    },
    {
     "name": "stderr",
     "output_type": "stream",
     "text": [
      "\n",
      " 20%|██        | 3/15 [00:45<03:09, 15.75s/it]\u001b[A"
     ]
    },
    {
     "name": "stdout",
     "output_type": "stream",
     "text": [
      "Adapt Results:  Test on Adapt RNN, Domain Election, Epoch 2, F1-micro-average 0.5576443148830675, Valid Score 0.552863611089046\n",
      "\n",
      "Epoch: 3, Step: 300\n",
      "\tRegular Loss: 0.22011055072082633.\n",
      "\tAdapt Loss: 0.028194384104835234.\n",
      "-------------------------------------------------\n",
      "Regular Results:  Test on Regular RNN, Domain Election, Epoch 3, F1-micro-average 0.43150389935717365, Valid Score 0.41885245901639345\n",
      "\n"
     ]
    },
    {
     "name": "stderr",
     "output_type": "stream",
     "text": [
      "\n",
      " 27%|██▋       | 4/15 [01:02<02:57, 16.18s/it]\u001b[A"
     ]
    },
    {
     "name": "stdout",
     "output_type": "stream",
     "text": [
      "Adapt Results:  Test on Adapt RNN, Domain Election, Epoch 3, F1-micro-average 0.5701699846628983, Valid Score 0.5881831880036837\n",
      "\n",
      "Epoch: 4, Step: 300\n",
      "\tRegular Loss: 0.20964580135686056.\n",
      "\tAdapt Loss: 0.02752707595704897.\n",
      "-------------------------------------------------\n",
      "Regular Results:  Test on Regular RNN, Domain Election, Epoch 4, F1-micro-average 0.47331302884803145, Valid Score 0.48040905477134604\n",
      "\n"
     ]
    },
    {
     "name": "stderr",
     "output_type": "stream",
     "text": [
      "\n",
      " 33%|███▎      | 5/15 [01:19<02:44, 16.48s/it]\u001b[A"
     ]
    },
    {
     "name": "stdout",
     "output_type": "stream",
     "text": [
      "Adapt Results:  Test on Adapt RNN, Domain Election, Epoch 4, F1-micro-average 0.6015249024828244, Valid Score 0.6219812924883524\n",
      "\n",
      "Epoch: 5, Step: 300\n",
      "\tRegular Loss: 0.19943480812433947.\n",
      "\tAdapt Loss: 0.034803201954972704.\n",
      "-------------------------------------------------\n",
      "Regular Results:  Test on Regular RNN, Domain Election, Epoch 5, F1-micro-average 0.49611611965689856, Valid Score 0.5155429726680654\n",
      "\n"
     ]
    },
    {
     "name": "stderr",
     "output_type": "stream",
     "text": [
      "\n",
      " 40%|████      | 6/15 [01:32<02:17, 15.24s/it]\u001b[A"
     ]
    },
    {
     "name": "stdout",
     "output_type": "stream",
     "text": [
      "Adapt Results:  Test on Adapt RNN, Domain Election, Epoch 5, F1-micro-average 0.6177738158120915, Valid Score 0.6272606335167009\n",
      "\n",
      "Epoch: 6, Step: 300\n",
      "\tRegular Loss: 0.1911636727592874.\n",
      "\tAdapt Loss: 0.04183159119440274.\n",
      "-------------------------------------------------\n"
     ]
    },
    {
     "name": "stderr",
     "output_type": "stream",
     "text": [
      "\n",
      " 47%|████▋     | 7/15 [01:48<02:05, 15.65s/it]\u001b[A"
     ]
    },
    {
     "name": "stdout",
     "output_type": "stream",
     "text": [
      "Adapt Results:  Test on Adapt RNN, Domain Election, Epoch 6, F1-micro-average 0.6398989976591227, Valid Score 0.6592052911693278\n",
      "\n",
      "Epoch: 7, Step: 300\n",
      "\tRegular Loss: 0.18534487703709904.\n",
      "\tAdapt Loss: 0.015568106351698752.\n",
      "-------------------------------------------------\n",
      "Regular Results:  Test on Regular RNN, Domain Election, Epoch 7, F1-micro-average 0.5079739959431918, Valid Score 0.5351734952969895\n",
      "\n"
     ]
    },
    {
     "name": "stderr",
     "output_type": "stream",
     "text": [
      "\n",
      " 53%|█████▎    | 8/15 [02:05<01:52, 16.14s/it]\u001b[A"
     ]
    },
    {
     "name": "stdout",
     "output_type": "stream",
     "text": [
      "Adapt Results:  Test on Adapt RNN, Domain Election, Epoch 7, F1-micro-average 0.6535213618774355, Valid Score 0.6778039228640648\n",
      "\n",
      "Epoch: 8, Step: 300\n",
      "\tRegular Loss: 0.18045854080852083.\n",
      "\tAdapt Loss: 0.054504223916667247.\n",
      "-------------------------------------------------\n",
      "Regular Results:  Test on Regular RNN, Domain Election, Epoch 8, F1-micro-average 0.5408815508416513, Valid Score 0.5627689416634893\n",
      "\n"
     ]
    },
    {
     "name": "stderr",
     "output_type": "stream",
     "text": [
      "\n",
      " 60%|██████    | 9/15 [02:21<01:35, 15.94s/it]\u001b[A"
     ]
    },
    {
     "name": "stdout",
     "output_type": "stream",
     "text": [
      "Adapt Results:  Test on Adapt RNN, Domain Election, Epoch 8, F1-micro-average 0.6733427549844875, Valid Score 0.6917365815694777\n",
      "\n",
      "Epoch: 9, Step: 300\n",
      "\tRegular Loss: 0.17708725898071778.\n",
      "\tAdapt Loss: 0.02079776914610815.\n",
      "-------------------------------------------------\n",
      "Regular Results:  Test on Regular RNN, Domain Election, Epoch 9, F1-micro-average 0.5965711319671153, Valid Score 0.6281501525379722\n",
      "\n"
     ]
    },
    {
     "name": "stderr",
     "output_type": "stream",
     "text": [
      "\n",
      " 67%|██████▋   | 10/15 [02:35<01:16, 15.37s/it]\u001b[A"
     ]
    },
    {
     "name": "stdout",
     "output_type": "stream",
     "text": [
      "Adapt Results:  Test on Adapt RNN, Domain Election, Epoch 9, F1-micro-average 0.6764484757838156, Valid Score 0.7000638225348065\n",
      "\n",
      "Epoch: 10, Step: 300\n",
      "\tRegular Loss: 0.17300548768320748.\n",
      "\tAdapt Loss: 0.03033487572399683.\n",
      "-------------------------------------------------\n"
     ]
    },
    {
     "name": "stderr",
     "output_type": "stream",
     "text": [
      "\n",
      " 73%|███████▎  | 11/15 [02:52<01:02, 15.73s/it]\u001b[A"
     ]
    },
    {
     "name": "stdout",
     "output_type": "stream",
     "text": [
      "Adapt Results:  Test on Adapt RNN, Domain Election, Epoch 10, F1-micro-average 0.6849470850352767, Valid Score 0.7057213592818498\n",
      "\n",
      "Epoch: 11, Step: 300\n",
      "\tRegular Loss: 0.1708726485652781.\n",
      "\tAdapt Loss: 0.0453642409827028.\n",
      "-------------------------------------------------\n"
     ]
    },
    {
     "name": "stderr",
     "output_type": "stream",
     "text": [
      "\n",
      " 80%|████████  | 12/15 [03:08<00:47, 15.97s/it]\u001b[A"
     ]
    },
    {
     "name": "stdout",
     "output_type": "stream",
     "text": [
      "Adapt Results:  Test on Adapt RNN, Domain Election, Epoch 11, F1-micro-average 0.6983023720023948, Valid Score 0.7108748997801903\n",
      "\n",
      "Epoch: 12, Step: 300\n",
      "\tRegular Loss: 0.1670442622315844.\n",
      "\tAdapt Loss: 0.0267332633214684.\n",
      "-------------------------------------------------\n"
     ]
    },
    {
     "name": "stderr",
     "output_type": "stream",
     "text": [
      "\n",
      " 87%|████████▋ | 13/15 [03:22<00:30, 15.22s/it]\u001b[A"
     ]
    },
    {
     "name": "stdout",
     "output_type": "stream",
     "text": [
      "Regular Results:  Test on Regular RNN, Domain Election, Epoch 12, F1-micro-average 0.6269725169130546, Valid Score 0.6435945476340015\n",
      "\n",
      "Epoch: 13, Step: 300\n",
      "\tRegular Loss: 0.16607148598792942.\n",
      "\tAdapt Loss: 0.023457502200580713.\n",
      "-------------------------------------------------\n"
     ]
    },
    {
     "name": "stderr",
     "output_type": "stream",
     "text": [
      "\n",
      " 93%|█████████▎| 14/15 [03:36<00:14, 14.84s/it]\u001b[A"
     ]
    },
    {
     "name": "stdout",
     "output_type": "stream",
     "text": [
      "Epoch: 14, Step: 300\n",
      "\tRegular Loss: 0.16286905080179043.\n",
      "\tAdapt Loss: 0.013102598262461912.\n",
      "-------------------------------------------------\n"
     ]
    },
    {
     "name": "stderr",
     "output_type": "stream",
     "text": [
      "\n",
      "100%|██████████| 15/15 [03:51<00:00, 15.45s/it]\u001b[A\n",
      " 71%|███████▏  | 5/7 [13:38<05:51, 175.75s/it]\n",
      "  0%|          | 0/15 [00:00<?, ?it/s]\u001b[A"
     ]
    },
    {
     "name": "stdout",
     "output_type": "stream",
     "text": [
      "Start to train...\n",
      "{'result_path': '../resource/results/adapt_rnn.txt', 'model_dir': '../resource/model/adapt_rnn/', 'dname': 'all', 'dpath': '../data/dataset.tsv', 'max_feature': 15000, 'over_sample': True, 'domain_name': 'corpus', 'epochs': 15, 'batch_size': 64, 'lr': 9e-05, 'max_len': 100, 'dp_rate': 0.2, 'optimizer': 'rmsprop', 'emb_path': '/data/models/glove.twitter.27B.200d.txt', 'emb_dim': 200, 'unique_domains': ['ALM', 'Baltimore', 'BLM', 'Davidson', 'Election', 'MeToo', 'Sandy'], 'bidirectional': False, 'device': device(type='cuda'), 'num_label': 11, 'tok_dir': '../resource/model/adapt_rnn', 'word_emb_path': '../resource/model/adapt_rnn/all.npy'}\n",
      "Epoch: 0, Step: 300\n",
      "\tRegular Loss: 0.2999456137220725.\n",
      "\tAdapt Loss: 0.054031528223095544.\n",
      "-------------------------------------------------\n",
      "Regular Results:  Test on Regular RNN, Domain MeToo, Epoch 0, F1-micro-average 0.22044881585663356, Valid Score 0.22353970483273086\n",
      "\n"
     ]
    },
    {
     "name": "stderr",
     "output_type": "stream",
     "text": [
      "\n",
      "  7%|▋         | 1/15 [00:16<03:49, 16.37s/it]\u001b[A"
     ]
    },
    {
     "name": "stdout",
     "output_type": "stream",
     "text": [
      "Adapt Results:  Test on Adapt RNN, Domain MeToo, Epoch 0, F1-micro-average 0.0565343562165855, Valid Score 0.05986268058932914\n",
      "\n",
      "Epoch: 1, Step: 300\n",
      "\tRegular Loss: 0.2549579178178033.\n",
      "\tAdapt Loss: 0.05143033265696213.\n",
      "-------------------------------------------------\n",
      "Regular Results:  Test on Regular RNN, Domain MeToo, Epoch 1, F1-micro-average 0.2889282639846985, Valid Score 0.3165536959105657\n",
      "\n"
     ]
    },
    {
     "name": "stderr",
     "output_type": "stream",
     "text": [
      "\n",
      " 13%|█▎        | 2/15 [00:28<03:17, 15.18s/it]\u001b[A"
     ]
    },
    {
     "name": "stdout",
     "output_type": "stream",
     "text": [
      "Adapt Results:  Test on Adapt RNN, Domain MeToo, Epoch 1, F1-micro-average 0.2944244904190287, Valid Score 0.3156604179820837\n",
      "\n",
      "Epoch: 2, Step: 300\n",
      "\tRegular Loss: 0.23104385170231626.\n",
      "\tAdapt Loss: 0.06985446407252371.\n",
      "-------------------------------------------------\n"
     ]
    },
    {
     "name": "stderr",
     "output_type": "stream",
     "text": [
      "\n",
      " 20%|██        | 3/15 [00:42<02:58, 14.84s/it]\u001b[A"
     ]
    },
    {
     "name": "stdout",
     "output_type": "stream",
     "text": [
      "Regular Results:  Test on Regular RNN, Domain MeToo, Epoch 2, F1-micro-average 0.33232757229723814, Valid Score 0.3562554420540701\n",
      "\n",
      "Epoch: 3, Step: 300\n",
      "\tRegular Loss: 0.20665789942606738.\n",
      "\tAdapt Loss: 0.03356442282415704.\n",
      "-------------------------------------------------\n"
     ]
    },
    {
     "name": "stderr",
     "output_type": "stream",
     "text": [
      "\n",
      " 27%|██▋       | 4/15 [00:58<02:46, 15.14s/it]\u001b[A"
     ]
    },
    {
     "name": "stdout",
     "output_type": "stream",
     "text": [
      "Regular Results:  Test on Regular RNN, Domain MeToo, Epoch 3, F1-micro-average 0.391134400240678, Valid Score 0.40433475562451515\n",
      "\n",
      "Epoch: 4, Step: 300\n",
      "\tRegular Loss: 0.1938234546849894.\n",
      "\tAdapt Loss: 0.034048780569949026.\n",
      "-------------------------------------------------\n",
      "Regular Results:  Test on Regular RNN, Domain MeToo, Epoch 4, F1-micro-average 0.422213639729045, Valid Score 0.42719722876049204\n",
      "\n"
     ]
    },
    {
     "name": "stderr",
     "output_type": "stream",
     "text": [
      "\n",
      " 33%|███▎      | 5/15 [01:14<02:34, 15.48s/it]\u001b[A"
     ]
    },
    {
     "name": "stdout",
     "output_type": "stream",
     "text": [
      "Adapt Results:  Test on Adapt RNN, Domain MeToo, Epoch 4, F1-micro-average 0.37685568810971876, Valid Score 0.3623933968950774\n",
      "\n",
      "Epoch: 5, Step: 300\n",
      "\tRegular Loss: 0.18404899874200853.\n",
      "\tAdapt Loss: 0.021198140466554813.\n",
      "-------------------------------------------------\n",
      "Regular Results:  Test on Regular RNN, Domain MeToo, Epoch 5, F1-micro-average 0.43814621966708006, Valid Score 0.4438728287276571\n",
      "\n"
     ]
    },
    {
     "name": "stderr",
     "output_type": "stream",
     "text": [
      "\n",
      " 40%|████      | 6/15 [01:27<02:11, 14.60s/it]\u001b[A"
     ]
    },
    {
     "name": "stdout",
     "output_type": "stream",
     "text": [
      "Adapt Results:  Test on Adapt RNN, Domain MeToo, Epoch 5, F1-micro-average 0.40753475930386346, Valid Score 0.39516627373719154\n",
      "\n",
      "Epoch: 6, Step: 300\n",
      "\tRegular Loss: 0.1775742214284466.\n",
      "\tAdapt Loss: 0.021685084535359743.\n",
      "-------------------------------------------------\n"
     ]
    },
    {
     "name": "stderr",
     "output_type": "stream",
     "text": [
      "\n",
      " 47%|████▋     | 7/15 [01:42<01:57, 14.64s/it]\u001b[A"
     ]
    },
    {
     "name": "stdout",
     "output_type": "stream",
     "text": [
      "Adapt Results:  Test on Adapt RNN, Domain MeToo, Epoch 6, F1-micro-average 0.43077728013199007, Valid Score 0.41667901117523676\n",
      "\n",
      "Epoch: 7, Step: 300\n",
      "\tRegular Loss: 0.1700151634721265.\n",
      "\tAdapt Loss: 0.026941892041196656.\n",
      "-------------------------------------------------\n",
      "Regular Results:  Test on Regular RNN, Domain MeToo, Epoch 7, F1-micro-average 0.46457355089488755, Valid Score 0.47057909495204475\n",
      "\n"
     ]
    },
    {
     "name": "stderr",
     "output_type": "stream",
     "text": [
      "\n",
      " 53%|█████▎    | 8/15 [01:58<01:45, 15.10s/it]\u001b[A"
     ]
    },
    {
     "name": "stdout",
     "output_type": "stream",
     "text": [
      "Adapt Results:  Test on Adapt RNN, Domain MeToo, Epoch 7, F1-micro-average 0.4827532349275521, Valid Score 0.4630243190881085\n",
      "\n",
      "Epoch: 8, Step: 300\n",
      "\tRegular Loss: 0.16506313965764158.\n",
      "\tAdapt Loss: 0.04586024209856987.\n",
      "-------------------------------------------------\n",
      "Regular Results:  Test on Regular RNN, Domain MeToo, Epoch 8, F1-micro-average 0.47812804080223736, Valid Score 0.47410321722721926\n",
      "\n"
     ]
    },
    {
     "name": "stderr",
     "output_type": "stream",
     "text": [
      "\n",
      " 60%|██████    | 9/15 [02:14<01:32, 15.43s/it]\u001b[A"
     ]
    },
    {
     "name": "stdout",
     "output_type": "stream",
     "text": [
      "Adapt Results:  Test on Adapt RNN, Domain MeToo, Epoch 8, F1-micro-average 0.4966446170318197, Valid Score 0.47537279895117945\n",
      "\n",
      "Epoch: 9, Step: 300\n",
      "\tRegular Loss: 0.16228267716311934.\n",
      "\tAdapt Loss: 0.03241239273394659.\n",
      "-------------------------------------------------\n",
      "Regular Results:  Test on Regular RNN, Domain MeToo, Epoch 9, F1-micro-average 0.48402113038781835, Valid Score 0.4865186796398076\n",
      "\n"
     ]
    },
    {
     "name": "stderr",
     "output_type": "stream",
     "text": [
      "\n",
      " 67%|██████▋   | 10/15 [02:25<01:10, 14.12s/it]\u001b[A"
     ]
    },
    {
     "name": "stdout",
     "output_type": "stream",
     "text": [
      "Adapt Results:  Test on Adapt RNN, Domain MeToo, Epoch 9, F1-micro-average 0.5246744209003711, Valid Score 0.49760880408626734\n",
      "\n",
      "Epoch: 10, Step: 300\n",
      "\tRegular Loss: 0.1584407729266886.\n",
      "\tAdapt Loss: 0.018467331855895115.\n",
      "-------------------------------------------------\n",
      "Regular Results:  Test on Regular RNN, Domain MeToo, Epoch 10, F1-micro-average 0.49213544015306876, Valid Score 0.4955684840606186\n",
      "\n"
     ]
    },
    {
     "name": "stderr",
     "output_type": "stream",
     "text": [
      "\n",
      " 73%|███████▎  | 11/15 [02:41<00:58, 14.73s/it]\u001b[A"
     ]
    },
    {
     "name": "stdout",
     "output_type": "stream",
     "text": [
      "Adapt Results:  Test on Adapt RNN, Domain MeToo, Epoch 10, F1-micro-average 0.5326781170452949, Valid Score 0.49826110858175016\n",
      "\n",
      "Epoch: 11, Step: 300\n",
      "\tRegular Loss: 0.15588721061168714.\n",
      "\tAdapt Loss: 0.02418395427312467.\n",
      "-------------------------------------------------\n",
      "Regular Results:  Test on Regular RNN, Domain MeToo, Epoch 11, F1-micro-average 0.49957198056402874, Valid Score 0.503898827410713\n",
      "\n"
     ]
    },
    {
     "name": "stderr",
     "output_type": "stream",
     "text": [
      "\n",
      " 80%|████████  | 12/15 [02:57<00:45, 15.17s/it]\u001b[A"
     ]
    },
    {
     "name": "stdout",
     "output_type": "stream",
     "text": [
      "Adapt Results:  Test on Adapt RNN, Domain MeToo, Epoch 11, F1-micro-average 0.545900923434396, Valid Score 0.5158497913503386\n",
      "\n",
      "Epoch: 12, Step: 300\n",
      "\tRegular Loss: 0.15325690904923056.\n",
      "\tAdapt Loss: 0.02198555041104555.\n",
      "-------------------------------------------------\n",
      "Regular Results:  Test on Regular RNN, Domain MeToo, Epoch 12, F1-micro-average 0.507523300272171, Valid Score 0.5177790167197214\n",
      "\n"
     ]
    },
    {
     "name": "stderr",
     "output_type": "stream",
     "text": [
      "\n",
      " 87%|████████▋ | 13/15 [03:14<00:30, 15.46s/it]\u001b[A"
     ]
    },
    {
     "name": "stdout",
     "output_type": "stream",
     "text": [
      "Adapt Results:  Test on Adapt RNN, Domain MeToo, Epoch 12, F1-micro-average 0.5572637568079696, Valid Score 0.5599317609417275\n",
      "\n",
      "Epoch: 13, Step: 300\n",
      "\tRegular Loss: 0.15056677865625617.\n",
      "\tAdapt Loss: 0.01842895576550913.\n",
      "-------------------------------------------------\n"
     ]
    },
    {
     "name": "stderr",
     "output_type": "stream",
     "text": [
      "\n",
      " 93%|█████████▎| 14/15 [03:24<00:14, 14.01s/it]\u001b[A"
     ]
    },
    {
     "name": "stdout",
     "output_type": "stream",
     "text": [
      "Epoch: 14, Step: 300\n",
      "\tRegular Loss: 0.14683307600872858.\n",
      "\tAdapt Loss: 0.03681230764105867.\n",
      "-------------------------------------------------\n"
     ]
    },
    {
     "name": "stderr",
     "output_type": "stream",
     "text": [
      "\n",
      "100%|██████████| 15/15 [03:35<00:00, 14.35s/it]\u001b[A\n",
      " 86%|████████▌ | 6/7 [17:13<03:07, 187.67s/it]\n",
      "  0%|          | 0/15 [00:00<?, ?it/s]\u001b[A"
     ]
    },
    {
     "name": "stdout",
     "output_type": "stream",
     "text": [
      "Regular Results:  Test on Regular RNN, Domain MeToo, Epoch 14, F1-micro-average 0.5209471387812411, Valid Score 0.5308450471019861\n",
      "\n",
      "Start to train...\n",
      "{'result_path': '../resource/results/adapt_rnn.txt', 'model_dir': '../resource/model/adapt_rnn/', 'dname': 'all', 'dpath': '../data/dataset.tsv', 'max_feature': 15000, 'over_sample': True, 'domain_name': 'corpus', 'epochs': 15, 'batch_size': 64, 'lr': 9e-05, 'max_len': 100, 'dp_rate': 0.2, 'optimizer': 'rmsprop', 'emb_path': '/data/models/glove.twitter.27B.200d.txt', 'emb_dim': 200, 'unique_domains': ['ALM', 'Baltimore', 'BLM', 'Davidson', 'Election', 'MeToo', 'Sandy'], 'bidirectional': False, 'device': device(type='cuda'), 'num_label': 11, 'tok_dir': '../resource/model/adapt_rnn', 'word_emb_path': '../resource/model/adapt_rnn/all.npy'}\n",
      "Epoch: 0, Step: 300\n",
      "\tRegular Loss: 0.308099779278733.\n",
      "\tAdapt Loss: 0.019072310705096816.\n",
      "-------------------------------------------------\n"
     ]
    },
    {
     "name": "stderr",
     "output_type": "stream",
     "text": [
      "\n",
      "  7%|▋         | 1/15 [00:08<01:52,  8.00s/it]\u001b[A"
     ]
    },
    {
     "name": "stdout",
     "output_type": "stream",
     "text": [
      "Regular Results:  Test on Regular RNN, Domain Sandy, Epoch 0, F1-micro-average 0.14202164344543017, Valid Score 0.1461538461538462\n",
      "\n",
      "Epoch: 1, Step: 300\n",
      "\tRegular Loss: 0.25992894118212384.\n",
      "\tAdapt Loss: 0.015237865213032479.\n",
      "-------------------------------------------------\n"
     ]
    },
    {
     "name": "stderr",
     "output_type": "stream",
     "text": [
      "\n",
      " 13%|█▎        | 2/15 [00:15<01:43,  7.99s/it]\u001b[A"
     ]
    },
    {
     "name": "stdout",
     "output_type": "stream",
     "text": [
      "Adapt Results:  Test on Adapt RNN, Domain Sandy, Epoch 1, F1-micro-average 0.005504587155963302, Valid Score 0.0025940337224383916\n",
      "\n",
      "Epoch: 2, Step: 300\n",
      "\tRegular Loss: 0.2314057911551276.\n",
      "\tAdapt Loss: 0.010488198535591116.\n",
      "-------------------------------------------------\n"
     ]
    },
    {
     "name": "stderr",
     "output_type": "stream",
     "text": [
      "\n",
      " 20%|██        | 3/15 [00:24<01:36,  8.06s/it]\u001b[A"
     ]
    },
    {
     "name": "stdout",
     "output_type": "stream",
     "text": [
      "Regular Results:  Test on Regular RNN, Domain Sandy, Epoch 2, F1-micro-average 0.20018462976976747, Valid Score 0.18861055375131872\n",
      "\n",
      "Adapt Results:  Test on Adapt RNN, Domain Sandy, Epoch 2, F1-micro-average 0.08216769369683337, Valid Score 0.050314465408805034\n",
      "\n",
      "Epoch: 3, Step: 300\n",
      "\tRegular Loss: 0.21639098816139754.\n",
      "\tAdapt Loss: 0.010334675206471718.\n",
      "-------------------------------------------------\n"
     ]
    },
    {
     "name": "stderr",
     "output_type": "stream",
     "text": [
      "\n",
      " 27%|██▋       | 4/15 [00:32<01:29,  8.13s/it]\u001b[A"
     ]
    },
    {
     "name": "stdout",
     "output_type": "stream",
     "text": [
      "Regular Results:  Test on Regular RNN, Domain Sandy, Epoch 3, F1-micro-average 0.2755024957565592, Valid Score 0.24873491630984815\n",
      "\n",
      "Adapt Results:  Test on Adapt RNN, Domain Sandy, Epoch 3, F1-micro-average 0.24034720272706503, Valid Score 0.23517370100547888\n",
      "\n",
      "Epoch: 4, Step: 300\n",
      "\tRegular Loss: 0.20539207806024837.\n",
      "\tAdapt Loss: 0.008102242248535058.\n",
      "-------------------------------------------------\n"
     ]
    },
    {
     "name": "stderr",
     "output_type": "stream",
     "text": [
      "\n",
      " 33%|███▎      | 5/15 [00:41<01:22,  8.25s/it]\u001b[A"
     ]
    },
    {
     "name": "stdout",
     "output_type": "stream",
     "text": [
      "Regular Results:  Test on Regular RNN, Domain Sandy, Epoch 4, F1-micro-average 0.3512001751551496, Valid Score 0.3367729663331385\n",
      "\n",
      "Adapt Results:  Test on Adapt RNN, Domain Sandy, Epoch 4, F1-micro-average 0.32552405569996967, Valid Score 0.3274861846781775\n",
      "\n",
      "Epoch: 5, Step: 300\n",
      "\tRegular Loss: 0.1952748325873055.\n",
      "\tAdapt Loss: 0.013319199285980476.\n",
      "-------------------------------------------------\n"
     ]
    },
    {
     "name": "stderr",
     "output_type": "stream",
     "text": [
      "\n",
      " 40%|████      | 6/15 [00:48<01:13,  8.17s/it]\u001b[A"
     ]
    },
    {
     "name": "stdout",
     "output_type": "stream",
     "text": [
      "Regular Results:  Test on Regular RNN, Domain Sandy, Epoch 5, F1-micro-average 0.40450274303823114, Valid Score 0.4045237691618434\n",
      "\n",
      "Adapt Results:  Test on Adapt RNN, Domain Sandy, Epoch 5, F1-micro-average 0.33204833161881936, Valid Score 0.3301823991479163\n",
      "\n",
      "Epoch: 6, Step: 300\n",
      "\tRegular Loss: 0.18734085158850267.\n",
      "\tAdapt Loss: 0.011736221131915072.\n",
      "-------------------------------------------------\n"
     ]
    },
    {
     "name": "stderr",
     "output_type": "stream",
     "text": [
      "\n",
      " 47%|████▋     | 7/15 [00:56<01:04,  8.10s/it]\u001b[A"
     ]
    },
    {
     "name": "stdout",
     "output_type": "stream",
     "text": [
      "Regular Results:  Test on Regular RNN, Domain Sandy, Epoch 6, F1-micro-average 0.42703536147236465, Valid Score 0.4252405441274055\n",
      "\n",
      "Epoch: 7, Step: 300\n",
      "\tRegular Loss: 0.1806068291200752.\n",
      "\tAdapt Loss: 0.007996016909117715.\n",
      "-------------------------------------------------\n"
     ]
    },
    {
     "name": "stderr",
     "output_type": "stream",
     "text": [
      "\n",
      " 53%|█████▎    | 8/15 [01:05<00:57,  8.18s/it]\u001b[A"
     ]
    },
    {
     "name": "stdout",
     "output_type": "stream",
     "text": [
      "Regular Results:  Test on Regular RNN, Domain Sandy, Epoch 7, F1-micro-average 0.46622182334161216, Valid Score 0.4499863668587425\n",
      "\n",
      "Adapt Results:  Test on Adapt RNN, Domain Sandy, Epoch 7, F1-micro-average 0.4066532798733705, Valid Score 0.40405063291139237\n",
      "\n",
      "Epoch: 8, Step: 300\n",
      "\tRegular Loss: 0.17487898533328428.\n",
      "\tAdapt Loss: 0.010287065410126384.\n",
      "-------------------------------------------------\n"
     ]
    },
    {
     "name": "stderr",
     "output_type": "stream",
     "text": [
      "\n",
      " 60%|██████    | 9/15 [01:13<00:48,  8.15s/it]\u001b[A"
     ]
    },
    {
     "name": "stdout",
     "output_type": "stream",
     "text": [
      "Regular Results:  Test on Regular RNN, Domain Sandy, Epoch 8, F1-micro-average 0.4811810985590039, Valid Score 0.4681760021994988\n",
      "\n",
      "Adapt Results:  Test on Adapt RNN, Domain Sandy, Epoch 8, F1-micro-average 0.4197375251851514, Valid Score 0.41439682255032845\n",
      "\n",
      "Epoch: 9, Step: 300\n",
      "\tRegular Loss: 0.17037723295118326.\n",
      "\tAdapt Loss: 0.0065323269312607245.\n",
      "-------------------------------------------------\n"
     ]
    },
    {
     "name": "stderr",
     "output_type": "stream",
     "text": [
      "\n",
      " 67%|██████▋   | 10/15 [01:24<00:44,  8.99s/it]\u001b[A"
     ]
    },
    {
     "name": "stdout",
     "output_type": "stream",
     "text": [
      "Adapt Results:  Test on Adapt RNN, Domain Sandy, Epoch 9, F1-micro-average 0.48422106424456546, Valid Score 0.456282612361991\n",
      "\n",
      "Epoch: 10, Step: 300\n",
      "\tRegular Loss: 0.16764350864182279.\n",
      "\tAdapt Loss: 0.0052111813457422825.\n",
      "-------------------------------------------------\n",
      "Regular Results:  Test on Regular RNN, Domain Sandy, Epoch 10, F1-micro-average 0.4831873289987282, Valid Score 0.4812599700712659\n",
      "\n"
     ]
    },
    {
     "name": "stderr",
     "output_type": "stream",
     "text": [
      "\n",
      " 73%|███████▎  | 11/15 [01:42<00:47, 11.76s/it]\u001b[A"
     ]
    },
    {
     "name": "stdout",
     "output_type": "stream",
     "text": [
      "Adapt Results:  Test on Adapt RNN, Domain Sandy, Epoch 10, F1-micro-average 0.4774354308553811, Valid Score 0.4640554856548147\n",
      "\n",
      "Epoch: 11, Step: 300\n",
      "\tRegular Loss: 0.16409548310148359.\n",
      "\tAdapt Loss: 0.005561075641687007.\n",
      "-------------------------------------------------\n",
      "Regular Results:  Test on Regular RNN, Domain Sandy, Epoch 11, F1-micro-average 0.5027013526269923, Valid Score 0.49768908585795923\n",
      "\n"
     ]
    },
    {
     "name": "stderr",
     "output_type": "stream",
     "text": [
      "\n",
      " 80%|████████  | 12/15 [02:00<00:41, 13.74s/it]\u001b[A"
     ]
    },
    {
     "name": "stdout",
     "output_type": "stream",
     "text": [
      "Adapt Results:  Test on Adapt RNN, Domain Sandy, Epoch 11, F1-micro-average 0.48329783948760524, Valid Score 0.4763251799027203\n",
      "\n",
      "Epoch: 12, Step: 300\n",
      "\tRegular Loss: 0.16260949512355746.\n",
      "\tAdapt Loss: 0.005001569823887929.\n",
      "-------------------------------------------------\n"
     ]
    },
    {
     "name": "stderr",
     "output_type": "stream",
     "text": [
      "\n",
      " 87%|████████▋ | 13/15 [02:13<00:26, 13.39s/it]\u001b[A"
     ]
    },
    {
     "name": "stdout",
     "output_type": "stream",
     "text": [
      "Adapt Results:  Test on Adapt RNN, Domain Sandy, Epoch 12, F1-micro-average 0.5091300999892932, Valid Score 0.4843239227340267\n",
      "\n",
      "Epoch: 13, Step: 300\n",
      "\tRegular Loss: 0.15918116622985004.\n",
      "\tAdapt Loss: 0.004545255858092213.\n",
      "-------------------------------------------------\n"
     ]
    },
    {
     "name": "stderr",
     "output_type": "stream",
     "text": [
      "\n",
      " 93%|█████████▎| 14/15 [02:31<00:14, 14.73s/it]\u001b[A"
     ]
    },
    {
     "name": "stdout",
     "output_type": "stream",
     "text": [
      "Regular Results:  Test on Regular RNN, Domain Sandy, Epoch 13, F1-micro-average 0.5185898282827166, Valid Score 0.5138481077920363\n",
      "\n",
      "Epoch: 14, Step: 300\n",
      "\tRegular Loss: 0.1579022121884894.\n",
      "\tAdapt Loss: 0.00583615343657282.\n",
      "-------------------------------------------------\n"
     ]
    },
    {
     "name": "stderr",
     "output_type": "stream",
     "text": [
      "\n",
      "100%|██████████| 15/15 [02:48<00:00, 11.24s/it]\u001b[A\n",
      "100%|██████████| 7/7 [20:02<00:00, 171.74s/it]\n"
     ]
    }
   ],
   "source": [
    "# print('Run over domains...')\n",
    "# for didx, domain in enumerate(tqdm(params['unique_domains'])):\n",
    "#     wfile.write('Working on Domain {}, Domain index {} \\n'.format(domain, didx))\n",
    "#     in_domain_indices = [item for item in range(len(all_corpus['corpus'])) if all_corpus['corpus'][item] == didx]\n",
    "#     out_domain_indices = [item for item in range(len(all_corpus['corpus'])) if all_corpus['corpus'][item] != didx]\n",
    "\n",
    "#     train_corpus = {\n",
    "#         'docs': [all_corpus['docs'][item] for item in out_domain_indices],\n",
    "#         'labels': [all_corpus['labels'][item] for item in out_domain_indices],\n",
    "#         'corpus': [all_corpus['corpus'][item] for item in out_domain_indices],\n",
    "#     }\n",
    "#     domain_corpus = {\n",
    "#         'docs': [item for item in train_corpus['docs']],\n",
    "#         'labels': [item for item in train_corpus['labels']],\n",
    "#         'corpus': [0] * len(train_corpus['docs']),  # first collect documents from out of domain\n",
    "#     }\n",
    "#     in_domain_corpus = {\n",
    "#         'docs': [all_corpus['docs'][item] for item in in_domain_indices],\n",
    "#         'labels': [all_corpus['labels'][item] for item in in_domain_indices],\n",
    "#         'corpus': [all_corpus['corpus'][item] for item in in_domain_indices],\n",
    "#     }\n",
    "# #     print(len(domain_corpus['docs']))\n",
    "# #     print(len(domain_corpus['corpus']))\n",
    "# #     print()\n",
    "#     domain_corpus['docs'].extend(in_domain_corpus['docs'])\n",
    "#     domain_corpus['labels'].extend(in_domain_corpus['labels'])\n",
    "#     domain_corpus['corpus'].extend([1] * len(in_domain_corpus['docs']))\n",
    "\n",
    "#     # 10% for training, 10% for valid, the rest for testing\n",
    "#     test_indices, val_indices, train_indices = data_split(in_domain_corpus)\n",
    "#     in_domain_train = {\n",
    "#         'docs': [in_domain_corpus['docs'][item] for item in train_indices],\n",
    "#         'labels': [in_domain_corpus['labels'][item] for item in train_indices],\n",
    "#         'corpus': [in_domain_corpus['corpus'][item] for item in train_indices]\n",
    "#     }\n",
    "#     train_corpus['docs'].extend(in_domain_train['docs'])\n",
    "#     train_corpus['labels'].extend(in_domain_train['labels'])\n",
    "#     train_corpus['corpus'].extend(in_domain_train['corpus'])\n",
    "\n",
    "#     valid_corpus = {\n",
    "#         'docs': [in_domain_corpus['docs'][item] for item in val_indices],\n",
    "#         'labels': [in_domain_corpus['labels'][item] for item in val_indices],\n",
    "#         'corpus': [in_domain_corpus['corpus'][item] for item in val_indices]\n",
    "#     }\n",
    "#     test_corpus = {\n",
    "#         'docs': [in_domain_corpus['docs'][item] for item in test_indices],\n",
    "#         'labels': [in_domain_corpus['labels'][item] for item in test_indices],\n",
    "#         'corpus': [in_domain_corpus['corpus'][item] for item in test_indices]\n",
    "#     }\n",
    "\n",
    "#     # start to iteratively train and test the proposed approach.\n",
    "#     train_data = TorchDataset(train_corpus, params['domain_name'])\n",
    "#     valid_data = TorchDataset(valid_corpus, params['domain_name'])\n",
    "#     test_data = TorchDataset(test_corpus, params['domain_name'])\n",
    "#     in_domain_train_data = TorchDataset(in_domain_train, params['domain_name'])\n",
    "#     domain_data = TorchDataset(domain_corpus, params['domain_name'])\n",
    "\n",
    "#     train_data_loader = DataLoader(\n",
    "#         train_data, batch_size=params['batch_size'], shuffle=True,\n",
    "#         collate_fn=DataEncoder(params, mtype='rnn')\n",
    "#     )\n",
    "#     valid_data_loader = DataLoader(\n",
    "#         valid_data, batch_size=params['batch_size'], shuffle=True,\n",
    "#         collate_fn=DataEncoder(params, mtype='rnn')\n",
    "#     )\n",
    "#     test_data_loader = DataLoader(\n",
    "#         test_data, batch_size=params['batch_size'], shuffle=True,\n",
    "#         collate_fn=DataEncoder(params, mtype='rnn')\n",
    "#     )\n",
    "#     in_domain_train_data_loader = DataLoader(\n",
    "#         in_domain_train_data, batch_size=params['batch_size'], shuffle=True,\n",
    "#         collate_fn=DataEncoder(params, mtype='rnn')\n",
    "#     )\n",
    "#     domain_data_loader = DataLoader(\n",
    "#         domain_data, batch_size=params['batch_size'], shuffle=True,\n",
    "#         collate_fn=DataEncoder(params, mtype='rnn')\n",
    "#     )\n",
    "\n",
    "#     regular_model = RegularRNN(params)\n",
    "#     regular_model = regular_model.to(device)\n",
    "#     criterion = nn.BCEWithLogitsLoss().to(device)\n",
    "#     domain_criterion = nn.CrossEntropyLoss().to(device)\n",
    "#     regular_optim = torch.optim.RMSprop(regular_model.parameters(), lr=params['lr'])\n",
    "\n",
    "#     adapt_model = AdaptRNN(params)\n",
    "#     adapt_model = adapt_model.to(device)\n",
    "#     criterion_adapt = nn.BCEWithLogitsLoss(reduction='none').to(device)\n",
    "#     pred_params = [param for name, param in adapt_model.named_parameters() if 'domain' not in name]\n",
    "#     adapt_pred_optim = torch.optim.RMSprop(pred_params, lr=params['lr'])\n",
    "#     domain_params = [param for name, param in adapt_model.named_parameters() if 'domain' in name]\n",
    "#     adapt_domain_optim = torch.optim.RMSprop(domain_params, lr=params['lr'])\n",
    "\n",
    "#     # train the networks\n",
    "#     print('Start to train...')\n",
    "#     print(params)\n",
    "#     best_valid_regular = 0.\n",
    "#     best_valid_adapt = 0.\n",
    "\n",
    "#     for epoch in tqdm(range(params['epochs'])):\n",
    "#         train_loss_regular = 0.\n",
    "#         train_loss_adapt = 0.\n",
    "#         adapt_model.train()\n",
    "#         regular_model.train()\n",
    "\n",
    "#         # train discriminator first\n",
    "#         for step, train_batch in enumerate(domain_data_loader):\n",
    "#             train_batch = tuple(t.to(device) for t in train_batch)\n",
    "#             input_docs, input_labels, input_domains = train_batch\n",
    "#             adapt_domain_optim.zero_grad()\n",
    "#             domain_preds = adapt_model.discriminator(**{\n",
    "#                 'input_docs': input_docs\n",
    "#             })\n",
    "#             domain_loss = domain_criterion(domain_preds, input_domains)\n",
    "#             domain_loss.backward()\n",
    "#             adapt_domain_optim.step()\n",
    "\n",
    "#         # train predictor\n",
    "#         for step, train_batch in enumerate(train_data_loader):\n",
    "#             train_batch = tuple(t.to(device) for t in train_batch)\n",
    "#             input_docs, input_labels, input_domains = train_batch\n",
    "#             regular_optim.zero_grad()\n",
    "#             adapt_pred_optim.zero_grad()\n",
    "#             # adapt_domain_optim.zero_grad()\n",
    "\n",
    "#             # regular models\n",
    "#             regular_preds = regular_model(**{\n",
    "#                 'input_docs': input_docs\n",
    "#             })\n",
    "#             loss = criterion(regular_preds, input_labels)\n",
    "#             train_loss_regular += loss.item()\n",
    "#             loss_avg_regular = train_loss_regular / (step + 1)\n",
    "\n",
    "#             # adapt models\n",
    "#             adapt_preds = adapt_model(**{\n",
    "#                 'input_docs': input_docs\n",
    "#             })\n",
    "#             loss_adapt = criterion_adapt(adapt_preds, input_labels)\n",
    "#             domain_preds = torch.sigmoid(adapt_model.discriminator(**{'input_docs': input_docs}))\n",
    "#             loss_adapt = loss_adapt.mean(axis=1)\n",
    "#             loss_adapt = domain_preds[:, 1] * loss_adapt\n",
    "#             loss_adapt = loss_adapt.mean()\n",
    "#             train_loss_adapt += loss_adapt.item()\n",
    "#             loss_avg_adapt = train_loss_adapt / (step + 1)\n",
    "\n",
    "#             if (step + 1) % 301 == 0:\n",
    "#                 print('Epoch: {}, Step: {}'.format(epoch, step))\n",
    "#                 print('\\tRegular Loss: {}.'.format(loss_avg_regular))\n",
    "#                 print('\\tAdapt Loss: {}.'.format(loss_avg_adapt))\n",
    "#                 print('-------------------------------------------------')\n",
    "\n",
    "#             loss_adapt.backward()\n",
    "#             loss.backward()\n",
    "#             # torch.nn.utils.clip_grad_norm_(rnn_model.parameters(), 0.5)\n",
    "#             regular_optim.step()\n",
    "#             adapt_pred_optim.step()\n",
    "\n",
    "#         # fit on in domain corpus.\n",
    "#         for _ in range(3):\n",
    "#             for step, train_batch in enumerate(in_domain_train_data_loader):\n",
    "#                 train_batch = tuple(t.to(device) for t in train_batch)\n",
    "#                 input_docs, input_labels, input_domains = train_batch\n",
    "#                 adapt_pred_optim.zero_grad()\n",
    "#                 adapt_preds = adapt_model(**{\n",
    "#                     'input_docs': input_docs\n",
    "#                 })\n",
    "#                 loss_adapt = criterion_adapt(adapt_preds, input_labels)\n",
    "#                 loss_adapt = loss_adapt.mean()\n",
    "#                 loss_adapt.backward()\n",
    "#                 adapt_pred_optim.step()\n",
    "\n",
    "#         # evaluate on valid data\n",
    "#         regular_model.eval()\n",
    "#         adapt_model.eval()\n",
    "#         y_preds_regular = []\n",
    "#         y_preds_adapt = []\n",
    "#         y_trues = []\n",
    "#         for valid_batch in valid_data_loader:\n",
    "#             valid_batch = tuple(t.to(device) for t in valid_batch)\n",
    "#             input_docs, input_labels, input_domains = valid_batch\n",
    "#             with torch.no_grad():\n",
    "#                 preds_regular = regular_model(**{'input_docs': input_docs})\n",
    "#                 preds_adapt = adapt_model(**{'input_docs': input_docs})\n",
    "\n",
    "#             logits_regular = (torch.sigmoid(preds_regular) > .5).long().cpu().numpy()\n",
    "#             logits_adapt = (torch.sigmoid(preds_adapt) > .5).long().cpu().numpy()\n",
    "#             y_preds_regular.extend(logits_regular)\n",
    "#             y_preds_adapt.extend(logits_adapt)\n",
    "#             y_trues.extend(input_labels.to('cpu').numpy())\n",
    "\n",
    "#         eval_score_regular = micro_f1_average(y_preds=y_preds_regular, y_truths=y_trues)\n",
    "#         eval_score_adapt = micro_f1_average(y_preds=y_preds_adapt, y_truths=y_trues)\n",
    "\n",
    "#         # test for regular model\n",
    "#         if eval_score_regular > best_valid_regular:\n",
    "#             best_valid_regular = eval_score_regular\n",
    "#             torch.save(regular_model, params['model_dir'] + 'regular_model_moral.pth')\n",
    "\n",
    "#             # test\n",
    "#             y_preds = []\n",
    "#             y_trues = []\n",
    "#             # evaluate on the test set\n",
    "#             for test_batch in test_data_loader:\n",
    "#                 test_batch = tuple(t.to(device) for t in test_batch)\n",
    "#                 input_docs, input_labels, input_domains = test_batch\n",
    "\n",
    "#                 with torch.no_grad():\n",
    "#                     preds_regular = regular_model(**{\n",
    "#                         'input_docs': input_docs,\n",
    "#                     })\n",
    "#                 logits_regular = (torch.sigmoid(preds_regular) > .5).long().cpu().numpy()\n",
    "#                 y_preds.extend(logits_regular)\n",
    "#                 y_trues.extend(input_labels.to('cpu').numpy())\n",
    "\n",
    "#             test_score_regular = micro_f1_average(y_preds=y_preds, y_truths=y_trues)\n",
    "#             regular_results = 'Test on Regular RNN, Domain {}, Epoch {}, F1-micro-average {}, Valid Score {}\\n'.format(\n",
    "#                     domain, epoch, test_score_regular, best_valid_regular)\n",
    "#             print('Regular Results: ', regular_results)\n",
    "#             wfile.write(regular_results)\n",
    "\n",
    "#         if eval_score_adapt > best_valid_adapt:\n",
    "#             best_valid_adapt = eval_score_adapt\n",
    "#             torch.save(adapt_model, params['model_dir'] + 'adapt_model_moral.pth')\n",
    "\n",
    "#             # test\n",
    "#             y_preds = []\n",
    "#             y_trues = []\n",
    "#             # evaluate on the test set\n",
    "#             for test_batch in test_data_loader:\n",
    "#                 test_batch = tuple(t.to(device) for t in test_batch)\n",
    "#                 input_docs, input_labels, input_domains = test_batch\n",
    "\n",
    "#                 with torch.no_grad():\n",
    "#                     preds_adapt = adapt_model(**{\n",
    "#                         'input_docs': input_docs,\n",
    "#                     })\n",
    "#                 logits_adapt = (torch.sigmoid(preds_adapt) > .5).long().cpu().numpy()\n",
    "#                 y_preds.extend(logits_adapt)\n",
    "#                 y_trues.extend(input_labels.to('cpu').numpy())\n",
    "\n",
    "#             test_score_adapt = micro_f1_average(y_preds=y_preds, y_truths=y_trues)\n",
    "#             test_score_adapt = 'Test on Adapt RNN, Domain {}, Epoch {}, F1-micro-average {}, Valid Score {}\\n'.format(\n",
    "#                     domain, epoch, test_score_adapt, best_valid_adapt)\n",
    "#             print('Adapt Results: ', test_score_adapt)\n",
    "#             wfile.write(test_score_adapt)"
   ]
  }
 ],
 "metadata": {
  "kernelspec": {
   "display_name": "Python 3",
   "language": "python",
   "name": "python3"
  },
  "language_info": {
   "codemirror_mode": {
    "name": "ipython",
    "version": 3
   },
   "file_extension": ".py",
   "mimetype": "text/x-python",
   "name": "python",
   "nbconvert_exporter": "python",
   "pygments_lexer": "ipython3",
   "version": "3.8.5"
  }
 },
 "nbformat": 4,
 "nbformat_minor": 4
}
